{
  "nbformat": 4,
  "nbformat_minor": 0,
  "metadata": {
    "colab": {
      "provenance": [],
      "gpuType": "T4"
    },
    "kernelspec": {
      "name": "python3",
      "display_name": "Python 3"
    },
    "language_info": {
      "name": "python"
    },
    "accelerator": "GPU"
  },
  "cells": [
    {
      "cell_type": "code",
      "execution_count": 15,
      "metadata": {
        "id": "S0XUJfIJR9C0"
      },
      "outputs": [],
      "source": [
        "import numpy as np\n",
        "import pandas as pd\n",
        "import re\n",
        "import nltk\n",
        "import spacy\n",
        "import string\n",
        "\n",
        "from nltk.corpus import stopwords\n",
        "from nltk.tokenize import word_tokenize\n",
        "from nltk.stem import WordNetLemmatizer\n",
        "\n",
        "from sklearn.feature_extraction.text import CountVectorizer\n",
        "from sklearn.feature_extraction.text import TfidfVectorizer\n",
        "from sklearn.model_selection import train_test_split\n",
        "from keras.preprocessing.text import Tokenizer\n",
        "from keras.preprocessing.sequence import pad_sequences\n",
        "from keras.models import Sequential\n",
        "from keras.layers import Embedding,LSTM,Dense\n",
        "from keras.utils import to_categorical\n",
        "from keras.callbacks import EarlyStopping\n"
      ]
    },
    {
      "cell_type": "code",
      "source": [
        "#load the dataset\n",
        "data = pd.read_csv('/content/tweet_emotions (1).csv')"
      ],
      "metadata": {
        "id": "fI-hEkSmSE1s"
      },
      "execution_count": 2,
      "outputs": []
    },
    {
      "cell_type": "code",
      "source": [
        "data.head()"
      ],
      "metadata": {
        "colab": {
          "base_uri": "https://localhost:8080/",
          "height": 206
        },
        "id": "W95S-KhKTkUB",
        "outputId": "311ca8f0-df1b-4196-aaa4-335a7889c981"
      },
      "execution_count": 3,
      "outputs": [
        {
          "output_type": "execute_result",
          "data": {
            "text/plain": [
              "     tweet_id   sentiment                                            content\n",
              "0  1956967341       empty  @tiffanylue i know  i was listenin to bad habi...\n",
              "1  1956967666     sadness  Layin n bed with a headache  ughhhh...waitin o...\n",
              "2  1956967696     sadness                Funeral ceremony...gloomy friday...\n",
              "3  1956967789  enthusiasm               wants to hang out with friends SOON!\n",
              "4  1956968416     neutral  @dannycastillo We want to trade with someone w..."
            ],
            "text/html": [
              "\n",
              "  <div id=\"df-12fd4e1b-7d25-4bca-ba7a-c2467d867754\" class=\"colab-df-container\">\n",
              "    <div>\n",
              "<style scoped>\n",
              "    .dataframe tbody tr th:only-of-type {\n",
              "        vertical-align: middle;\n",
              "    }\n",
              "\n",
              "    .dataframe tbody tr th {\n",
              "        vertical-align: top;\n",
              "    }\n",
              "\n",
              "    .dataframe thead th {\n",
              "        text-align: right;\n",
              "    }\n",
              "</style>\n",
              "<table border=\"1\" class=\"dataframe\">\n",
              "  <thead>\n",
              "    <tr style=\"text-align: right;\">\n",
              "      <th></th>\n",
              "      <th>tweet_id</th>\n",
              "      <th>sentiment</th>\n",
              "      <th>content</th>\n",
              "    </tr>\n",
              "  </thead>\n",
              "  <tbody>\n",
              "    <tr>\n",
              "      <th>0</th>\n",
              "      <td>1956967341</td>\n",
              "      <td>empty</td>\n",
              "      <td>@tiffanylue i know  i was listenin to bad habi...</td>\n",
              "    </tr>\n",
              "    <tr>\n",
              "      <th>1</th>\n",
              "      <td>1956967666</td>\n",
              "      <td>sadness</td>\n",
              "      <td>Layin n bed with a headache  ughhhh...waitin o...</td>\n",
              "    </tr>\n",
              "    <tr>\n",
              "      <th>2</th>\n",
              "      <td>1956967696</td>\n",
              "      <td>sadness</td>\n",
              "      <td>Funeral ceremony...gloomy friday...</td>\n",
              "    </tr>\n",
              "    <tr>\n",
              "      <th>3</th>\n",
              "      <td>1956967789</td>\n",
              "      <td>enthusiasm</td>\n",
              "      <td>wants to hang out with friends SOON!</td>\n",
              "    </tr>\n",
              "    <tr>\n",
              "      <th>4</th>\n",
              "      <td>1956968416</td>\n",
              "      <td>neutral</td>\n",
              "      <td>@dannycastillo We want to trade with someone w...</td>\n",
              "    </tr>\n",
              "  </tbody>\n",
              "</table>\n",
              "</div>\n",
              "    <div class=\"colab-df-buttons\">\n",
              "\n",
              "  <div class=\"colab-df-container\">\n",
              "    <button class=\"colab-df-convert\" onclick=\"convertToInteractive('df-12fd4e1b-7d25-4bca-ba7a-c2467d867754')\"\n",
              "            title=\"Convert this dataframe to an interactive table.\"\n",
              "            style=\"display:none;\">\n",
              "\n",
              "  <svg xmlns=\"http://www.w3.org/2000/svg\" height=\"24px\" viewBox=\"0 -960 960 960\">\n",
              "    <path d=\"M120-120v-720h720v720H120Zm60-500h600v-160H180v160Zm220 220h160v-160H400v160Zm0 220h160v-160H400v160ZM180-400h160v-160H180v160Zm440 0h160v-160H620v160ZM180-180h160v-160H180v160Zm440 0h160v-160H620v160Z\"/>\n",
              "  </svg>\n",
              "    </button>\n",
              "\n",
              "  <style>\n",
              "    .colab-df-container {\n",
              "      display:flex;\n",
              "      gap: 12px;\n",
              "    }\n",
              "\n",
              "    .colab-df-convert {\n",
              "      background-color: #E8F0FE;\n",
              "      border: none;\n",
              "      border-radius: 50%;\n",
              "      cursor: pointer;\n",
              "      display: none;\n",
              "      fill: #1967D2;\n",
              "      height: 32px;\n",
              "      padding: 0 0 0 0;\n",
              "      width: 32px;\n",
              "    }\n",
              "\n",
              "    .colab-df-convert:hover {\n",
              "      background-color: #E2EBFA;\n",
              "      box-shadow: 0px 1px 2px rgba(60, 64, 67, 0.3), 0px 1px 3px 1px rgba(60, 64, 67, 0.15);\n",
              "      fill: #174EA6;\n",
              "    }\n",
              "\n",
              "    .colab-df-buttons div {\n",
              "      margin-bottom: 4px;\n",
              "    }\n",
              "\n",
              "    [theme=dark] .colab-df-convert {\n",
              "      background-color: #3B4455;\n",
              "      fill: #D2E3FC;\n",
              "    }\n",
              "\n",
              "    [theme=dark] .colab-df-convert:hover {\n",
              "      background-color: #434B5C;\n",
              "      box-shadow: 0px 1px 3px 1px rgba(0, 0, 0, 0.15);\n",
              "      filter: drop-shadow(0px 1px 2px rgba(0, 0, 0, 0.3));\n",
              "      fill: #FFFFFF;\n",
              "    }\n",
              "  </style>\n",
              "\n",
              "    <script>\n",
              "      const buttonEl =\n",
              "        document.querySelector('#df-12fd4e1b-7d25-4bca-ba7a-c2467d867754 button.colab-df-convert');\n",
              "      buttonEl.style.display =\n",
              "        google.colab.kernel.accessAllowed ? 'block' : 'none';\n",
              "\n",
              "      async function convertToInteractive(key) {\n",
              "        const element = document.querySelector('#df-12fd4e1b-7d25-4bca-ba7a-c2467d867754');\n",
              "        const dataTable =\n",
              "          await google.colab.kernel.invokeFunction('convertToInteractive',\n",
              "                                                    [key], {});\n",
              "        if (!dataTable) return;\n",
              "\n",
              "        const docLinkHtml = 'Like what you see? Visit the ' +\n",
              "          '<a target=\"_blank\" href=https://colab.research.google.com/notebooks/data_table.ipynb>data table notebook</a>'\n",
              "          + ' to learn more about interactive tables.';\n",
              "        element.innerHTML = '';\n",
              "        dataTable['output_type'] = 'display_data';\n",
              "        await google.colab.output.renderOutput(dataTable, element);\n",
              "        const docLink = document.createElement('div');\n",
              "        docLink.innerHTML = docLinkHtml;\n",
              "        element.appendChild(docLink);\n",
              "      }\n",
              "    </script>\n",
              "  </div>\n",
              "\n",
              "\n",
              "<div id=\"df-c48465a5-a1fb-4541-8c72-96d4053b190f\">\n",
              "  <button class=\"colab-df-quickchart\" onclick=\"quickchart('df-c48465a5-a1fb-4541-8c72-96d4053b190f')\"\n",
              "            title=\"Suggest charts\"\n",
              "            style=\"display:none;\">\n",
              "\n",
              "<svg xmlns=\"http://www.w3.org/2000/svg\" height=\"24px\"viewBox=\"0 0 24 24\"\n",
              "     width=\"24px\">\n",
              "    <g>\n",
              "        <path d=\"M19 3H5c-1.1 0-2 .9-2 2v14c0 1.1.9 2 2 2h14c1.1 0 2-.9 2-2V5c0-1.1-.9-2-2-2zM9 17H7v-7h2v7zm4 0h-2V7h2v10zm4 0h-2v-4h2v4z\"/>\n",
              "    </g>\n",
              "</svg>\n",
              "  </button>\n",
              "\n",
              "<style>\n",
              "  .colab-df-quickchart {\n",
              "      --bg-color: #E8F0FE;\n",
              "      --fill-color: #1967D2;\n",
              "      --hover-bg-color: #E2EBFA;\n",
              "      --hover-fill-color: #174EA6;\n",
              "      --disabled-fill-color: #AAA;\n",
              "      --disabled-bg-color: #DDD;\n",
              "  }\n",
              "\n",
              "  [theme=dark] .colab-df-quickchart {\n",
              "      --bg-color: #3B4455;\n",
              "      --fill-color: #D2E3FC;\n",
              "      --hover-bg-color: #434B5C;\n",
              "      --hover-fill-color: #FFFFFF;\n",
              "      --disabled-bg-color: #3B4455;\n",
              "      --disabled-fill-color: #666;\n",
              "  }\n",
              "\n",
              "  .colab-df-quickchart {\n",
              "    background-color: var(--bg-color);\n",
              "    border: none;\n",
              "    border-radius: 50%;\n",
              "    cursor: pointer;\n",
              "    display: none;\n",
              "    fill: var(--fill-color);\n",
              "    height: 32px;\n",
              "    padding: 0;\n",
              "    width: 32px;\n",
              "  }\n",
              "\n",
              "  .colab-df-quickchart:hover {\n",
              "    background-color: var(--hover-bg-color);\n",
              "    box-shadow: 0 1px 2px rgba(60, 64, 67, 0.3), 0 1px 3px 1px rgba(60, 64, 67, 0.15);\n",
              "    fill: var(--button-hover-fill-color);\n",
              "  }\n",
              "\n",
              "  .colab-df-quickchart-complete:disabled,\n",
              "  .colab-df-quickchart-complete:disabled:hover {\n",
              "    background-color: var(--disabled-bg-color);\n",
              "    fill: var(--disabled-fill-color);\n",
              "    box-shadow: none;\n",
              "  }\n",
              "\n",
              "  .colab-df-spinner {\n",
              "    border: 2px solid var(--fill-color);\n",
              "    border-color: transparent;\n",
              "    border-bottom-color: var(--fill-color);\n",
              "    animation:\n",
              "      spin 1s steps(1) infinite;\n",
              "  }\n",
              "\n",
              "  @keyframes spin {\n",
              "    0% {\n",
              "      border-color: transparent;\n",
              "      border-bottom-color: var(--fill-color);\n",
              "      border-left-color: var(--fill-color);\n",
              "    }\n",
              "    20% {\n",
              "      border-color: transparent;\n",
              "      border-left-color: var(--fill-color);\n",
              "      border-top-color: var(--fill-color);\n",
              "    }\n",
              "    30% {\n",
              "      border-color: transparent;\n",
              "      border-left-color: var(--fill-color);\n",
              "      border-top-color: var(--fill-color);\n",
              "      border-right-color: var(--fill-color);\n",
              "    }\n",
              "    40% {\n",
              "      border-color: transparent;\n",
              "      border-right-color: var(--fill-color);\n",
              "      border-top-color: var(--fill-color);\n",
              "    }\n",
              "    60% {\n",
              "      border-color: transparent;\n",
              "      border-right-color: var(--fill-color);\n",
              "    }\n",
              "    80% {\n",
              "      border-color: transparent;\n",
              "      border-right-color: var(--fill-color);\n",
              "      border-bottom-color: var(--fill-color);\n",
              "    }\n",
              "    90% {\n",
              "      border-color: transparent;\n",
              "      border-bottom-color: var(--fill-color);\n",
              "    }\n",
              "  }\n",
              "</style>\n",
              "\n",
              "  <script>\n",
              "    async function quickchart(key) {\n",
              "      const quickchartButtonEl =\n",
              "        document.querySelector('#' + key + ' button');\n",
              "      quickchartButtonEl.disabled = true;  // To prevent multiple clicks.\n",
              "      quickchartButtonEl.classList.add('colab-df-spinner');\n",
              "      try {\n",
              "        const charts = await google.colab.kernel.invokeFunction(\n",
              "            'suggestCharts', [key], {});\n",
              "      } catch (error) {\n",
              "        console.error('Error during call to suggestCharts:', error);\n",
              "      }\n",
              "      quickchartButtonEl.classList.remove('colab-df-spinner');\n",
              "      quickchartButtonEl.classList.add('colab-df-quickchart-complete');\n",
              "    }\n",
              "    (() => {\n",
              "      let quickchartButtonEl =\n",
              "        document.querySelector('#df-c48465a5-a1fb-4541-8c72-96d4053b190f button');\n",
              "      quickchartButtonEl.style.display =\n",
              "        google.colab.kernel.accessAllowed ? 'block' : 'none';\n",
              "    })();\n",
              "  </script>\n",
              "</div>\n",
              "\n",
              "    </div>\n",
              "  </div>\n"
            ]
          },
          "metadata": {},
          "execution_count": 3
        }
      ]
    },
    {
      "cell_type": "code",
      "source": [
        "data.shape"
      ],
      "metadata": {
        "colab": {
          "base_uri": "https://localhost:8080/"
        },
        "id": "U49Cm92oToUL",
        "outputId": "e8a5f2fe-926f-4d88-cef3-12b134f99ba8"
      },
      "execution_count": 4,
      "outputs": [
        {
          "output_type": "execute_result",
          "data": {
            "text/plain": [
              "(40000, 3)"
            ]
          },
          "metadata": {},
          "execution_count": 4
        }
      ]
    },
    {
      "cell_type": "code",
      "source": [
        "data.dtypes"
      ],
      "metadata": {
        "colab": {
          "base_uri": "https://localhost:8080/"
        },
        "id": "O99kM-BvVEXK",
        "outputId": "bc03dfc0-af0a-4cd5-bc3f-d4f882d2e469"
      },
      "execution_count": 5,
      "outputs": [
        {
          "output_type": "execute_result",
          "data": {
            "text/plain": [
              "tweet_id      int64\n",
              "sentiment    object\n",
              "content      object\n",
              "dtype: object"
            ]
          },
          "metadata": {},
          "execution_count": 5
        }
      ]
    },
    {
      "cell_type": "code",
      "source": [
        "#Summary of the dataset\n",
        "data.describe()"
      ],
      "metadata": {
        "colab": {
          "base_uri": "https://localhost:8080/",
          "height": 300
        },
        "id": "bpF6P4E8VJme",
        "outputId": "20d7472e-3564-4718-d466-5efc7d4939e7"
      },
      "execution_count": 6,
      "outputs": [
        {
          "output_type": "execute_result",
          "data": {
            "text/plain": [
              "           tweet_id\n",
              "count  4.000000e+04\n",
              "mean   1.845184e+09\n",
              "std    1.188579e+08\n",
              "min    1.693956e+09\n",
              "25%    1.751431e+09\n",
              "50%    1.855443e+09\n",
              "75%    1.962781e+09\n",
              "max    1.966441e+09"
            ],
            "text/html": [
              "\n",
              "  <div id=\"df-9061b825-590d-4763-98a7-5d24e72e4dc5\" class=\"colab-df-container\">\n",
              "    <div>\n",
              "<style scoped>\n",
              "    .dataframe tbody tr th:only-of-type {\n",
              "        vertical-align: middle;\n",
              "    }\n",
              "\n",
              "    .dataframe tbody tr th {\n",
              "        vertical-align: top;\n",
              "    }\n",
              "\n",
              "    .dataframe thead th {\n",
              "        text-align: right;\n",
              "    }\n",
              "</style>\n",
              "<table border=\"1\" class=\"dataframe\">\n",
              "  <thead>\n",
              "    <tr style=\"text-align: right;\">\n",
              "      <th></th>\n",
              "      <th>tweet_id</th>\n",
              "    </tr>\n",
              "  </thead>\n",
              "  <tbody>\n",
              "    <tr>\n",
              "      <th>count</th>\n",
              "      <td>4.000000e+04</td>\n",
              "    </tr>\n",
              "    <tr>\n",
              "      <th>mean</th>\n",
              "      <td>1.845184e+09</td>\n",
              "    </tr>\n",
              "    <tr>\n",
              "      <th>std</th>\n",
              "      <td>1.188579e+08</td>\n",
              "    </tr>\n",
              "    <tr>\n",
              "      <th>min</th>\n",
              "      <td>1.693956e+09</td>\n",
              "    </tr>\n",
              "    <tr>\n",
              "      <th>25%</th>\n",
              "      <td>1.751431e+09</td>\n",
              "    </tr>\n",
              "    <tr>\n",
              "      <th>50%</th>\n",
              "      <td>1.855443e+09</td>\n",
              "    </tr>\n",
              "    <tr>\n",
              "      <th>75%</th>\n",
              "      <td>1.962781e+09</td>\n",
              "    </tr>\n",
              "    <tr>\n",
              "      <th>max</th>\n",
              "      <td>1.966441e+09</td>\n",
              "    </tr>\n",
              "  </tbody>\n",
              "</table>\n",
              "</div>\n",
              "    <div class=\"colab-df-buttons\">\n",
              "\n",
              "  <div class=\"colab-df-container\">\n",
              "    <button class=\"colab-df-convert\" onclick=\"convertToInteractive('df-9061b825-590d-4763-98a7-5d24e72e4dc5')\"\n",
              "            title=\"Convert this dataframe to an interactive table.\"\n",
              "            style=\"display:none;\">\n",
              "\n",
              "  <svg xmlns=\"http://www.w3.org/2000/svg\" height=\"24px\" viewBox=\"0 -960 960 960\">\n",
              "    <path d=\"M120-120v-720h720v720H120Zm60-500h600v-160H180v160Zm220 220h160v-160H400v160Zm0 220h160v-160H400v160ZM180-400h160v-160H180v160Zm440 0h160v-160H620v160ZM180-180h160v-160H180v160Zm440 0h160v-160H620v160Z\"/>\n",
              "  </svg>\n",
              "    </button>\n",
              "\n",
              "  <style>\n",
              "    .colab-df-container {\n",
              "      display:flex;\n",
              "      gap: 12px;\n",
              "    }\n",
              "\n",
              "    .colab-df-convert {\n",
              "      background-color: #E8F0FE;\n",
              "      border: none;\n",
              "      border-radius: 50%;\n",
              "      cursor: pointer;\n",
              "      display: none;\n",
              "      fill: #1967D2;\n",
              "      height: 32px;\n",
              "      padding: 0 0 0 0;\n",
              "      width: 32px;\n",
              "    }\n",
              "\n",
              "    .colab-df-convert:hover {\n",
              "      background-color: #E2EBFA;\n",
              "      box-shadow: 0px 1px 2px rgba(60, 64, 67, 0.3), 0px 1px 3px 1px rgba(60, 64, 67, 0.15);\n",
              "      fill: #174EA6;\n",
              "    }\n",
              "\n",
              "    .colab-df-buttons div {\n",
              "      margin-bottom: 4px;\n",
              "    }\n",
              "\n",
              "    [theme=dark] .colab-df-convert {\n",
              "      background-color: #3B4455;\n",
              "      fill: #D2E3FC;\n",
              "    }\n",
              "\n",
              "    [theme=dark] .colab-df-convert:hover {\n",
              "      background-color: #434B5C;\n",
              "      box-shadow: 0px 1px 3px 1px rgba(0, 0, 0, 0.15);\n",
              "      filter: drop-shadow(0px 1px 2px rgba(0, 0, 0, 0.3));\n",
              "      fill: #FFFFFF;\n",
              "    }\n",
              "  </style>\n",
              "\n",
              "    <script>\n",
              "      const buttonEl =\n",
              "        document.querySelector('#df-9061b825-590d-4763-98a7-5d24e72e4dc5 button.colab-df-convert');\n",
              "      buttonEl.style.display =\n",
              "        google.colab.kernel.accessAllowed ? 'block' : 'none';\n",
              "\n",
              "      async function convertToInteractive(key) {\n",
              "        const element = document.querySelector('#df-9061b825-590d-4763-98a7-5d24e72e4dc5');\n",
              "        const dataTable =\n",
              "          await google.colab.kernel.invokeFunction('convertToInteractive',\n",
              "                                                    [key], {});\n",
              "        if (!dataTable) return;\n",
              "\n",
              "        const docLinkHtml = 'Like what you see? Visit the ' +\n",
              "          '<a target=\"_blank\" href=https://colab.research.google.com/notebooks/data_table.ipynb>data table notebook</a>'\n",
              "          + ' to learn more about interactive tables.';\n",
              "        element.innerHTML = '';\n",
              "        dataTable['output_type'] = 'display_data';\n",
              "        await google.colab.output.renderOutput(dataTable, element);\n",
              "        const docLink = document.createElement('div');\n",
              "        docLink.innerHTML = docLinkHtml;\n",
              "        element.appendChild(docLink);\n",
              "      }\n",
              "    </script>\n",
              "  </div>\n",
              "\n",
              "\n",
              "<div id=\"df-b82594d0-6e47-4489-a7da-ce693f10da35\">\n",
              "  <button class=\"colab-df-quickchart\" onclick=\"quickchart('df-b82594d0-6e47-4489-a7da-ce693f10da35')\"\n",
              "            title=\"Suggest charts\"\n",
              "            style=\"display:none;\">\n",
              "\n",
              "<svg xmlns=\"http://www.w3.org/2000/svg\" height=\"24px\"viewBox=\"0 0 24 24\"\n",
              "     width=\"24px\">\n",
              "    <g>\n",
              "        <path d=\"M19 3H5c-1.1 0-2 .9-2 2v14c0 1.1.9 2 2 2h14c1.1 0 2-.9 2-2V5c0-1.1-.9-2-2-2zM9 17H7v-7h2v7zm4 0h-2V7h2v10zm4 0h-2v-4h2v4z\"/>\n",
              "    </g>\n",
              "</svg>\n",
              "  </button>\n",
              "\n",
              "<style>\n",
              "  .colab-df-quickchart {\n",
              "      --bg-color: #E8F0FE;\n",
              "      --fill-color: #1967D2;\n",
              "      --hover-bg-color: #E2EBFA;\n",
              "      --hover-fill-color: #174EA6;\n",
              "      --disabled-fill-color: #AAA;\n",
              "      --disabled-bg-color: #DDD;\n",
              "  }\n",
              "\n",
              "  [theme=dark] .colab-df-quickchart {\n",
              "      --bg-color: #3B4455;\n",
              "      --fill-color: #D2E3FC;\n",
              "      --hover-bg-color: #434B5C;\n",
              "      --hover-fill-color: #FFFFFF;\n",
              "      --disabled-bg-color: #3B4455;\n",
              "      --disabled-fill-color: #666;\n",
              "  }\n",
              "\n",
              "  .colab-df-quickchart {\n",
              "    background-color: var(--bg-color);\n",
              "    border: none;\n",
              "    border-radius: 50%;\n",
              "    cursor: pointer;\n",
              "    display: none;\n",
              "    fill: var(--fill-color);\n",
              "    height: 32px;\n",
              "    padding: 0;\n",
              "    width: 32px;\n",
              "  }\n",
              "\n",
              "  .colab-df-quickchart:hover {\n",
              "    background-color: var(--hover-bg-color);\n",
              "    box-shadow: 0 1px 2px rgba(60, 64, 67, 0.3), 0 1px 3px 1px rgba(60, 64, 67, 0.15);\n",
              "    fill: var(--button-hover-fill-color);\n",
              "  }\n",
              "\n",
              "  .colab-df-quickchart-complete:disabled,\n",
              "  .colab-df-quickchart-complete:disabled:hover {\n",
              "    background-color: var(--disabled-bg-color);\n",
              "    fill: var(--disabled-fill-color);\n",
              "    box-shadow: none;\n",
              "  }\n",
              "\n",
              "  .colab-df-spinner {\n",
              "    border: 2px solid var(--fill-color);\n",
              "    border-color: transparent;\n",
              "    border-bottom-color: var(--fill-color);\n",
              "    animation:\n",
              "      spin 1s steps(1) infinite;\n",
              "  }\n",
              "\n",
              "  @keyframes spin {\n",
              "    0% {\n",
              "      border-color: transparent;\n",
              "      border-bottom-color: var(--fill-color);\n",
              "      border-left-color: var(--fill-color);\n",
              "    }\n",
              "    20% {\n",
              "      border-color: transparent;\n",
              "      border-left-color: var(--fill-color);\n",
              "      border-top-color: var(--fill-color);\n",
              "    }\n",
              "    30% {\n",
              "      border-color: transparent;\n",
              "      border-left-color: var(--fill-color);\n",
              "      border-top-color: var(--fill-color);\n",
              "      border-right-color: var(--fill-color);\n",
              "    }\n",
              "    40% {\n",
              "      border-color: transparent;\n",
              "      border-right-color: var(--fill-color);\n",
              "      border-top-color: var(--fill-color);\n",
              "    }\n",
              "    60% {\n",
              "      border-color: transparent;\n",
              "      border-right-color: var(--fill-color);\n",
              "    }\n",
              "    80% {\n",
              "      border-color: transparent;\n",
              "      border-right-color: var(--fill-color);\n",
              "      border-bottom-color: var(--fill-color);\n",
              "    }\n",
              "    90% {\n",
              "      border-color: transparent;\n",
              "      border-bottom-color: var(--fill-color);\n",
              "    }\n",
              "  }\n",
              "</style>\n",
              "\n",
              "  <script>\n",
              "    async function quickchart(key) {\n",
              "      const quickchartButtonEl =\n",
              "        document.querySelector('#' + key + ' button');\n",
              "      quickchartButtonEl.disabled = true;  // To prevent multiple clicks.\n",
              "      quickchartButtonEl.classList.add('colab-df-spinner');\n",
              "      try {\n",
              "        const charts = await google.colab.kernel.invokeFunction(\n",
              "            'suggestCharts', [key], {});\n",
              "      } catch (error) {\n",
              "        console.error('Error during call to suggestCharts:', error);\n",
              "      }\n",
              "      quickchartButtonEl.classList.remove('colab-df-spinner');\n",
              "      quickchartButtonEl.classList.add('colab-df-quickchart-complete');\n",
              "    }\n",
              "    (() => {\n",
              "      let quickchartButtonEl =\n",
              "        document.querySelector('#df-b82594d0-6e47-4489-a7da-ce693f10da35 button');\n",
              "      quickchartButtonEl.style.display =\n",
              "        google.colab.kernel.accessAllowed ? 'block' : 'none';\n",
              "    })();\n",
              "  </script>\n",
              "</div>\n",
              "\n",
              "    </div>\n",
              "  </div>\n"
            ]
          },
          "metadata": {},
          "execution_count": 6
        }
      ]
    },
    {
      "cell_type": "code",
      "source": [
        "# Checking for null values\n",
        "data.isna().sum()"
      ],
      "metadata": {
        "colab": {
          "base_uri": "https://localhost:8080/"
        },
        "id": "Sh2EQzjqVScs",
        "outputId": "3ae6a1a6-16a0-4429-e107-7cc77bc90816"
      },
      "execution_count": 7,
      "outputs": [
        {
          "output_type": "execute_result",
          "data": {
            "text/plain": [
              "tweet_id     0\n",
              "sentiment    0\n",
              "content      0\n",
              "dtype: int64"
            ]
          },
          "metadata": {},
          "execution_count": 7
        }
      ]
    },
    {
      "cell_type": "code",
      "source": [
        "#no null values present"
      ],
      "metadata": {
        "id": "i7UAwIgoVWKz"
      },
      "execution_count": 8,
      "outputs": []
    },
    {
      "cell_type": "code",
      "source": [
        "data['content'][1]"
      ],
      "metadata": {
        "colab": {
          "base_uri": "https://localhost:8080/",
          "height": 35
        },
        "id": "T0PKecASVcaH",
        "outputId": "56da1b56-8b99-4eb4-ce41-f7036959914b"
      },
      "execution_count": 9,
      "outputs": [
        {
          "output_type": "execute_result",
          "data": {
            "text/plain": [
              "'Layin n bed with a headache  ughhhh...waitin on your call...'"
            ],
            "application/vnd.google.colaboratory.intrinsic+json": {
              "type": "string"
            }
          },
          "metadata": {},
          "execution_count": 9
        }
      ]
    },
    {
      "cell_type": "code",
      "source": [
        "#sentiment count\n",
        "data['sentiment'].value_counts()"
      ],
      "metadata": {
        "colab": {
          "base_uri": "https://localhost:8080/"
        },
        "id": "Y7d6AsGrVrHh",
        "outputId": "82ac62df-f02b-4af1-f931-709e82a2f0e6"
      },
      "execution_count": 10,
      "outputs": [
        {
          "output_type": "execute_result",
          "data": {
            "text/plain": [
              "neutral       8638\n",
              "worry         8459\n",
              "happiness     5209\n",
              "sadness       5165\n",
              "love          3842\n",
              "surprise      2187\n",
              "fun           1776\n",
              "relief        1526\n",
              "hate          1323\n",
              "empty          827\n",
              "enthusiasm     759\n",
              "boredom        179\n",
              "anger          110\n",
              "Name: sentiment, dtype: int64"
            ]
          },
          "metadata": {},
          "execution_count": 10
        }
      ]
    },
    {
      "cell_type": "code",
      "source": [
        "# Checking for duplicate values\n",
        "data.duplicated().sum()"
      ],
      "metadata": {
        "colab": {
          "base_uri": "https://localhost:8080/"
        },
        "id": "Ck2d3XQJXK4f",
        "outputId": "16117387-30cf-41be-9002-32571900e40f"
      },
      "execution_count": 11,
      "outputs": [
        {
          "output_type": "execute_result",
          "data": {
            "text/plain": [
              "0"
            ]
          },
          "metadata": {},
          "execution_count": 11
        }
      ]
    },
    {
      "cell_type": "code",
      "source": [
        "# No duplicate values present"
      ],
      "metadata": {
        "id": "ZBZjqVUtXQk1"
      },
      "execution_count": 12,
      "outputs": []
    },
    {
      "cell_type": "markdown",
      "source": [
        "***Basic Preprocessing***\n",
        "\n",
        "*   Removing tags\n",
        "*   lowercasing\n",
        "*   removing punctuations\n",
        "*   removing stopwords\n",
        "*   lemmatization"
      ],
      "metadata": {
        "id": "EhCA1YgAXcw5"
      }
    },
    {
      "cell_type": "markdown",
      "source": [
        "Removing tags:"
      ],
      "metadata": {
        "id": "9qPEH_2SYEbi"
      }
    },
    {
      "cell_type": "code",
      "source": [
        "def remove_tags(raw_text):\n",
        "    cleaned_text = re.sub(r'[^a-zA-Z\\s]', '', str(raw_text))\n",
        "    return cleaned_text\n",
        "\n",
        "data['content'] = data['content'].apply(remove_tags)"
      ],
      "metadata": {
        "id": "9d2kAcJDZiTs"
      },
      "execution_count": 16,
      "outputs": []
    },
    {
      "cell_type": "code",
      "source": [
        "data['content'][1]"
      ],
      "metadata": {
        "colab": {
          "base_uri": "https://localhost:8080/",
          "height": 35
        },
        "id": "XuX55W4HYNrL",
        "outputId": "96b3a9a8-9e63-4bca-8e34-b68365769e3f"
      },
      "execution_count": 17,
      "outputs": [
        {
          "output_type": "execute_result",
          "data": {
            "text/plain": [
              "'Layin n bed with a headache  ughhhhwaitin on your call'"
            ],
            "application/vnd.google.colaboratory.intrinsic+json": {
              "type": "string"
            }
          },
          "metadata": {},
          "execution_count": 17
        }
      ]
    },
    {
      "cell_type": "markdown",
      "source": [
        "Lowercasing:"
      ],
      "metadata": {
        "id": "thAKAncPYj_s"
      }
    },
    {
      "cell_type": "code",
      "source": [
        "data['content'] = data['content'].apply(lambda x:x.lower())"
      ],
      "metadata": {
        "id": "-glcpUpraBMM"
      },
      "execution_count": 18,
      "outputs": []
    },
    {
      "cell_type": "markdown",
      "source": [
        "Removing Punctuations:"
      ],
      "metadata": {
        "id": "XIz0XL3QYxpn"
      }
    },
    {
      "cell_type": "code",
      "source": [
        "PUNCT_TO_REMOVE = string.punctuation\n",
        "def remove_punctuation(text):\n",
        "    \"\"\"custom function to remove the punctuation\"\"\"\n",
        "    return text.translate(str.maketrans('', '', PUNCT_TO_REMOVE))\n",
        "\n",
        "\n",
        "data['content'] = data['content'].apply(lambda text: remove_punctuation(text))"
      ],
      "metadata": {
        "id": "GFX9BN02Ys0M"
      },
      "execution_count": 19,
      "outputs": []
    },
    {
      "cell_type": "code",
      "source": [
        "data['content'][1]"
      ],
      "metadata": {
        "colab": {
          "base_uri": "https://localhost:8080/",
          "height": 35
        },
        "id": "gPnwOp3OY6aA",
        "outputId": "7561e2fb-a96e-476a-c847-d99a55db102b"
      },
      "execution_count": 20,
      "outputs": [
        {
          "output_type": "execute_result",
          "data": {
            "text/plain": [
              "'layin n bed with a headache  ughhhhwaitin on your call'"
            ],
            "application/vnd.google.colaboratory.intrinsic+json": {
              "type": "string"
            }
          },
          "metadata": {},
          "execution_count": 20
        }
      ]
    },
    {
      "cell_type": "markdown",
      "source": [
        "Removing stopwords:"
      ],
      "metadata": {
        "id": "zNG0pgxDaxZo"
      }
    },
    {
      "cell_type": "code",
      "source": [
        "import nltk\n",
        "from nltk.corpus import stopwords"
      ],
      "metadata": {
        "id": "o0yXI3oDcRKk"
      },
      "execution_count": 21,
      "outputs": []
    },
    {
      "cell_type": "code",
      "source": [
        "nltk.download('stopwords')"
      ],
      "metadata": {
        "colab": {
          "base_uri": "https://localhost:8080/"
        },
        "id": "eJYvaEVKcYfV",
        "outputId": "63a9df58-5d6a-4dcf-d93e-4fbe79c51a64"
      },
      "execution_count": 22,
      "outputs": [
        {
          "output_type": "stream",
          "name": "stderr",
          "text": [
            "[nltk_data] Downloading package stopwords to /root/nltk_data...\n",
            "[nltk_data]   Unzipping corpora/stopwords.zip.\n"
          ]
        },
        {
          "output_type": "execute_result",
          "data": {
            "text/plain": [
              "True"
            ]
          },
          "metadata": {},
          "execution_count": 22
        }
      ]
    },
    {
      "cell_type": "code",
      "source": [
        "# Load the stopwords list\n",
        "sw_list = stopwords.words('english')"
      ],
      "metadata": {
        "id": "I0HK0rXAcdfm"
      },
      "execution_count": 23,
      "outputs": []
    },
    {
      "cell_type": "code",
      "source": [
        "# Remove stopwords from the 'review' column\n",
        "data['content'] = data['content'].apply(lambda x: [item for item in x.split() if item not in sw_list]).apply(lambda x: \" \".join(x))\n",
        "\n",
        "# Print the updated DataFrame\n",
        "print(data)"
      ],
      "metadata": {
        "colab": {
          "base_uri": "https://localhost:8080/"
        },
        "id": "qeBThEvpchm2",
        "outputId": "e1e99734-a8ba-42ca-acb7-55532c7e7a6f"
      },
      "execution_count": 24,
      "outputs": [
        {
          "output_type": "stream",
          "name": "stdout",
          "text": [
            "         tweet_id   sentiment  \\\n",
            "0      1956967341       empty   \n",
            "1      1956967666     sadness   \n",
            "2      1956967696     sadness   \n",
            "3      1956967789  enthusiasm   \n",
            "4      1956968416     neutral   \n",
            "...           ...         ...   \n",
            "39995  1753918954     neutral   \n",
            "39996  1753919001        love   \n",
            "39997  1753919005        love   \n",
            "39998  1753919043   happiness   \n",
            "39999  1753919049        love   \n",
            "\n",
            "                                                 content  \n",
            "0      tiffanylue know listenin bad habit earlier sta...  \n",
            "1                 layin n bed headache ughhhhwaitin call  \n",
            "2                          funeral ceremonygloomy friday  \n",
            "3                                wants hang friends soon  \n",
            "4      dannycastillo want trade someone houston ticke...  \n",
            "...                                                  ...  \n",
            "39995                                    johnlloydtaylor  \n",
            "39996                             happy mothers day love  \n",
            "39997  happy mothers day mommies woman man long youre...  \n",
            "39998  niariley wassup beautiful follow peep new hit ...  \n",
            "39999  mopedronin bullet train tokyo gf visiting japa...  \n",
            "\n",
            "[40000 rows x 3 columns]\n"
          ]
        }
      ]
    },
    {
      "cell_type": "code",
      "source": [
        "data.head()"
      ],
      "metadata": {
        "colab": {
          "base_uri": "https://localhost:8080/",
          "height": 206
        },
        "id": "euR5VC1bbwSC",
        "outputId": "eaf78a18-3edd-42b2-acfc-e8c66bfa173d"
      },
      "execution_count": 25,
      "outputs": [
        {
          "output_type": "execute_result",
          "data": {
            "text/plain": [
              "     tweet_id   sentiment                                            content\n",
              "0  1956967341       empty  tiffanylue know listenin bad habit earlier sta...\n",
              "1  1956967666     sadness             layin n bed headache ughhhhwaitin call\n",
              "2  1956967696     sadness                      funeral ceremonygloomy friday\n",
              "3  1956967789  enthusiasm                            wants hang friends soon\n",
              "4  1956968416     neutral  dannycastillo want trade someone houston ticke..."
            ],
            "text/html": [
              "\n",
              "  <div id=\"df-a7388ab1-4a86-4222-a0d1-e099d1de5b09\" class=\"colab-df-container\">\n",
              "    <div>\n",
              "<style scoped>\n",
              "    .dataframe tbody tr th:only-of-type {\n",
              "        vertical-align: middle;\n",
              "    }\n",
              "\n",
              "    .dataframe tbody tr th {\n",
              "        vertical-align: top;\n",
              "    }\n",
              "\n",
              "    .dataframe thead th {\n",
              "        text-align: right;\n",
              "    }\n",
              "</style>\n",
              "<table border=\"1\" class=\"dataframe\">\n",
              "  <thead>\n",
              "    <tr style=\"text-align: right;\">\n",
              "      <th></th>\n",
              "      <th>tweet_id</th>\n",
              "      <th>sentiment</th>\n",
              "      <th>content</th>\n",
              "    </tr>\n",
              "  </thead>\n",
              "  <tbody>\n",
              "    <tr>\n",
              "      <th>0</th>\n",
              "      <td>1956967341</td>\n",
              "      <td>empty</td>\n",
              "      <td>tiffanylue know listenin bad habit earlier sta...</td>\n",
              "    </tr>\n",
              "    <tr>\n",
              "      <th>1</th>\n",
              "      <td>1956967666</td>\n",
              "      <td>sadness</td>\n",
              "      <td>layin n bed headache ughhhhwaitin call</td>\n",
              "    </tr>\n",
              "    <tr>\n",
              "      <th>2</th>\n",
              "      <td>1956967696</td>\n",
              "      <td>sadness</td>\n",
              "      <td>funeral ceremonygloomy friday</td>\n",
              "    </tr>\n",
              "    <tr>\n",
              "      <th>3</th>\n",
              "      <td>1956967789</td>\n",
              "      <td>enthusiasm</td>\n",
              "      <td>wants hang friends soon</td>\n",
              "    </tr>\n",
              "    <tr>\n",
              "      <th>4</th>\n",
              "      <td>1956968416</td>\n",
              "      <td>neutral</td>\n",
              "      <td>dannycastillo want trade someone houston ticke...</td>\n",
              "    </tr>\n",
              "  </tbody>\n",
              "</table>\n",
              "</div>\n",
              "    <div class=\"colab-df-buttons\">\n",
              "\n",
              "  <div class=\"colab-df-container\">\n",
              "    <button class=\"colab-df-convert\" onclick=\"convertToInteractive('df-a7388ab1-4a86-4222-a0d1-e099d1de5b09')\"\n",
              "            title=\"Convert this dataframe to an interactive table.\"\n",
              "            style=\"display:none;\">\n",
              "\n",
              "  <svg xmlns=\"http://www.w3.org/2000/svg\" height=\"24px\" viewBox=\"0 -960 960 960\">\n",
              "    <path d=\"M120-120v-720h720v720H120Zm60-500h600v-160H180v160Zm220 220h160v-160H400v160Zm0 220h160v-160H400v160ZM180-400h160v-160H180v160Zm440 0h160v-160H620v160ZM180-180h160v-160H180v160Zm440 0h160v-160H620v160Z\"/>\n",
              "  </svg>\n",
              "    </button>\n",
              "\n",
              "  <style>\n",
              "    .colab-df-container {\n",
              "      display:flex;\n",
              "      gap: 12px;\n",
              "    }\n",
              "\n",
              "    .colab-df-convert {\n",
              "      background-color: #E8F0FE;\n",
              "      border: none;\n",
              "      border-radius: 50%;\n",
              "      cursor: pointer;\n",
              "      display: none;\n",
              "      fill: #1967D2;\n",
              "      height: 32px;\n",
              "      padding: 0 0 0 0;\n",
              "      width: 32px;\n",
              "    }\n",
              "\n",
              "    .colab-df-convert:hover {\n",
              "      background-color: #E2EBFA;\n",
              "      box-shadow: 0px 1px 2px rgba(60, 64, 67, 0.3), 0px 1px 3px 1px rgba(60, 64, 67, 0.15);\n",
              "      fill: #174EA6;\n",
              "    }\n",
              "\n",
              "    .colab-df-buttons div {\n",
              "      margin-bottom: 4px;\n",
              "    }\n",
              "\n",
              "    [theme=dark] .colab-df-convert {\n",
              "      background-color: #3B4455;\n",
              "      fill: #D2E3FC;\n",
              "    }\n",
              "\n",
              "    [theme=dark] .colab-df-convert:hover {\n",
              "      background-color: #434B5C;\n",
              "      box-shadow: 0px 1px 3px 1px rgba(0, 0, 0, 0.15);\n",
              "      filter: drop-shadow(0px 1px 2px rgba(0, 0, 0, 0.3));\n",
              "      fill: #FFFFFF;\n",
              "    }\n",
              "  </style>\n",
              "\n",
              "    <script>\n",
              "      const buttonEl =\n",
              "        document.querySelector('#df-a7388ab1-4a86-4222-a0d1-e099d1de5b09 button.colab-df-convert');\n",
              "      buttonEl.style.display =\n",
              "        google.colab.kernel.accessAllowed ? 'block' : 'none';\n",
              "\n",
              "      async function convertToInteractive(key) {\n",
              "        const element = document.querySelector('#df-a7388ab1-4a86-4222-a0d1-e099d1de5b09');\n",
              "        const dataTable =\n",
              "          await google.colab.kernel.invokeFunction('convertToInteractive',\n",
              "                                                    [key], {});\n",
              "        if (!dataTable) return;\n",
              "\n",
              "        const docLinkHtml = 'Like what you see? Visit the ' +\n",
              "          '<a target=\"_blank\" href=https://colab.research.google.com/notebooks/data_table.ipynb>data table notebook</a>'\n",
              "          + ' to learn more about interactive tables.';\n",
              "        element.innerHTML = '';\n",
              "        dataTable['output_type'] = 'display_data';\n",
              "        await google.colab.output.renderOutput(dataTable, element);\n",
              "        const docLink = document.createElement('div');\n",
              "        docLink.innerHTML = docLinkHtml;\n",
              "        element.appendChild(docLink);\n",
              "      }\n",
              "    </script>\n",
              "  </div>\n",
              "\n",
              "\n",
              "<div id=\"df-8666cdd1-e2b7-4861-9a84-e9181c0972f8\">\n",
              "  <button class=\"colab-df-quickchart\" onclick=\"quickchart('df-8666cdd1-e2b7-4861-9a84-e9181c0972f8')\"\n",
              "            title=\"Suggest charts\"\n",
              "            style=\"display:none;\">\n",
              "\n",
              "<svg xmlns=\"http://www.w3.org/2000/svg\" height=\"24px\"viewBox=\"0 0 24 24\"\n",
              "     width=\"24px\">\n",
              "    <g>\n",
              "        <path d=\"M19 3H5c-1.1 0-2 .9-2 2v14c0 1.1.9 2 2 2h14c1.1 0 2-.9 2-2V5c0-1.1-.9-2-2-2zM9 17H7v-7h2v7zm4 0h-2V7h2v10zm4 0h-2v-4h2v4z\"/>\n",
              "    </g>\n",
              "</svg>\n",
              "  </button>\n",
              "\n",
              "<style>\n",
              "  .colab-df-quickchart {\n",
              "      --bg-color: #E8F0FE;\n",
              "      --fill-color: #1967D2;\n",
              "      --hover-bg-color: #E2EBFA;\n",
              "      --hover-fill-color: #174EA6;\n",
              "      --disabled-fill-color: #AAA;\n",
              "      --disabled-bg-color: #DDD;\n",
              "  }\n",
              "\n",
              "  [theme=dark] .colab-df-quickchart {\n",
              "      --bg-color: #3B4455;\n",
              "      --fill-color: #D2E3FC;\n",
              "      --hover-bg-color: #434B5C;\n",
              "      --hover-fill-color: #FFFFFF;\n",
              "      --disabled-bg-color: #3B4455;\n",
              "      --disabled-fill-color: #666;\n",
              "  }\n",
              "\n",
              "  .colab-df-quickchart {\n",
              "    background-color: var(--bg-color);\n",
              "    border: none;\n",
              "    border-radius: 50%;\n",
              "    cursor: pointer;\n",
              "    display: none;\n",
              "    fill: var(--fill-color);\n",
              "    height: 32px;\n",
              "    padding: 0;\n",
              "    width: 32px;\n",
              "  }\n",
              "\n",
              "  .colab-df-quickchart:hover {\n",
              "    background-color: var(--hover-bg-color);\n",
              "    box-shadow: 0 1px 2px rgba(60, 64, 67, 0.3), 0 1px 3px 1px rgba(60, 64, 67, 0.15);\n",
              "    fill: var(--button-hover-fill-color);\n",
              "  }\n",
              "\n",
              "  .colab-df-quickchart-complete:disabled,\n",
              "  .colab-df-quickchart-complete:disabled:hover {\n",
              "    background-color: var(--disabled-bg-color);\n",
              "    fill: var(--disabled-fill-color);\n",
              "    box-shadow: none;\n",
              "  }\n",
              "\n",
              "  .colab-df-spinner {\n",
              "    border: 2px solid var(--fill-color);\n",
              "    border-color: transparent;\n",
              "    border-bottom-color: var(--fill-color);\n",
              "    animation:\n",
              "      spin 1s steps(1) infinite;\n",
              "  }\n",
              "\n",
              "  @keyframes spin {\n",
              "    0% {\n",
              "      border-color: transparent;\n",
              "      border-bottom-color: var(--fill-color);\n",
              "      border-left-color: var(--fill-color);\n",
              "    }\n",
              "    20% {\n",
              "      border-color: transparent;\n",
              "      border-left-color: var(--fill-color);\n",
              "      border-top-color: var(--fill-color);\n",
              "    }\n",
              "    30% {\n",
              "      border-color: transparent;\n",
              "      border-left-color: var(--fill-color);\n",
              "      border-top-color: var(--fill-color);\n",
              "      border-right-color: var(--fill-color);\n",
              "    }\n",
              "    40% {\n",
              "      border-color: transparent;\n",
              "      border-right-color: var(--fill-color);\n",
              "      border-top-color: var(--fill-color);\n",
              "    }\n",
              "    60% {\n",
              "      border-color: transparent;\n",
              "      border-right-color: var(--fill-color);\n",
              "    }\n",
              "    80% {\n",
              "      border-color: transparent;\n",
              "      border-right-color: var(--fill-color);\n",
              "      border-bottom-color: var(--fill-color);\n",
              "    }\n",
              "    90% {\n",
              "      border-color: transparent;\n",
              "      border-bottom-color: var(--fill-color);\n",
              "    }\n",
              "  }\n",
              "</style>\n",
              "\n",
              "  <script>\n",
              "    async function quickchart(key) {\n",
              "      const quickchartButtonEl =\n",
              "        document.querySelector('#' + key + ' button');\n",
              "      quickchartButtonEl.disabled = true;  // To prevent multiple clicks.\n",
              "      quickchartButtonEl.classList.add('colab-df-spinner');\n",
              "      try {\n",
              "        const charts = await google.colab.kernel.invokeFunction(\n",
              "            'suggestCharts', [key], {});\n",
              "      } catch (error) {\n",
              "        console.error('Error during call to suggestCharts:', error);\n",
              "      }\n",
              "      quickchartButtonEl.classList.remove('colab-df-spinner');\n",
              "      quickchartButtonEl.classList.add('colab-df-quickchart-complete');\n",
              "    }\n",
              "    (() => {\n",
              "      let quickchartButtonEl =\n",
              "        document.querySelector('#df-8666cdd1-e2b7-4861-9a84-e9181c0972f8 button');\n",
              "      quickchartButtonEl.style.display =\n",
              "        google.colab.kernel.accessAllowed ? 'block' : 'none';\n",
              "    })();\n",
              "  </script>\n",
              "</div>\n",
              "\n",
              "    </div>\n",
              "  </div>\n"
            ]
          },
          "metadata": {},
          "execution_count": 25
        }
      ]
    },
    {
      "cell_type": "markdown",
      "source": [
        "Lemmatization:"
      ],
      "metadata": {
        "id": "aYEvyorEc_4P"
      }
    },
    {
      "cell_type": "code",
      "source": [
        "import nltk\n",
        "nltk.download('wordnet')"
      ],
      "metadata": {
        "colab": {
          "base_uri": "https://localhost:8080/"
        },
        "id": "n58E0sXic4FD",
        "outputId": "dc1b3c13-3b13-4e2e-f692-800e9c98aef0"
      },
      "execution_count": 26,
      "outputs": [
        {
          "output_type": "stream",
          "name": "stderr",
          "text": [
            "[nltk_data] Downloading package wordnet to /root/nltk_data...\n"
          ]
        },
        {
          "output_type": "execute_result",
          "data": {
            "text/plain": [
              "True"
            ]
          },
          "metadata": {},
          "execution_count": 26
        }
      ]
    },
    {
      "cell_type": "code",
      "source": [
        "from nltk.stem import WordNetLemmatizer\n",
        "\n",
        "lemmatizer = WordNetLemmatizer()\n",
        "def lemmatize_words(text):\n",
        "    return \" \".join([lemmatizer.lemmatize(word) for word in text.split()])\n",
        "\n",
        "data[\"content\"] = data[\"content\"].apply(lambda text: lemmatize_words(text))\n",
        "data.head()"
      ],
      "metadata": {
        "colab": {
          "base_uri": "https://localhost:8080/",
          "height": 206
        },
        "id": "Lry3iIbtc-Nv",
        "outputId": "19eb3ce4-6ba0-401d-f829-edd056b72c37"
      },
      "execution_count": 27,
      "outputs": [
        {
          "output_type": "execute_result",
          "data": {
            "text/plain": [
              "     tweet_id   sentiment                                            content\n",
              "0  1956967341       empty  tiffanylue know listenin bad habit earlier sta...\n",
              "1  1956967666     sadness             layin n bed headache ughhhhwaitin call\n",
              "2  1956967696     sadness                      funeral ceremonygloomy friday\n",
              "3  1956967789  enthusiasm                              want hang friend soon\n",
              "4  1956968416     neutral  dannycastillo want trade someone houston ticke..."
            ],
            "text/html": [
              "\n",
              "  <div id=\"df-f612f6b4-a0c5-49a2-90a9-dc35aca03560\" class=\"colab-df-container\">\n",
              "    <div>\n",
              "<style scoped>\n",
              "    .dataframe tbody tr th:only-of-type {\n",
              "        vertical-align: middle;\n",
              "    }\n",
              "\n",
              "    .dataframe tbody tr th {\n",
              "        vertical-align: top;\n",
              "    }\n",
              "\n",
              "    .dataframe thead th {\n",
              "        text-align: right;\n",
              "    }\n",
              "</style>\n",
              "<table border=\"1\" class=\"dataframe\">\n",
              "  <thead>\n",
              "    <tr style=\"text-align: right;\">\n",
              "      <th></th>\n",
              "      <th>tweet_id</th>\n",
              "      <th>sentiment</th>\n",
              "      <th>content</th>\n",
              "    </tr>\n",
              "  </thead>\n",
              "  <tbody>\n",
              "    <tr>\n",
              "      <th>0</th>\n",
              "      <td>1956967341</td>\n",
              "      <td>empty</td>\n",
              "      <td>tiffanylue know listenin bad habit earlier sta...</td>\n",
              "    </tr>\n",
              "    <tr>\n",
              "      <th>1</th>\n",
              "      <td>1956967666</td>\n",
              "      <td>sadness</td>\n",
              "      <td>layin n bed headache ughhhhwaitin call</td>\n",
              "    </tr>\n",
              "    <tr>\n",
              "      <th>2</th>\n",
              "      <td>1956967696</td>\n",
              "      <td>sadness</td>\n",
              "      <td>funeral ceremonygloomy friday</td>\n",
              "    </tr>\n",
              "    <tr>\n",
              "      <th>3</th>\n",
              "      <td>1956967789</td>\n",
              "      <td>enthusiasm</td>\n",
              "      <td>want hang friend soon</td>\n",
              "    </tr>\n",
              "    <tr>\n",
              "      <th>4</th>\n",
              "      <td>1956968416</td>\n",
              "      <td>neutral</td>\n",
              "      <td>dannycastillo want trade someone houston ticke...</td>\n",
              "    </tr>\n",
              "  </tbody>\n",
              "</table>\n",
              "</div>\n",
              "    <div class=\"colab-df-buttons\">\n",
              "\n",
              "  <div class=\"colab-df-container\">\n",
              "    <button class=\"colab-df-convert\" onclick=\"convertToInteractive('df-f612f6b4-a0c5-49a2-90a9-dc35aca03560')\"\n",
              "            title=\"Convert this dataframe to an interactive table.\"\n",
              "            style=\"display:none;\">\n",
              "\n",
              "  <svg xmlns=\"http://www.w3.org/2000/svg\" height=\"24px\" viewBox=\"0 -960 960 960\">\n",
              "    <path d=\"M120-120v-720h720v720H120Zm60-500h600v-160H180v160Zm220 220h160v-160H400v160Zm0 220h160v-160H400v160ZM180-400h160v-160H180v160Zm440 0h160v-160H620v160ZM180-180h160v-160H180v160Zm440 0h160v-160H620v160Z\"/>\n",
              "  </svg>\n",
              "    </button>\n",
              "\n",
              "  <style>\n",
              "    .colab-df-container {\n",
              "      display:flex;\n",
              "      gap: 12px;\n",
              "    }\n",
              "\n",
              "    .colab-df-convert {\n",
              "      background-color: #E8F0FE;\n",
              "      border: none;\n",
              "      border-radius: 50%;\n",
              "      cursor: pointer;\n",
              "      display: none;\n",
              "      fill: #1967D2;\n",
              "      height: 32px;\n",
              "      padding: 0 0 0 0;\n",
              "      width: 32px;\n",
              "    }\n",
              "\n",
              "    .colab-df-convert:hover {\n",
              "      background-color: #E2EBFA;\n",
              "      box-shadow: 0px 1px 2px rgba(60, 64, 67, 0.3), 0px 1px 3px 1px rgba(60, 64, 67, 0.15);\n",
              "      fill: #174EA6;\n",
              "    }\n",
              "\n",
              "    .colab-df-buttons div {\n",
              "      margin-bottom: 4px;\n",
              "    }\n",
              "\n",
              "    [theme=dark] .colab-df-convert {\n",
              "      background-color: #3B4455;\n",
              "      fill: #D2E3FC;\n",
              "    }\n",
              "\n",
              "    [theme=dark] .colab-df-convert:hover {\n",
              "      background-color: #434B5C;\n",
              "      box-shadow: 0px 1px 3px 1px rgba(0, 0, 0, 0.15);\n",
              "      filter: drop-shadow(0px 1px 2px rgba(0, 0, 0, 0.3));\n",
              "      fill: #FFFFFF;\n",
              "    }\n",
              "  </style>\n",
              "\n",
              "    <script>\n",
              "      const buttonEl =\n",
              "        document.querySelector('#df-f612f6b4-a0c5-49a2-90a9-dc35aca03560 button.colab-df-convert');\n",
              "      buttonEl.style.display =\n",
              "        google.colab.kernel.accessAllowed ? 'block' : 'none';\n",
              "\n",
              "      async function convertToInteractive(key) {\n",
              "        const element = document.querySelector('#df-f612f6b4-a0c5-49a2-90a9-dc35aca03560');\n",
              "        const dataTable =\n",
              "          await google.colab.kernel.invokeFunction('convertToInteractive',\n",
              "                                                    [key], {});\n",
              "        if (!dataTable) return;\n",
              "\n",
              "        const docLinkHtml = 'Like what you see? Visit the ' +\n",
              "          '<a target=\"_blank\" href=https://colab.research.google.com/notebooks/data_table.ipynb>data table notebook</a>'\n",
              "          + ' to learn more about interactive tables.';\n",
              "        element.innerHTML = '';\n",
              "        dataTable['output_type'] = 'display_data';\n",
              "        await google.colab.output.renderOutput(dataTable, element);\n",
              "        const docLink = document.createElement('div');\n",
              "        docLink.innerHTML = docLinkHtml;\n",
              "        element.appendChild(docLink);\n",
              "      }\n",
              "    </script>\n",
              "  </div>\n",
              "\n",
              "\n",
              "<div id=\"df-06923b68-1708-4b4a-99f1-8bdf29f1c78a\">\n",
              "  <button class=\"colab-df-quickchart\" onclick=\"quickchart('df-06923b68-1708-4b4a-99f1-8bdf29f1c78a')\"\n",
              "            title=\"Suggest charts\"\n",
              "            style=\"display:none;\">\n",
              "\n",
              "<svg xmlns=\"http://www.w3.org/2000/svg\" height=\"24px\"viewBox=\"0 0 24 24\"\n",
              "     width=\"24px\">\n",
              "    <g>\n",
              "        <path d=\"M19 3H5c-1.1 0-2 .9-2 2v14c0 1.1.9 2 2 2h14c1.1 0 2-.9 2-2V5c0-1.1-.9-2-2-2zM9 17H7v-7h2v7zm4 0h-2V7h2v10zm4 0h-2v-4h2v4z\"/>\n",
              "    </g>\n",
              "</svg>\n",
              "  </button>\n",
              "\n",
              "<style>\n",
              "  .colab-df-quickchart {\n",
              "      --bg-color: #E8F0FE;\n",
              "      --fill-color: #1967D2;\n",
              "      --hover-bg-color: #E2EBFA;\n",
              "      --hover-fill-color: #174EA6;\n",
              "      --disabled-fill-color: #AAA;\n",
              "      --disabled-bg-color: #DDD;\n",
              "  }\n",
              "\n",
              "  [theme=dark] .colab-df-quickchart {\n",
              "      --bg-color: #3B4455;\n",
              "      --fill-color: #D2E3FC;\n",
              "      --hover-bg-color: #434B5C;\n",
              "      --hover-fill-color: #FFFFFF;\n",
              "      --disabled-bg-color: #3B4455;\n",
              "      --disabled-fill-color: #666;\n",
              "  }\n",
              "\n",
              "  .colab-df-quickchart {\n",
              "    background-color: var(--bg-color);\n",
              "    border: none;\n",
              "    border-radius: 50%;\n",
              "    cursor: pointer;\n",
              "    display: none;\n",
              "    fill: var(--fill-color);\n",
              "    height: 32px;\n",
              "    padding: 0;\n",
              "    width: 32px;\n",
              "  }\n",
              "\n",
              "  .colab-df-quickchart:hover {\n",
              "    background-color: var(--hover-bg-color);\n",
              "    box-shadow: 0 1px 2px rgba(60, 64, 67, 0.3), 0 1px 3px 1px rgba(60, 64, 67, 0.15);\n",
              "    fill: var(--button-hover-fill-color);\n",
              "  }\n",
              "\n",
              "  .colab-df-quickchart-complete:disabled,\n",
              "  .colab-df-quickchart-complete:disabled:hover {\n",
              "    background-color: var(--disabled-bg-color);\n",
              "    fill: var(--disabled-fill-color);\n",
              "    box-shadow: none;\n",
              "  }\n",
              "\n",
              "  .colab-df-spinner {\n",
              "    border: 2px solid var(--fill-color);\n",
              "    border-color: transparent;\n",
              "    border-bottom-color: var(--fill-color);\n",
              "    animation:\n",
              "      spin 1s steps(1) infinite;\n",
              "  }\n",
              "\n",
              "  @keyframes spin {\n",
              "    0% {\n",
              "      border-color: transparent;\n",
              "      border-bottom-color: var(--fill-color);\n",
              "      border-left-color: var(--fill-color);\n",
              "    }\n",
              "    20% {\n",
              "      border-color: transparent;\n",
              "      border-left-color: var(--fill-color);\n",
              "      border-top-color: var(--fill-color);\n",
              "    }\n",
              "    30% {\n",
              "      border-color: transparent;\n",
              "      border-left-color: var(--fill-color);\n",
              "      border-top-color: var(--fill-color);\n",
              "      border-right-color: var(--fill-color);\n",
              "    }\n",
              "    40% {\n",
              "      border-color: transparent;\n",
              "      border-right-color: var(--fill-color);\n",
              "      border-top-color: var(--fill-color);\n",
              "    }\n",
              "    60% {\n",
              "      border-color: transparent;\n",
              "      border-right-color: var(--fill-color);\n",
              "    }\n",
              "    80% {\n",
              "      border-color: transparent;\n",
              "      border-right-color: var(--fill-color);\n",
              "      border-bottom-color: var(--fill-color);\n",
              "    }\n",
              "    90% {\n",
              "      border-color: transparent;\n",
              "      border-bottom-color: var(--fill-color);\n",
              "    }\n",
              "  }\n",
              "</style>\n",
              "\n",
              "  <script>\n",
              "    async function quickchart(key) {\n",
              "      const quickchartButtonEl =\n",
              "        document.querySelector('#' + key + ' button');\n",
              "      quickchartButtonEl.disabled = true;  // To prevent multiple clicks.\n",
              "      quickchartButtonEl.classList.add('colab-df-spinner');\n",
              "      try {\n",
              "        const charts = await google.colab.kernel.invokeFunction(\n",
              "            'suggestCharts', [key], {});\n",
              "      } catch (error) {\n",
              "        console.error('Error during call to suggestCharts:', error);\n",
              "      }\n",
              "      quickchartButtonEl.classList.remove('colab-df-spinner');\n",
              "      quickchartButtonEl.classList.add('colab-df-quickchart-complete');\n",
              "    }\n",
              "    (() => {\n",
              "      let quickchartButtonEl =\n",
              "        document.querySelector('#df-06923b68-1708-4b4a-99f1-8bdf29f1c78a button');\n",
              "      quickchartButtonEl.style.display =\n",
              "        google.colab.kernel.accessAllowed ? 'block' : 'none';\n",
              "    })();\n",
              "  </script>\n",
              "</div>\n",
              "\n",
              "    </div>\n",
              "  </div>\n"
            ]
          },
          "metadata": {},
          "execution_count": 27
        }
      ]
    },
    {
      "cell_type": "markdown",
      "source": [
        "***Feature Extraction Techniques:***\n",
        "\n",
        "\n",
        "\n",
        "* BOW\n",
        "* TF-IDF\n",
        "* Word2Vec\n",
        "\n",
        "\n"
      ],
      "metadata": {
        "id": "aPg_RjcmdUep"
      }
    },
    {
      "cell_type": "code",
      "source": [
        "x = data.iloc[:,2:3]\n",
        "x.head()"
      ],
      "metadata": {
        "colab": {
          "base_uri": "https://localhost:8080/",
          "height": 206
        },
        "id": "FxaP3usxdLDj",
        "outputId": "3297b03e-dcd6-416e-bd00-bc13a9f938e2"
      },
      "execution_count": 28,
      "outputs": [
        {
          "output_type": "execute_result",
          "data": {
            "text/plain": [
              "                                             content\n",
              "0  tiffanylue know listenin bad habit earlier sta...\n",
              "1             layin n bed headache ughhhhwaitin call\n",
              "2                      funeral ceremonygloomy friday\n",
              "3                              want hang friend soon\n",
              "4  dannycastillo want trade someone houston ticke..."
            ],
            "text/html": [
              "\n",
              "  <div id=\"df-bcacbce6-3ed3-4029-a15c-45cd4e31a5d1\" class=\"colab-df-container\">\n",
              "    <div>\n",
              "<style scoped>\n",
              "    .dataframe tbody tr th:only-of-type {\n",
              "        vertical-align: middle;\n",
              "    }\n",
              "\n",
              "    .dataframe tbody tr th {\n",
              "        vertical-align: top;\n",
              "    }\n",
              "\n",
              "    .dataframe thead th {\n",
              "        text-align: right;\n",
              "    }\n",
              "</style>\n",
              "<table border=\"1\" class=\"dataframe\">\n",
              "  <thead>\n",
              "    <tr style=\"text-align: right;\">\n",
              "      <th></th>\n",
              "      <th>content</th>\n",
              "    </tr>\n",
              "  </thead>\n",
              "  <tbody>\n",
              "    <tr>\n",
              "      <th>0</th>\n",
              "      <td>tiffanylue know listenin bad habit earlier sta...</td>\n",
              "    </tr>\n",
              "    <tr>\n",
              "      <th>1</th>\n",
              "      <td>layin n bed headache ughhhhwaitin call</td>\n",
              "    </tr>\n",
              "    <tr>\n",
              "      <th>2</th>\n",
              "      <td>funeral ceremonygloomy friday</td>\n",
              "    </tr>\n",
              "    <tr>\n",
              "      <th>3</th>\n",
              "      <td>want hang friend soon</td>\n",
              "    </tr>\n",
              "    <tr>\n",
              "      <th>4</th>\n",
              "      <td>dannycastillo want trade someone houston ticke...</td>\n",
              "    </tr>\n",
              "  </tbody>\n",
              "</table>\n",
              "</div>\n",
              "    <div class=\"colab-df-buttons\">\n",
              "\n",
              "  <div class=\"colab-df-container\">\n",
              "    <button class=\"colab-df-convert\" onclick=\"convertToInteractive('df-bcacbce6-3ed3-4029-a15c-45cd4e31a5d1')\"\n",
              "            title=\"Convert this dataframe to an interactive table.\"\n",
              "            style=\"display:none;\">\n",
              "\n",
              "  <svg xmlns=\"http://www.w3.org/2000/svg\" height=\"24px\" viewBox=\"0 -960 960 960\">\n",
              "    <path d=\"M120-120v-720h720v720H120Zm60-500h600v-160H180v160Zm220 220h160v-160H400v160Zm0 220h160v-160H400v160ZM180-400h160v-160H180v160Zm440 0h160v-160H620v160ZM180-180h160v-160H180v160Zm440 0h160v-160H620v160Z\"/>\n",
              "  </svg>\n",
              "    </button>\n",
              "\n",
              "  <style>\n",
              "    .colab-df-container {\n",
              "      display:flex;\n",
              "      gap: 12px;\n",
              "    }\n",
              "\n",
              "    .colab-df-convert {\n",
              "      background-color: #E8F0FE;\n",
              "      border: none;\n",
              "      border-radius: 50%;\n",
              "      cursor: pointer;\n",
              "      display: none;\n",
              "      fill: #1967D2;\n",
              "      height: 32px;\n",
              "      padding: 0 0 0 0;\n",
              "      width: 32px;\n",
              "    }\n",
              "\n",
              "    .colab-df-convert:hover {\n",
              "      background-color: #E2EBFA;\n",
              "      box-shadow: 0px 1px 2px rgba(60, 64, 67, 0.3), 0px 1px 3px 1px rgba(60, 64, 67, 0.15);\n",
              "      fill: #174EA6;\n",
              "    }\n",
              "\n",
              "    .colab-df-buttons div {\n",
              "      margin-bottom: 4px;\n",
              "    }\n",
              "\n",
              "    [theme=dark] .colab-df-convert {\n",
              "      background-color: #3B4455;\n",
              "      fill: #D2E3FC;\n",
              "    }\n",
              "\n",
              "    [theme=dark] .colab-df-convert:hover {\n",
              "      background-color: #434B5C;\n",
              "      box-shadow: 0px 1px 3px 1px rgba(0, 0, 0, 0.15);\n",
              "      filter: drop-shadow(0px 1px 2px rgba(0, 0, 0, 0.3));\n",
              "      fill: #FFFFFF;\n",
              "    }\n",
              "  </style>\n",
              "\n",
              "    <script>\n",
              "      const buttonEl =\n",
              "        document.querySelector('#df-bcacbce6-3ed3-4029-a15c-45cd4e31a5d1 button.colab-df-convert');\n",
              "      buttonEl.style.display =\n",
              "        google.colab.kernel.accessAllowed ? 'block' : 'none';\n",
              "\n",
              "      async function convertToInteractive(key) {\n",
              "        const element = document.querySelector('#df-bcacbce6-3ed3-4029-a15c-45cd4e31a5d1');\n",
              "        const dataTable =\n",
              "          await google.colab.kernel.invokeFunction('convertToInteractive',\n",
              "                                                    [key], {});\n",
              "        if (!dataTable) return;\n",
              "\n",
              "        const docLinkHtml = 'Like what you see? Visit the ' +\n",
              "          '<a target=\"_blank\" href=https://colab.research.google.com/notebooks/data_table.ipynb>data table notebook</a>'\n",
              "          + ' to learn more about interactive tables.';\n",
              "        element.innerHTML = '';\n",
              "        dataTable['output_type'] = 'display_data';\n",
              "        await google.colab.output.renderOutput(dataTable, element);\n",
              "        const docLink = document.createElement('div');\n",
              "        docLink.innerHTML = docLinkHtml;\n",
              "        element.appendChild(docLink);\n",
              "      }\n",
              "    </script>\n",
              "  </div>\n",
              "\n",
              "\n",
              "<div id=\"df-70718b89-d317-4141-a15a-ee443a3b3cd7\">\n",
              "  <button class=\"colab-df-quickchart\" onclick=\"quickchart('df-70718b89-d317-4141-a15a-ee443a3b3cd7')\"\n",
              "            title=\"Suggest charts\"\n",
              "            style=\"display:none;\">\n",
              "\n",
              "<svg xmlns=\"http://www.w3.org/2000/svg\" height=\"24px\"viewBox=\"0 0 24 24\"\n",
              "     width=\"24px\">\n",
              "    <g>\n",
              "        <path d=\"M19 3H5c-1.1 0-2 .9-2 2v14c0 1.1.9 2 2 2h14c1.1 0 2-.9 2-2V5c0-1.1-.9-2-2-2zM9 17H7v-7h2v7zm4 0h-2V7h2v10zm4 0h-2v-4h2v4z\"/>\n",
              "    </g>\n",
              "</svg>\n",
              "  </button>\n",
              "\n",
              "<style>\n",
              "  .colab-df-quickchart {\n",
              "      --bg-color: #E8F0FE;\n",
              "      --fill-color: #1967D2;\n",
              "      --hover-bg-color: #E2EBFA;\n",
              "      --hover-fill-color: #174EA6;\n",
              "      --disabled-fill-color: #AAA;\n",
              "      --disabled-bg-color: #DDD;\n",
              "  }\n",
              "\n",
              "  [theme=dark] .colab-df-quickchart {\n",
              "      --bg-color: #3B4455;\n",
              "      --fill-color: #D2E3FC;\n",
              "      --hover-bg-color: #434B5C;\n",
              "      --hover-fill-color: #FFFFFF;\n",
              "      --disabled-bg-color: #3B4455;\n",
              "      --disabled-fill-color: #666;\n",
              "  }\n",
              "\n",
              "  .colab-df-quickchart {\n",
              "    background-color: var(--bg-color);\n",
              "    border: none;\n",
              "    border-radius: 50%;\n",
              "    cursor: pointer;\n",
              "    display: none;\n",
              "    fill: var(--fill-color);\n",
              "    height: 32px;\n",
              "    padding: 0;\n",
              "    width: 32px;\n",
              "  }\n",
              "\n",
              "  .colab-df-quickchart:hover {\n",
              "    background-color: var(--hover-bg-color);\n",
              "    box-shadow: 0 1px 2px rgba(60, 64, 67, 0.3), 0 1px 3px 1px rgba(60, 64, 67, 0.15);\n",
              "    fill: var(--button-hover-fill-color);\n",
              "  }\n",
              "\n",
              "  .colab-df-quickchart-complete:disabled,\n",
              "  .colab-df-quickchart-complete:disabled:hover {\n",
              "    background-color: var(--disabled-bg-color);\n",
              "    fill: var(--disabled-fill-color);\n",
              "    box-shadow: none;\n",
              "  }\n",
              "\n",
              "  .colab-df-spinner {\n",
              "    border: 2px solid var(--fill-color);\n",
              "    border-color: transparent;\n",
              "    border-bottom-color: var(--fill-color);\n",
              "    animation:\n",
              "      spin 1s steps(1) infinite;\n",
              "  }\n",
              "\n",
              "  @keyframes spin {\n",
              "    0% {\n",
              "      border-color: transparent;\n",
              "      border-bottom-color: var(--fill-color);\n",
              "      border-left-color: var(--fill-color);\n",
              "    }\n",
              "    20% {\n",
              "      border-color: transparent;\n",
              "      border-left-color: var(--fill-color);\n",
              "      border-top-color: var(--fill-color);\n",
              "    }\n",
              "    30% {\n",
              "      border-color: transparent;\n",
              "      border-left-color: var(--fill-color);\n",
              "      border-top-color: var(--fill-color);\n",
              "      border-right-color: var(--fill-color);\n",
              "    }\n",
              "    40% {\n",
              "      border-color: transparent;\n",
              "      border-right-color: var(--fill-color);\n",
              "      border-top-color: var(--fill-color);\n",
              "    }\n",
              "    60% {\n",
              "      border-color: transparent;\n",
              "      border-right-color: var(--fill-color);\n",
              "    }\n",
              "    80% {\n",
              "      border-color: transparent;\n",
              "      border-right-color: var(--fill-color);\n",
              "      border-bottom-color: var(--fill-color);\n",
              "    }\n",
              "    90% {\n",
              "      border-color: transparent;\n",
              "      border-bottom-color: var(--fill-color);\n",
              "    }\n",
              "  }\n",
              "</style>\n",
              "\n",
              "  <script>\n",
              "    async function quickchart(key) {\n",
              "      const quickchartButtonEl =\n",
              "        document.querySelector('#' + key + ' button');\n",
              "      quickchartButtonEl.disabled = true;  // To prevent multiple clicks.\n",
              "      quickchartButtonEl.classList.add('colab-df-spinner');\n",
              "      try {\n",
              "        const charts = await google.colab.kernel.invokeFunction(\n",
              "            'suggestCharts', [key], {});\n",
              "      } catch (error) {\n",
              "        console.error('Error during call to suggestCharts:', error);\n",
              "      }\n",
              "      quickchartButtonEl.classList.remove('colab-df-spinner');\n",
              "      quickchartButtonEl.classList.add('colab-df-quickchart-complete');\n",
              "    }\n",
              "    (() => {\n",
              "      let quickchartButtonEl =\n",
              "        document.querySelector('#df-70718b89-d317-4141-a15a-ee443a3b3cd7 button');\n",
              "      quickchartButtonEl.style.display =\n",
              "        google.colab.kernel.accessAllowed ? 'block' : 'none';\n",
              "    })();\n",
              "  </script>\n",
              "</div>\n",
              "\n",
              "    </div>\n",
              "  </div>\n"
            ]
          },
          "metadata": {},
          "execution_count": 28
        }
      ]
    },
    {
      "cell_type": "code",
      "source": [
        "y= data['sentiment']\n",
        "y.head()"
      ],
      "metadata": {
        "colab": {
          "base_uri": "https://localhost:8080/"
        },
        "id": "YTNLvYQqdv2-",
        "outputId": "e70b52b6-7477-4bae-aeee-b30dba27bc7c"
      },
      "execution_count": 29,
      "outputs": [
        {
          "output_type": "execute_result",
          "data": {
            "text/plain": [
              "0         empty\n",
              "1       sadness\n",
              "2       sadness\n",
              "3    enthusiasm\n",
              "4       neutral\n",
              "Name: sentiment, dtype: object"
            ]
          },
          "metadata": {},
          "execution_count": 29
        }
      ]
    },
    {
      "cell_type": "code",
      "source": [
        "from sklearn.model_selection import train_test_split\n",
        "x_train, x_test, y_train, y_test = train_test_split(x,y,test_size=0.2, random_state=134)"
      ],
      "metadata": {
        "id": "3QhPH6YEdzZl"
      },
      "execution_count": 30,
      "outputs": []
    },
    {
      "cell_type": "code",
      "source": [
        "x_train"
      ],
      "metadata": {
        "colab": {
          "base_uri": "https://localhost:8080/",
          "height": 424
        },
        "id": "Oz1zP9EBd26x",
        "outputId": "d71a4c41-0d5a-4cff-80f8-b13f7497a5ab"
      },
      "execution_count": 31,
      "outputs": [
        {
          "output_type": "execute_result",
          "data": {
            "text/plain": [
              "                                                 content\n",
              "7855   reba wish could listen im canada website wont let\n",
              "7658   tiwurayie geez one time row patience good thin...\n",
              "20855        shebeegee jersey weather good charity drive\n",
              "9353                                blackheartbunny nope\n",
              "26327  donmcallister need find keynote one least know...\n",
              "...                                                  ...\n",
              "7892   veeriwhoa oh silence verona wanting go jaja en...\n",
              "1202                  salamandroid properly dragged week\n",
              "13687             im lazy bumboo jack always work friday\n",
              "13862  jtsui wish could sat thats super busy day sund...\n",
              "9699          want see terminator everyones already seen\n",
              "\n",
              "[32000 rows x 1 columns]"
            ],
            "text/html": [
              "\n",
              "  <div id=\"df-041df707-9898-4524-86e0-9d5b5ec2d55d\" class=\"colab-df-container\">\n",
              "    <div>\n",
              "<style scoped>\n",
              "    .dataframe tbody tr th:only-of-type {\n",
              "        vertical-align: middle;\n",
              "    }\n",
              "\n",
              "    .dataframe tbody tr th {\n",
              "        vertical-align: top;\n",
              "    }\n",
              "\n",
              "    .dataframe thead th {\n",
              "        text-align: right;\n",
              "    }\n",
              "</style>\n",
              "<table border=\"1\" class=\"dataframe\">\n",
              "  <thead>\n",
              "    <tr style=\"text-align: right;\">\n",
              "      <th></th>\n",
              "      <th>content</th>\n",
              "    </tr>\n",
              "  </thead>\n",
              "  <tbody>\n",
              "    <tr>\n",
              "      <th>7855</th>\n",
              "      <td>reba wish could listen im canada website wont let</td>\n",
              "    </tr>\n",
              "    <tr>\n",
              "      <th>7658</th>\n",
              "      <td>tiwurayie geez one time row patience good thin...</td>\n",
              "    </tr>\n",
              "    <tr>\n",
              "      <th>20855</th>\n",
              "      <td>shebeegee jersey weather good charity drive</td>\n",
              "    </tr>\n",
              "    <tr>\n",
              "      <th>9353</th>\n",
              "      <td>blackheartbunny nope</td>\n",
              "    </tr>\n",
              "    <tr>\n",
              "      <th>26327</th>\n",
              "      <td>donmcallister need find keynote one least know...</td>\n",
              "    </tr>\n",
              "    <tr>\n",
              "      <th>...</th>\n",
              "      <td>...</td>\n",
              "    </tr>\n",
              "    <tr>\n",
              "      <th>7892</th>\n",
              "      <td>veeriwhoa oh silence verona wanting go jaja en...</td>\n",
              "    </tr>\n",
              "    <tr>\n",
              "      <th>1202</th>\n",
              "      <td>salamandroid properly dragged week</td>\n",
              "    </tr>\n",
              "    <tr>\n",
              "      <th>13687</th>\n",
              "      <td>im lazy bumboo jack always work friday</td>\n",
              "    </tr>\n",
              "    <tr>\n",
              "      <th>13862</th>\n",
              "      <td>jtsui wish could sat thats super busy day sund...</td>\n",
              "    </tr>\n",
              "    <tr>\n",
              "      <th>9699</th>\n",
              "      <td>want see terminator everyones already seen</td>\n",
              "    </tr>\n",
              "  </tbody>\n",
              "</table>\n",
              "<p>32000 rows × 1 columns</p>\n",
              "</div>\n",
              "    <div class=\"colab-df-buttons\">\n",
              "\n",
              "  <div class=\"colab-df-container\">\n",
              "    <button class=\"colab-df-convert\" onclick=\"convertToInteractive('df-041df707-9898-4524-86e0-9d5b5ec2d55d')\"\n",
              "            title=\"Convert this dataframe to an interactive table.\"\n",
              "            style=\"display:none;\">\n",
              "\n",
              "  <svg xmlns=\"http://www.w3.org/2000/svg\" height=\"24px\" viewBox=\"0 -960 960 960\">\n",
              "    <path d=\"M120-120v-720h720v720H120Zm60-500h600v-160H180v160Zm220 220h160v-160H400v160Zm0 220h160v-160H400v160ZM180-400h160v-160H180v160Zm440 0h160v-160H620v160ZM180-180h160v-160H180v160Zm440 0h160v-160H620v160Z\"/>\n",
              "  </svg>\n",
              "    </button>\n",
              "\n",
              "  <style>\n",
              "    .colab-df-container {\n",
              "      display:flex;\n",
              "      gap: 12px;\n",
              "    }\n",
              "\n",
              "    .colab-df-convert {\n",
              "      background-color: #E8F0FE;\n",
              "      border: none;\n",
              "      border-radius: 50%;\n",
              "      cursor: pointer;\n",
              "      display: none;\n",
              "      fill: #1967D2;\n",
              "      height: 32px;\n",
              "      padding: 0 0 0 0;\n",
              "      width: 32px;\n",
              "    }\n",
              "\n",
              "    .colab-df-convert:hover {\n",
              "      background-color: #E2EBFA;\n",
              "      box-shadow: 0px 1px 2px rgba(60, 64, 67, 0.3), 0px 1px 3px 1px rgba(60, 64, 67, 0.15);\n",
              "      fill: #174EA6;\n",
              "    }\n",
              "\n",
              "    .colab-df-buttons div {\n",
              "      margin-bottom: 4px;\n",
              "    }\n",
              "\n",
              "    [theme=dark] .colab-df-convert {\n",
              "      background-color: #3B4455;\n",
              "      fill: #D2E3FC;\n",
              "    }\n",
              "\n",
              "    [theme=dark] .colab-df-convert:hover {\n",
              "      background-color: #434B5C;\n",
              "      box-shadow: 0px 1px 3px 1px rgba(0, 0, 0, 0.15);\n",
              "      filter: drop-shadow(0px 1px 2px rgba(0, 0, 0, 0.3));\n",
              "      fill: #FFFFFF;\n",
              "    }\n",
              "  </style>\n",
              "\n",
              "    <script>\n",
              "      const buttonEl =\n",
              "        document.querySelector('#df-041df707-9898-4524-86e0-9d5b5ec2d55d button.colab-df-convert');\n",
              "      buttonEl.style.display =\n",
              "        google.colab.kernel.accessAllowed ? 'block' : 'none';\n",
              "\n",
              "      async function convertToInteractive(key) {\n",
              "        const element = document.querySelector('#df-041df707-9898-4524-86e0-9d5b5ec2d55d');\n",
              "        const dataTable =\n",
              "          await google.colab.kernel.invokeFunction('convertToInteractive',\n",
              "                                                    [key], {});\n",
              "        if (!dataTable) return;\n",
              "\n",
              "        const docLinkHtml = 'Like what you see? Visit the ' +\n",
              "          '<a target=\"_blank\" href=https://colab.research.google.com/notebooks/data_table.ipynb>data table notebook</a>'\n",
              "          + ' to learn more about interactive tables.';\n",
              "        element.innerHTML = '';\n",
              "        dataTable['output_type'] = 'display_data';\n",
              "        await google.colab.output.renderOutput(dataTable, element);\n",
              "        const docLink = document.createElement('div');\n",
              "        docLink.innerHTML = docLinkHtml;\n",
              "        element.appendChild(docLink);\n",
              "      }\n",
              "    </script>\n",
              "  </div>\n",
              "\n",
              "\n",
              "<div id=\"df-3dd26398-b003-4cde-a59c-f87bc0055391\">\n",
              "  <button class=\"colab-df-quickchart\" onclick=\"quickchart('df-3dd26398-b003-4cde-a59c-f87bc0055391')\"\n",
              "            title=\"Suggest charts\"\n",
              "            style=\"display:none;\">\n",
              "\n",
              "<svg xmlns=\"http://www.w3.org/2000/svg\" height=\"24px\"viewBox=\"0 0 24 24\"\n",
              "     width=\"24px\">\n",
              "    <g>\n",
              "        <path d=\"M19 3H5c-1.1 0-2 .9-2 2v14c0 1.1.9 2 2 2h14c1.1 0 2-.9 2-2V5c0-1.1-.9-2-2-2zM9 17H7v-7h2v7zm4 0h-2V7h2v10zm4 0h-2v-4h2v4z\"/>\n",
              "    </g>\n",
              "</svg>\n",
              "  </button>\n",
              "\n",
              "<style>\n",
              "  .colab-df-quickchart {\n",
              "      --bg-color: #E8F0FE;\n",
              "      --fill-color: #1967D2;\n",
              "      --hover-bg-color: #E2EBFA;\n",
              "      --hover-fill-color: #174EA6;\n",
              "      --disabled-fill-color: #AAA;\n",
              "      --disabled-bg-color: #DDD;\n",
              "  }\n",
              "\n",
              "  [theme=dark] .colab-df-quickchart {\n",
              "      --bg-color: #3B4455;\n",
              "      --fill-color: #D2E3FC;\n",
              "      --hover-bg-color: #434B5C;\n",
              "      --hover-fill-color: #FFFFFF;\n",
              "      --disabled-bg-color: #3B4455;\n",
              "      --disabled-fill-color: #666;\n",
              "  }\n",
              "\n",
              "  .colab-df-quickchart {\n",
              "    background-color: var(--bg-color);\n",
              "    border: none;\n",
              "    border-radius: 50%;\n",
              "    cursor: pointer;\n",
              "    display: none;\n",
              "    fill: var(--fill-color);\n",
              "    height: 32px;\n",
              "    padding: 0;\n",
              "    width: 32px;\n",
              "  }\n",
              "\n",
              "  .colab-df-quickchart:hover {\n",
              "    background-color: var(--hover-bg-color);\n",
              "    box-shadow: 0 1px 2px rgba(60, 64, 67, 0.3), 0 1px 3px 1px rgba(60, 64, 67, 0.15);\n",
              "    fill: var(--button-hover-fill-color);\n",
              "  }\n",
              "\n",
              "  .colab-df-quickchart-complete:disabled,\n",
              "  .colab-df-quickchart-complete:disabled:hover {\n",
              "    background-color: var(--disabled-bg-color);\n",
              "    fill: var(--disabled-fill-color);\n",
              "    box-shadow: none;\n",
              "  }\n",
              "\n",
              "  .colab-df-spinner {\n",
              "    border: 2px solid var(--fill-color);\n",
              "    border-color: transparent;\n",
              "    border-bottom-color: var(--fill-color);\n",
              "    animation:\n",
              "      spin 1s steps(1) infinite;\n",
              "  }\n",
              "\n",
              "  @keyframes spin {\n",
              "    0% {\n",
              "      border-color: transparent;\n",
              "      border-bottom-color: var(--fill-color);\n",
              "      border-left-color: var(--fill-color);\n",
              "    }\n",
              "    20% {\n",
              "      border-color: transparent;\n",
              "      border-left-color: var(--fill-color);\n",
              "      border-top-color: var(--fill-color);\n",
              "    }\n",
              "    30% {\n",
              "      border-color: transparent;\n",
              "      border-left-color: var(--fill-color);\n",
              "      border-top-color: var(--fill-color);\n",
              "      border-right-color: var(--fill-color);\n",
              "    }\n",
              "    40% {\n",
              "      border-color: transparent;\n",
              "      border-right-color: var(--fill-color);\n",
              "      border-top-color: var(--fill-color);\n",
              "    }\n",
              "    60% {\n",
              "      border-color: transparent;\n",
              "      border-right-color: var(--fill-color);\n",
              "    }\n",
              "    80% {\n",
              "      border-color: transparent;\n",
              "      border-right-color: var(--fill-color);\n",
              "      border-bottom-color: var(--fill-color);\n",
              "    }\n",
              "    90% {\n",
              "      border-color: transparent;\n",
              "      border-bottom-color: var(--fill-color);\n",
              "    }\n",
              "  }\n",
              "</style>\n",
              "\n",
              "  <script>\n",
              "    async function quickchart(key) {\n",
              "      const quickchartButtonEl =\n",
              "        document.querySelector('#' + key + ' button');\n",
              "      quickchartButtonEl.disabled = true;  // To prevent multiple clicks.\n",
              "      quickchartButtonEl.classList.add('colab-df-spinner');\n",
              "      try {\n",
              "        const charts = await google.colab.kernel.invokeFunction(\n",
              "            'suggestCharts', [key], {});\n",
              "      } catch (error) {\n",
              "        console.error('Error during call to suggestCharts:', error);\n",
              "      }\n",
              "      quickchartButtonEl.classList.remove('colab-df-spinner');\n",
              "      quickchartButtonEl.classList.add('colab-df-quickchart-complete');\n",
              "    }\n",
              "    (() => {\n",
              "      let quickchartButtonEl =\n",
              "        document.querySelector('#df-3dd26398-b003-4cde-a59c-f87bc0055391 button');\n",
              "      quickchartButtonEl.style.display =\n",
              "        google.colab.kernel.accessAllowed ? 'block' : 'none';\n",
              "    })();\n",
              "  </script>\n",
              "</div>\n",
              "\n",
              "  <div id=\"id_0bca2b94-eafb-48fc-ac78-691c3366d6e0\">\n",
              "    <style>\n",
              "      .colab-df-generate {\n",
              "        background-color: #E8F0FE;\n",
              "        border: none;\n",
              "        border-radius: 50%;\n",
              "        cursor: pointer;\n",
              "        display: none;\n",
              "        fill: #1967D2;\n",
              "        height: 32px;\n",
              "        padding: 0 0 0 0;\n",
              "        width: 32px;\n",
              "      }\n",
              "\n",
              "      .colab-df-generate:hover {\n",
              "        background-color: #E2EBFA;\n",
              "        box-shadow: 0px 1px 2px rgba(60, 64, 67, 0.3), 0px 1px 3px 1px rgba(60, 64, 67, 0.15);\n",
              "        fill: #174EA6;\n",
              "      }\n",
              "\n",
              "      [theme=dark] .colab-df-generate {\n",
              "        background-color: #3B4455;\n",
              "        fill: #D2E3FC;\n",
              "      }\n",
              "\n",
              "      [theme=dark] .colab-df-generate:hover {\n",
              "        background-color: #434B5C;\n",
              "        box-shadow: 0px 1px 3px 1px rgba(0, 0, 0, 0.15);\n",
              "        filter: drop-shadow(0px 1px 2px rgba(0, 0, 0, 0.3));\n",
              "        fill: #FFFFFF;\n",
              "      }\n",
              "    </style>\n",
              "    <button class=\"colab-df-generate\" onclick=\"generateWithVariable('x_train')\"\n",
              "            title=\"Generate code using this dataframe.\"\n",
              "            style=\"display:none;\">\n",
              "\n",
              "  <svg xmlns=\"http://www.w3.org/2000/svg\" height=\"24px\"viewBox=\"0 0 24 24\"\n",
              "       width=\"24px\">\n",
              "    <path d=\"M7,19H8.4L18.45,9,17,7.55,7,17.6ZM5,21V16.75L18.45,3.32a2,2,0,0,1,2.83,0l1.4,1.43a1.91,1.91,0,0,1,.58,1.4,1.91,1.91,0,0,1-.58,1.4L9.25,21ZM18.45,9,17,7.55Zm-12,3A5.31,5.31,0,0,0,4.9,8.1,5.31,5.31,0,0,0,1,6.5,5.31,5.31,0,0,0,4.9,4.9,5.31,5.31,0,0,0,6.5,1,5.31,5.31,0,0,0,8.1,4.9,5.31,5.31,0,0,0,12,6.5,5.46,5.46,0,0,0,6.5,12Z\"/>\n",
              "  </svg>\n",
              "    </button>\n",
              "    <script>\n",
              "      (() => {\n",
              "      const buttonEl =\n",
              "        document.querySelector('#id_0bca2b94-eafb-48fc-ac78-691c3366d6e0 button.colab-df-generate');\n",
              "      buttonEl.style.display =\n",
              "        google.colab.kernel.accessAllowed ? 'block' : 'none';\n",
              "\n",
              "      buttonEl.onclick = () => {\n",
              "        google.colab.notebook.generateWithVariable('x_train');\n",
              "      }\n",
              "      })();\n",
              "    </script>\n",
              "  </div>\n",
              "\n",
              "    </div>\n",
              "  </div>\n"
            ]
          },
          "metadata": {},
          "execution_count": 31
        }
      ]
    },
    {
      "cell_type": "markdown",
      "source": [
        "**BOW**\n",
        "\n",
        "***Bags of words model*** : It is used to convert text documents to numerical vectors or bag of words."
      ],
      "metadata": {
        "id": "OfzuAzVbeDuK"
      }
    },
    {
      "cell_type": "code",
      "source": [
        "from sklearn.feature_extraction.text import CountVectorizer\n",
        "from sklearn.feature_extraction.text import TfidfVectorizer"
      ],
      "metadata": {
        "id": "2hlEWeFqeVBH"
      },
      "execution_count": 32,
      "outputs": []
    },
    {
      "cell_type": "code",
      "source": [
        "cv = CountVectorizer(stop_words = \"english\", min_df = 10, max_df=200, max_features = 2000)"
      ],
      "metadata": {
        "id": "9tQtBkLZd5M5"
      },
      "execution_count": 33,
      "outputs": []
    },
    {
      "cell_type": "code",
      "source": [
        "#parse matrix to numpy array to_array\n",
        "x_train_bow = cv.fit_transform(x_train['content']).toarray()\n",
        "x_test_bow = cv.transform(x_test['content']).toarray()"
      ],
      "metadata": {
        "id": "U9_UW6wUeM_Q"
      },
      "execution_count": 34,
      "outputs": []
    },
    {
      "cell_type": "code",
      "source": [
        "print(cv.vocabulary_)"
      ],
      "metadata": {
        "colab": {
          "base_uri": "https://localhost:8080/"
        },
        "id": "OOw1Tz2Dedq0",
        "outputId": "3bb39f76-dbbd-462e-a0c4-50cfbcd5274c"
      },
      "execution_count": 35,
      "outputs": [
        {
          "output_type": "stream",
          "name": "stdout",
          "text": [
            "{'listen': 1034, 'canada': 276, 'website': 1898, 'row': 1449, 'weather': 1896, 'drive': 520, 'nope': 1199, 'food': 671, 'lost': 1056, 'lunch': 1065, 'book': 200, 'room': 1444, 'pack': 1242, 'spider': 1614, 'bite': 176, 'toe': 1764, 'hungry': 873, 'killing': 967, 'funny': 700, 'andy': 56, 'date': 443, 'birthday': 174, 'woot': 1945, 'facebook': 600, 'end': 553, 'exam': 583, 'cross': 416, 'finger': 646, 'oooh': 1227, 'actually': 14, 'idea': 881, 'ugh': 1822, 'fuck': 694, 'shift': 1529, 'prom': 1352, 'dress': 516, 'use': 1849, 'ipod': 912, 'touch': 1777, 'fine': 645, 'load': 1041, 'mo': 1137, 'drink': 518, 'mmm': 1135, 'ago': 28, 'used': 1850, 'kid': 962, 'ton': 1768, 'teeth': 1724, 'beer': 157, 'leg': 1015, 'wasted': 1887, 'half': 784, 'met': 1109, 'cute': 424, 'conversation': 385, 'welcome': 1905, 'waiting': 1872, 'picked': 1286, 'coming': 365, 'forward': 681, 'dat': 442, 'iphone': 911, 'macbook': 1068, 'flat': 656, 'gotta': 742, 'hello': 824, 'true': 1796, 'write': 1958, 'seeing': 1500, 'slept': 1571, 'gross': 761, 'point': 1315, 'making': 1076, 'card': 283, 'laughing': 999, 'strawberry': 1649, 'itunes': 920, 'course': 399, 'realized': 1396, 'fixed': 654, 'hard': 797, 'sweet': 1692, 'cat': 289, 'family': 609, 'radio': 1381, 'gone': 734, 'anymore': 67, 'fully': 698, 'btw': 240, 'heap': 810, 'homework': 846, 'fish': 651, 'chip': 328, 'god': 730, 'loss': 1055, 'lucky': 1064, 'app': 73, 'real': 1392, 'help': 825, 'miami': 1113, 'hand': 785, 'delivery': 467, 'near': 1176, 'future': 701, 'unfortunately': 1833, 'fly': 663, 'miley': 1120, 'min': 1124, 'church': 336, 'theme': 1737, 'okay': 1221, 'thnx': 1743, 'asking': 93, 'catching': 291, 'instead': 904, 'hair': 783, 'hoping': 853, 'currently': 422, 'surgery': 1684, 'wanted': 1879, 'photo': 1282, 'storm': 1645, 'camera': 273, 'sunburnt': 1675, 'gutted': 775, 'blow': 192, 'class': 339, 'myspace': 1168, 'ppl': 1330, 'smoke': 1581, 'stupid': 1661, 'turn': 1803, 'drug': 526, 'seriously': 1513, 'thunder': 1749, 'early': 538, 'ah': 30, 'probably': 1345, 'pray': 1332, 'client': 346, 'minute': 1127, 'worth': 1955, 'theyre': 1740, 'starving': 1628, 'crazy': 410, 'charge': 309, 'daily': 431, 'diet': 481, 'worse': 1953, 'cuz': 426, 'allowed': 48, 'eat': 543, 'piece': 1291, 'chocolate': 329, 'server': 1514, 'change': 303, 'peep': 1272, 'moving': 1156, 'hadnt': 778, 'follower': 668, 'business': 256, 'pleasure': 1309, 'fair': 604, 'agree': 29, 'married': 1085, 'yr': 1993, 'blah': 180, 'exactly': 582, 'wouldnt': 1957, 'die': 478, 'awful': 116, 'flash': 655, 'presentation': 1337, 'upset': 1844, 'meeting': 1100, 'win': 1923, 'milk': 1122, 'starting': 1627, 'score': 1486, 'fail': 602, 'drinking': 519, 'plan': 1300, 'nap': 1173, 'yea': 1978, 'lakers': 986, 'game': 703, 'salad': 1465, 'yall': 1975, 'missing': 1129, 'tried': 1792, 'visit': 1865, 'heading': 807, 'afternoon': 26, 'andyclemmensen': 57, 'seen': 1501, 'msn': 1160, 'freakin': 683, 'cuddle': 418, 'turning': 1805, 'van': 1857, 'sent': 1511, 'ben': 163, 'shop': 1537, 'woo': 1942, 'bored': 204, 'internet': 907, 'dad': 429, 'death': 455, 'learn': 1009, 'wash': 1883, 'dish': 490, 'laundry': 1001, 'gt': 768, 'rainy': 1385, 'fucking': 697, 'chill': 323, 'sooo': 1592, 'stressed': 1653, 'sign': 1549, 'annoying': 64, 'le': 1007, 'experience': 593, 'fan': 611, 'season': 1494, 'fam': 608, 'support': 1681, 'ddlovato': 450, 'brazil': 221, 'sending': 1508, 'hug': 866, 'yesterday': 1984, 'dinner': 485, 'beat': 152, 'taco': 1701, 'officially': 1216, 'high': 831, 'catch': 290, 'wearing': 1895, 'eye': 596, 'weird': 1904, 'hows': 861, 'bye': 263, 'liked': 1025, 'pc': 1269, 'world': 1950, 'youve': 1992, 'success': 1664, 'sarah': 1472, 'packing': 1245, 'oven': 1238, 'wii': 1921, 'soooo': 1593, 'realised': 1393, 'xx': 1969, 'red': 1404, 'age': 27, 'hi': 830, 'net': 1185, 'yayy': 1977, 'short': 1539, 'mum': 1163, 'awwwww': 122, 'late': 994, 'shes': 1528, 'egg': 548, 'fast': 616, 'folk': 666, 'moved': 1155, 'london': 1045, 'post': 1324, 'dirty': 487, 'ouch': 1235, 'mix': 1133, 'match': 1088, 'dumb': 531, 'text': 1729, 'changed': 304, 'golden': 732, 'worry': 1952, 'usually': 1855, 'nearly': 1177, 'taylorswift': 1716, 'taylor': 1715, 'glasgow': 724, 'care': 284, 'aww': 119, 'glad': 723, 'twice': 1813, 'total': 1775, 'random': 1387, 'check': 313, 'account': 7, 'far': 614, 'car': 282, 'air': 38, 'worked': 1947, 'sigh': 1548, 'metal': 1110, 'planning': 1303, 'stuff': 1660, 'sunday': 1676, 'losing': 1054, 'cut': 423, 'picture': 1289, 'whore': 1916, 'boyfriend': 217, 'fml': 665, 'havent': 802, 'epic': 565, 'grr': 766, 'tmrw': 1762, 'dead': 451, 'muffin': 1162, 'wishing': 1931, 'video': 1863, 'freezing': 686, 'bring': 230, 'dying': 535, 'american': 53, 'talking': 1710, 'deal': 453, 'thinking': 1742, 'prob': 1344, 'figure': 639, 'sydney': 1698, 'meant': 1096, 'alright': 50, 'awake': 113, 'tweeting': 1812, 'bike': 171, 'crash': 407, 'word': 1946, 'hospital': 857, 'er': 567, 'broken': 236, 'fact': 601, 'completely': 371, 'forgot': 678, 'thursday': 1750, 'college': 362, 'soul': 1598, 'searching': 1493, 'favorite': 622, 'laptop': 992, 'chillin': 324, 'neighbor': 1181, 'mrskutcher': 1158, 'fantastic': 613, 'forever': 675, 'teaching': 1721, 'person': 1276, 'super': 1679, 'slow': 1573, 'crappy': 406, 'tommcfly': 1767, 'dougiemcfly': 504, 'started': 1626, 'gossip': 741, 'mood': 1147, 'round': 1447, 'dark': 440, 'hee': 817, 'plenty': 1310, 'holy': 845, 'crap': 405, 'raining': 1384, 'la': 981, 'rofl': 1441, 'xd': 1965, 'disney': 491, 'depressing': 472, 'uncle': 1830, 'sam': 1468, 'aw': 112, 'looked': 1048, 'odd': 1212, 'cyrus': 427, 'whats': 1911, 'itll': 919, 'quickly': 1370, 'possible': 1322, 'barely': 136, 'read': 1390, 'plus': 1312, 'enjoyed': 560, 'mouth': 1154, 'character': 308, 'wrong': 1960, 'group': 762, 'sore': 1596, 'throat': 1745, 'scary': 1482, 'mark': 1082, 'swear': 1690, 'depressed': 471, 'hangover': 790, 'brand': 220, 'aint': 37, 'goodnight': 737, 'lovely': 1059, 'totally': 1776, 'single': 1558, 'stuck': 1655, 'normal': 1200, 'mini': 1126, 'opening': 1230, 'took': 1771, 'rid': 1428, 'sister': 1560, 'morrow': 1151, 'hannah': 791, 'drop': 523, 'wondering': 1941, 'shouldnt': 1541, 'gettin': 714, 'kno': 977, 'rock': 1438, 'messed': 1108, 'concert': 373, 'store': 1644, 'moment': 1141, 'ask': 91, 'box': 215, 'nooooo': 1198, 'headed': 806, 'parking': 1260, 'month': 1146, 'glorious': 727, 'company': 368, 'train': 1785, 'terrible': 1726, 'wifi': 1920, 'updated': 1838, 'pic': 1284, 'hopefully': 852, 'white': 1914, 'black': 178, 'bird': 173, 'report': 1414, 'ff': 635, 'cooky': 388, 'important': 893, 'access': 4, 'cancelled': 278, 'run': 1457, 'staying': 1635, 'tho': 1744, 'teacher': 1720, 'research': 1416, 'spent': 1613, 'cold': 360, 'spend': 1611, 'info': 901, 'baseball': 137, 'cnt': 356, 'stop': 1642, 'nite': 1192, 'boo': 199, 'rest': 1419, 'lmao': 1040, 'remember': 1409, 'winter': 1929, 'il': 887, 'hav': 801, 'isnt': 916, 'ate': 97, 'telling': 1725, 'till': 1756, 'stress': 1652, 'quit': 1372, 'died': 479, 'cancer': 279, 'twitpic': 1816, 'ahh': 34, 'chick': 320, 'rip': 1432, 'understand': 1831, 'mileycyrus': 1121, 'episode': 566, 'series': 1512, 'rite': 1433, 'decision': 458, 'bank': 134, 'holiday': 841, 'absolutely': 1, 'headache': 805, 'keyboard': 959, 'dammit': 434, 'rich': 1427, 'beach': 149, 'bum': 247, 'eating': 544, 'fresh': 688, 'hit': 835, 'noon': 1195, 'enjoy': 559, 'bbq': 145, 'swing': 1697, 'dressed': 517, 'dance': 436, 'yep': 1982, 'bday': 147, 'kiss': 971, 'happen': 792, 'jonathanrknight': 941, 'addicted': 19, 'shoe': 1534, 'david': 446, 'cook': 386, 'brother': 237, 'surprised': 1686, 'grade': 747, 'spelling': 1610, 'bee': 156, 'st': 1620, 'goin': 731, 'aunt': 106, 'talkin': 1709, 'sum': 1671, 'told': 1765, 'da': 428, 'bus': 255, 'bout': 213, 'til': 1755, 'midnight': 1116, 'kinda': 969, 'pissed': 1296, 'id': 880, 'bunch': 250, 'ended': 554, 'shut': 1546, 'meh': 1101, 'watchin': 1890, 'quite': 1373, 'pub': 1357, 'hehe': 820, 'nah': 1170, 'ace': 8, 'cake': 267, 'hun': 872, 'worried': 1951, 'sitting': 1563, 'yo': 1985, 'pls': 1311, 'number': 1206, 'plz': 1313, 'fight': 637, 'sat': 1473, 'mission': 1130, 'different': 483, 'cloudy': 353, 'outside': 1236, 'essay': 571, 'ice': 878, 'cream': 411, 'rule': 1456, 'sun': 1673, 'fit': 652, 'twilight': 1814, 'board': 194, 'quot': 1375, 'fabulous': 598, 'language': 990, 'thx': 1751, 'carry': 285, 'imagine': 891, 'appreciate': 77, 'effort': 547, 'skin': 1566, 'screen': 1487, 'cali': 268, 'hero': 828, 'sock': 1586, 'online': 1223, 'voted': 1869, 'cheer': 316, 'test': 1727, 'talked': 1708, 'finished': 648, 'assignment': 95, 'finishing': 649, 'deep': 460, 'dear': 454, 'chicken': 321, 'soup': 1600, 'social': 1585, 'mile': 1119, 'apart': 71, 'bought': 211, 'usb': 1848, 'broke': 235, 'truly': 1797, 'close': 347, 'web': 1897, 'level': 1020, 'news': 1187, 'ups': 1843, 'keen': 954, 'nooo': 1196, 'gosh': 740, 'chance': 302, 'imma': 892, 'scared': 1481, 'luv': 1066, 'nervous': 1184, 'bah': 129, 'kitty': 973, 'door': 501, 'coffee': 359, 'sugar': 1668, 'design': 474, 'called': 270, 'exhausted': 588, 'alot': 49, 'relaxing': 1407, 'nephew': 1182, 'successful': 1665, 'bound': 212, 'caught': 292, 'swine': 1696, 'flu': 662, 'waking': 1874, 'impressed': 895, 'dream': 514, 'nd': 1175, 'quiet': 1371, 'america': 52, 'profile': 1349, 'status': 1632, 'update': 1837, 'list': 1033, 'mmmm': 1136, 'rain': 1382, 'listened': 1035, 'showing': 1545, 'site': 1562, 'hubby': 865, 'tweeted': 1809, 'dreaming': 515, 'lady': 984, 'young': 1989, 'trouble': 1794, 'trending': 1791, 'topic': 1774, 'quotthe': 1378, 'wonder': 1939, 'que': 1366, 'finding': 644, 'pm': 1314, 'followfriday': 669, 'suggestion': 1669, 'pro': 1343, 'loved': 1058, 'rush': 1459, 'idk': 883, 'davidarchie': 447, 'pop': 1319, 'band': 132, 'taking': 1704, 'stage': 1623, 'tv': 1806, 'original': 1234, 'sort': 1597, 'send': 1507, 'order': 1232, 'suppose': 1682, 'studying': 1659, 'yummy': 1996, 'block': 187, 'supposed': 1683, 'sold': 1587, 'bummer': 249, 'issue': 917, 'user': 1852, 'nick': 1189, 'flight': 658, 'cover': 401, 'heard': 811, 'problem': 1346, 'aka': 40, 'cable': 265, 'office': 1214, 'cavs': 294, 'followed': 667, 'saving': 1477, 'sooooo': 1594, 'replied': 1412, 'chat': 310, 'message': 1107, 'fake': 605, 'xbox': 1964, 'running': 1458, 'remembered': 1410, 'lay': 1004, 'boring': 205, 'prefer': 1335, 'al': 41, 'lookin': 1049, 'latest': 996, 'entry': 563, 'youtube': 1991, 'calling': 271, 'summer': 1672, 'dick': 477, 'talk': 1707, 'cleaning': 343, 'famous': 610, 'daughter': 444, 'spending': 1612, 'money': 1144, 'ticket': 1753, 'selling': 1505, 'party': 1262, 'hahaha': 781, 'ooh': 1225, 'turned': 1804, 'saturday': 1474, 'luck': 1063, 'hon': 847, 'partner': 1261, 'drama': 511, 'queen': 1367, 'known': 979, 'argh': 82, 'anyways': 69, 'theory': 1738, 'listening': 1036, 'makin': 1075, 'gas': 706, 'price': 1340, 'def': 461, 'ya': 1972, 'nasty': 1174, 'poor': 1318, 'mind': 1125, 'meet': 1099, 'bella': 162, 'member': 1102, 'lazy': 1006, 'leave': 1012, 'potato': 1327, 'given': 721, 'power': 1329, 'gig': 719, 'saying': 1479, 'address': 21, 'sf': 1521, 'free': 685, 'gotten': 743, 'email': 552, 'using': 1853, 'tweetdeck': 1808, 'letting': 1019, 'pool': 1317, 'sexy': 1520, 'hat': 799, 'quiz': 1374, 'water': 1891, 'park': 1259, 'hmm': 837, 'writing': 1959, 'perfect': 1273, 'taken': 1703, 'tan': 1711, 'foot': 672, 'link': 1031, 'watched': 1889, 'xmen': 1966, 'wolverine': 1937, 'excited': 585, 'wednesday': 1901, 'football': 673, 'save': 1475, 'nut': 1207, 'expensive': 592, 'saw': 1478, 'james': 923, 'spanish': 1604, 'hang': 787, 'jon': 938, 'bear': 151, 'walk': 1875, 'garden': 705, 'step': 1637, 'desk': 475, 'goodbye': 735, 'jtimberlake': 945, 'bc': 146, 'woke': 1936, 'open': 1229, 'lab': 982, 'fav': 620, 'strong': 1654, 'beautiful': 153, 'retrorewind': 1421, 'awwww': 121, 'tuesday': 1800, 'afraid': 25, 'math': 1090, 'english': 558, 'tweeter': 1810, 'weight': 1903, 'kind': 968, 'golf': 733, 'australia': 108, 'zoo': 1999, 'staff': 1622, 'certain': 300, 'interview': 908, 'space': 1602, 'computer': 372, 'sims': 1554, 'sleeping': 1569, 'idiot': 882, 'hell': 822, 'couldve': 394, 'comin': 364, 'wit': 1932, 'atleast': 99, 'truth': 1799, 'prayer': 1333, 'xoxo': 1968, 'buy': 261, 'besties': 164, 'club': 354, 'grand': 750, 'trip': 1793, 'spring': 1617, 'clean': 341, 'public': 1358, 'tea': 1718, 'tweeps': 1807, 'smell': 1577, 'alcohol': 44, 'cutting': 425, 'theyve': 1741, 'mac': 1067, 'mi': 1112, 'expect': 590, 'case': 286, 'hehehe': 821, 'tool': 1772, 'city': 338, 'scare': 1480, 'arent': 81, 'animal': 61, 'small': 1576, 'slowly': 1574, 'cause': 293, 'hollyoaks': 844, 'dannywood': 439, 'ran': 1386, 'respect': 1417, 'dude': 530, 'pair': 1252, 'bug': 244, 'knew': 975, 'answer': 65, 'second': 1498, 'host': 858, 'mr': 1157, 'gym': 776, 'bag': 128, 'forgive': 677, 'dog': 497, 'face': 599, 'moon': 1148, 'tour': 1779, 'shake': 1522, 'airport': 39, 'delayed': 464, 'state': 1630, 'ignore': 885, 'advice': 23, 'secret': 1499, 'noooo': 1197, 'soo': 1591, 'stay': 1633, 'happening': 794, 'choose': 331, 'question': 1368, 'low': 1062, 'download': 505, 'chest': 318, 'style': 1662, 'sea': 1491, 'easy': 542, 'musical': 1167, 'cd': 295, 'cousin': 400, 'bothered': 209, 'fellow': 630, 'tight': 1754, 'law': 1002, 'congratulation': 377, 'graduate': 748, 'youll': 1988, 'celebrate': 296, 'ball': 130, 'nickcarter': 1190, 'boy': 216, 'hahah': 780, 'feelin': 628, 'bein': 159, 'yup': 1997, 'burned': 253, 'tongue': 1769, 'jk': 931, 'note': 1203, 'stream': 1650, 'medium': 1098, 'easier': 540, 'somebody': 1588, 'shirt': 1532, 'huge': 867, 'special': 1607, 'hold': 839, 'track': 1782, 'montana': 1145, 'huh': 869, 'alex': 45, 'snl': 1583, 'bf': 166, 'apps': 78, 'confused': 375, 'hanging': 789, 'voice': 1867, 'kill': 964, 'wear': 1894, 'awww': 120, 'stack': 1621, 'traffic': 1783, 'living': 1039, 'worst': 1954, 'town': 1780, 'self': 1503, 'bro': 234, 'breakfast': 224, 'fix': 653, 'large': 993, 'arm': 83, 'heck': 816, 'dang': 438, 'lil': 1028, 'bet': 165, 'river': 1434, 'unfair': 1832, 'kate': 952, 'lately': 995, 'nightmare': 1191, 'stomach': 1641, 'window': 1925, 'driver': 521, 'inside': 903, 'sharing': 1526, 'drank': 512, 'google': 738, 'mm': 1134, 'jay': 925, 'leno': 1016, 'tonite': 1770, 'sell': 1504, 'album': 43, 'shall': 1523, 'apple': 75, 'pie': 1290, 'booked': 201, 'break': 223, 'lame': 987, 'join': 935, 'parent': 1257, 'wake': 1873, 'el': 550, 'learning': 1011, 'abt': 2, 'pay': 1267, 'july': 947, 'ampamp': 54, 'deck': 459, 'basically': 139, 'cried': 415, 'sadly': 1462, 'mobile': 1138, 'wine': 1926, 'bang': 133, 'editing': 545, 'spot': 1616, 'cooking': 387, 'practice': 1331, 'bea': 148, 'release': 1408, 'shit': 1533, 'apartment': 72, 'color': 363, 'jealous': 927, 'asked': 92, 'page': 1246, 'french': 687, 'speaking': 1606, 'wossy': 1956, 'pull': 1359, 'father': 618, 'swim': 1694, 'adorable': 22, 'knight': 976, 'dvd': 534, 'project': 1351, 'believe': 160, 'final': 643, 'semester': 1506, 'possibly': 1323, 'middle': 1115, 'interesting': 906, 'story': 1646, 'honest': 848, 'reply': 1413, 'biggest': 170, 'build': 245, 'paying': 1268, 'attention': 103, 'darn': 441, 'em': 551, 'paid': 1247, 'rd': 1388, 'nkotb': 1193, 'contest': 382, 'ohhhh': 1219, 'older': 1222, 'asleep': 94, 'realize': 1395, 'burnt': 254, 'definitely': 462, 'past': 1266, 'set': 1517, 'ohh': 1217, 'yer': 1983, 'gay': 708, 'enjoying': 561, 'boston': 208, 'wet': 1909, 'bottle': 210, 'jus': 950, 'slightly': 1572, 'thankful': 1733, 'earth': 539, 'bgt': 168, 'bb': 144, 'supernatural': 1680, 'kicked': 961, 'limit': 1029, 'garage': 704, 'gfalcone': 715, 'hahahaha': 782, 'son': 1590, 'shell': 1527, 'version': 1859, 'panic': 1253, 'pas': 1264, 'bummed': 248, 'student': 1656, 'snap': 1582, 'babe': 123, 'interested': 905, 'guitar': 772, 'ex': 581, 'ooo': 1226, 'iron': 913, 'rose': 1446, 'play': 1305, 'talent': 1705, 'music': 1166, 'able': 0, 'service': 1515, 'line': 1030, 'quoti': 1377, 'wanting': 1880, 'cast': 288, 'kidding': 963, 'joe': 932, 'jonasbrothers': 940, 'hangin': 788, 'bar': 135, 'yeh': 1980, 'fb': 624, 'shower': 1544, 'ashley': 90, 'earlier': 537, 'mary': 1086, 'sing': 1555, 'blackberry': 179, 'network': 1186, 'bright': 228, 'truck': 1795, 'everybody': 575, 'yard': 1976, 'sale': 1466, 'loud': 1057, 'visiting': 1866, 'copy': 390, 'library': 1021, 'ahhhh': 36, 'oo': 1224, 'bedtime': 155, 'ha': 777, 'gorgeous': 739, 'shout': 1542, 'trek': 1790, 'ear': 536, 'fell': 629, 'type': 1821, 'tom': 1766, 'wtf': 1962, 'cost': 391, 'painful': 1249, 'knee': 974, 'ache': 9, 'glass': 725, 'helped': 826, 'background': 125, 'image': 890, 'shiny': 1531, 'ring': 1430, 'uk': 1826, 'war': 1881, 'jack': 921, 'personal': 1277, 'sunburn': 1674, 'eh': 549, 'favourite': 623, 'challenge': 301, 'shot': 1540, 'conference': 374, 'reach': 1389, 'spell': 1609, 'bubble': 241, 'bath': 140, 'throw': 1746, 'pulled': 1360, 'blog': 189, 'wedding': 1900, 'mommy': 1143, 'donniewahlberg': 500, 'dropped': 524, 'performance': 1274, 'wall': 1878, 'likely': 1026, 'closed': 348, 'clear': 344, 'tear': 1723, 'rice': 1426, 'someday': 1589, 'hr': 862, 'needed': 1179, 'wk': 1933, 'cup': 419, 'wonderful': 1940, 'bitch': 175, 'vega': 1858, 'fever': 634, 'body': 196, 'seat': 1495, 'hardly': 798, 'evening': 573, 'blessed': 184, 'wisdom': 1930, 'selenagomez': 1502, 'heel': 818, 'walked': 1876, 'lose': 1052, 'promise': 1353, 'uploaded': 1841, 'finish': 647, 'fucked': 695, 'healthy': 809, 'choice': 330, 'dentist': 469, 'mike': 1118, 'record': 1401, 'count': 395, 'vote': 1868, 'mtv': 1161, 'award': 114, 'coz': 403, 'comp': 367, 'xxxx': 1971, 'massive': 1087, 'reading': 1391, 'paper': 1255, 'chris': 332, 'review': 1423, 'quick': 1369, 'san': 1469, 'diego': 480, 'shame': 1524, 'smh': 1578, 'wknd': 1934, 'vacation': 1856, 'ny': 1208, 'seattle': 1496, 'west': 1908, 'coast': 357, 'britain': 233, 'blame': 181, 'stock': 1640, 'simple': 1553, 'honey': 850, 'grandma': 751, 'recovering': 1403, 'craving': 409, 'ride': 1429, 'warm': 1882, 'leavin': 1013, 'outta': 1237, 'mention': 1105, 'ugly': 1824, 'blast': 182, 'chinese': 327, 'knowing': 978, 'couch': 392, 'mitchelmusso': 1132, 'jonas': 939, 'awe': 115, 'king': 970, 'nose': 1202, 'based': 138, 'husband': 876, 'reason': 1397, 'celebrating': 297, 'bradiewebbstack': 218, 'invited': 910, 'gloomy': 726, 'angry': 60, 'blue': 193, 'failed': 603, 'unlimited': 1836, 'notice': 1204, 'lonely': 1046, 'te': 1717, 'deadline': 452, 'piss': 1295, 'bigger': 169, 'pain': 1248, 'cough': 393, 'ahead': 33, 'lived': 1038, 'rubbish': 1451, 'ughhh': 1823, 'attack': 101, 'bloody': 191, 'magic': 1071, 'awsome': 118, 'study': 1658, 'screwed': 1489, 'graduation': 749, 'present': 1336, 'dm': 493, 'extremely': 595, 'singing': 1557, 'happened': 793, 'fall': 606, 'wasnt': 1885, 'heaven': 815, 'key': 958, 'history': 834, 'chuck': 335, 'geek': 711, 'hotel': 859, 'floor': 659, 'difficult': 484, 'program': 1350, 'fed': 626, 'available': 109, 'comment': 366, 'regular': 1405, 'schedule': 1484, 'closing': 350, 'obviously': 1210, 'view': 1864, 'suit': 1670, 'apparently': 74, 'starwarsday': 1629, 'played': 1306, 'decide': 456, 'wat': 1888, 'packed': 1244, 'nyc': 1209, 'journey': 943, 'begin': 158, 'error': 568, 'woman': 1938, 'xo': 1967, 'accident': 5, 'major': 1073, 'mcdonalds': 1093, 'burn': 252, 'double': 502, 'brilliant': 229, 'offer': 1213, 'dunno': 532, 'cafe': 266, 'scrub': 1490, 'bunny': 251, 'clue': 355, 'green': 757, 'bomb': 197, 'tree': 1789, 'grown': 765, 'loving': 1061, 'woohoo': 1943, 'girlfriend': 720, 'trust': 1798, 'treat': 1788, 'ap': 70, 'bell': 161, 'goal': 729, 'jess': 928, 'tooth': 1773, 'positive': 1321, 'result': 1420, 'hole': 840, 'kick': 960, 'buying': 262, 'hilarious': 832, 'california': 269, 'invite': 909, 'playing': 1308, 'jason': 924, 'swimming': 1695, 'contact': 380, 'print': 1341, 'mornin': 1149, 'speech': 1608, 'horrible': 854, 'quality': 1365, 'freaking': 684, 'phew': 1279, 'sry': 1619, 'cheap': 312, 'loser': 1053, 'june': 949, 'arrive': 84, 'upload': 1840, 'twitterland': 1818, 'proud': 1356, 'place': 1299, 'usual': 1854, 'complete': 370, 'england': 557, 'gift': 718, 'mountain': 1152, 'hugh': 868, 'needle': 1180, 'quote': 1376, 'file': 641, 'tht': 1747, 'fancy': 612, 'hill': 833, 'breaking': 225, 'covered': 402, 'private': 1342, 'bless': 183, 'session': 1516, 'hurry': 874, 'shopping': 1538, 'ummm': 1829, 'ima': 889, 'couple': 398, 'duck': 529, 'wave': 1893, 'heh': 819, 'hella': 823, 'received': 1398, 'spam': 1603, 'oil': 1220, 'mail': 1072, 'everyones': 577, 'justin': 951, 'houston': 860, 'heyy': 829, 'wats': 1892, 'came': 272, 'smile': 1579, 'article': 87, 'wrote': 1961, 'pant': 1254, 'posted': 1325, 'joke': 937, 'film': 642, 'werent': 1907, 'light': 1024, 'duty': 533, 'davidhenrie': 448, 'theatre': 1736, 'cancel': 277, 'downloaded': 506, 'happens': 795, 'act': 10, 'hollie': 842, 'keeping': 955, 'sunny': 1677, 'mall': 1077, 'germany': 713, 'surprisingly': 1687, 'wife': 1919, 'acting': 11, 'degree': 463, 'uni': 1834, 'nerd': 1183, 'ending': 555, 'speak': 1605, 'blood': 190, 'control': 384, 'photoshop': 1283, 'response': 1418, 'angel': 59, 'felt': 631, 'handle': 786, 'blip': 186, 'straight': 1647, 'channel': 306, 'killed': 965, 'festival': 633, 'xxx': 1970, 'difference': 482, 'effect': 546, 'ii': 886, 'dc': 449, 'migraine': 1117, 'laying': 1005, 'race': 1379, 'lead': 1008, 'building': 246, 'collection': 361, 'chapter': 307, 'request': 1415, 'camp': 274, 'deserve': 473, 'creepy': 414, 'senior': 1509, 'sux': 1689, 'msg': 1159, 'mama': 1078, 'heart': 813, 'workin': 1948, 'stand': 1624, 'share': 1525, 'demi': 468, 'market': 1083, 'bread': 222, 'tough': 1778, 'option': 1231, 'setting': 1518, 'lesson': 1017, 'wwwyoutubecomchineselearn': 1963, 'lover': 1060, 'umm': 1828, 'bringing': 231, 'vet': 1860, 'fry': 692, 'med': 1097, 'checked': 314, 'forget': 676, 'everyday': 576, 'art': 86, 'lolz': 1044, 'ringtones': 1431, 'stayed': 1634, 'flower': 661, 'passed': 1265, 'uh': 1825, 'anybody': 66, 'delicious': 466, 'energy': 556, 'men': 1104, 'pick': 1285, 'shoutout': 1543, 'training': 1786, 'zombie': 1998, 'toast': 1763, 'gud': 770, 'tune': 1802, 'ily': 888, 'fridge': 689, 'lie': 1023, 'named': 1172, 'doctor': 496, 'managed': 1079, 'properly': 1355, 'machine': 1069, 'busy': 257, 'million': 1123, 'cinema': 337, 'thanx': 1735, 'babysitting': 124, 'momma': 1142, 'aha': 31, 'german': 712, 'italian': 918, 'ordered': 1233, 'sweetie': 1693, 'disappointed': 488, 'leaving': 1014, 'longer': 1047, 'pizza': 1298, 'tip': 1759, 'brings': 232, 'owe': 1240, 'code': 358, 'dnt': 494, 'feed': 627, 'country': 397, 'victoria': 1861, 'walking': 1877, 'ac': 3, 'url': 1846, 'stopped': 1643, 'gunna': 773, 'dave': 445, 'pet': 1278, 'tag': 1702, 'boat': 195, 'cupcake': 420, 'lord': 1051, 'jam': 922, 'joined': 936, 'sec': 1497, 'putting': 1364, 'cell': 298, 'drunk': 527, 'package': 1243, 'singer': 1556, 'gah': 702, 'reminds': 1411, 'alive': 46, 'tweetie': 1811, 'avoid': 111, 'vid': 1862, 'alarm': 42, 'josh': 942, 'daddy': 430, 'event': 574, 'roll': 1443, 'strange': 1648, 'tha': 1732, 'liking': 1027, 'breath': 226, 'street': 1651, 'human': 871, 'revise': 1424, 'science': 1485, 'wicked': 1917, 'button': 260, 'juice': 946, 'ghost': 716, 'classic': 340, 'area': 80, 'product': 1347, 'soooooo': 1595, 'sir': 1559, 'goodness': 736, 'fighting': 638, 'andrew': 55, 'booo': 202, 'grab': 745, 'dollar': 499, 'afford': 24, 'clothes': 351, 'badly': 127, 'waste': 1886, 'paint': 1250, 'grrr': 767, 'gave': 707, 'esp': 569, 'child': 322, 'puppy': 1361, 'thumb': 1748, 'recently': 1399, 'souljaboytellem': 1599, 'partying': 1263, 'youquot': 1990, 'salt': 1467, 'lake': 985, 'greg': 758, 'hurting': 875, 'form': 679, 'unless': 1835, 'hd': 804, 'ad': 15, 'lap': 991, 'screw': 1488, 'tummy': 1801, 'jb': 926, 'marathon': 1080, 'center': 299, 'return': 1422, 'firefox': 650, 'holly': 843, 'cheese': 317, 'rub': 1450, 'according': 6, 'especially': 570, 'driving': 522, 'friendly': 690, 'bacon': 126, 'sleepy': 1570, 'plane': 1301, 'bathroom': 141, 'philly': 1281, 'asap': 89, 'starbucks': 1625, 'subway': 1663, 'christmas': 334, 'skype': 1568, 'praying': 1334, 'evil': 579, 'north': 1201, 'tattoo': 1713, 'field': 636, 'china': 326, 'signed': 1550, 'hulu': 870, 'twittering': 1817, 'license': 1022, 'sweating': 1691, 'mate': 1089, 'mode': 1139, 'lang': 989, 'taste': 1712, 'memory': 1103, 'yu': 1994, 'desktop': 476, 'wo': 1935, 'wide': 1918, 'popular': 1320, 'philippine': 1280, 'yah': 1973, 'washing': 1884, 'boot': 203, 'sucked': 1666, 'ta': 1699, 'sudden': 1667, 'depends': 470, 'fuckin': 696, 'road': 1435, 'whoop': 1915, 'cop': 389, 'mexican': 1111, 'whew': 1913, 'peace': 1270, 'poo': 1316, 'female': 632, 'shoot': 1535, 'steak': 1636, 'falling': 607, 'changing': 305, 'nail': 1171, 'usa': 1847, 'following': 670, 'youd': 1987, 'action': 12, 'chicago': 319, 'reality': 1394, 'ohhh': 1218, 'moro': 1150, 'yeahh': 1979, 'weve': 1910, 'mad': 1070, 'add': 17, 'theyll': 1739, 'waitin': 1871, 'avatar': 110, 'soccer': 1584, 'adding': 20, 'added': 18, 'uploading': 1842, 'role': 1442, 'flick': 657, 'audition': 104, 'mess': 1106, 'ocean': 1211, 'cleaned': 342, 'awhile': 117, 'silly': 1552, 'matter': 1092, 'rocked': 1439, 'scene': 1483, 'surprise': 1685, 'fashion': 615, 'laugh': 997, 'twit': 1815, 'si': 1547, 'hmmm': 838, 'wee': 1902, 'brain': 219, 'force': 674, 'extra': 594, 'drove': 525, 'mariahcarey': 1081, 'location': 1043, 'insane': 902, 'rob': 1436, 'excellent': 584, 'period': 1275, 'ang': 58, 'frustrated': 691, 'bone': 198, 'land': 988, 'tgif': 1731, 'congrats': 376, 'banana': 131, 'downloading': 507, 'ruby': 1452, 'station': 1631, 'idol': 884, 'sit': 1561, 'everytime': 578, 'figured': 640, 'sa': 1461, 'east': 541, 'mistake': 1131, 'greatest': 756, 'entire': 562, 'brought': 238, 'john': 933, 'giant': 717, 'talented': 1706, 'heat': 814, 'blew': 185, 'health': 808, 'doubt': 503, 'fave': 621, 'hoo': 851, 'island': 915, 'kitchen': 972, 'team': 1722, 'workout': 1949, 'michael': 1114, 'tax': 1714, 'sunshine': 1678, 'stink': 1639, 'painting': 1251, 'excuse': 587, 'decided': 457, 'kept': 957, 'picnic': 1288, 'tiny': 1758, 'ng': 1188, 'miserable': 1128, 'drag': 510, 'breathe': 227, 'paris': 1258, 'havin': 803, 'anytime': 68, 'downtown': 508, 'ryan': 1460, 'plant': 1304, 'timberlake': 1757, 'hm': 836, 'beauty': 154, 'incredibly': 899, 'yellow': 1981, 'gut': 774, 'winning': 1928, 'updating': 1839, 'expected': 591, 'situation': 1564, 'na': 1169, 'credit': 413, 'square': 1618, 'august': 105, 'httptinyurlcomfreeringring': 864, 'size': 1565, 'wen': 1906, 'cloud': 352, 'gray': 755, 'cash': 287, 'robluketic': 1437, 'twitterverse': 1819, 'learned': 1010, 'toy': 1781, 'sky': 1567, 'doc': 495, 'yum': 1995, 'local': 1042, 'tire': 1760, 'wild': 1922, 'proper': 1354, 'fat': 617, 'grow': 763, 'killer': 966, 'atl': 98, 'pound': 1328, 'push': 1363, 'indian': 900, 'horse': 856, 'closer': 349, 'ahhh': 35, 'kelly': 956, 'player': 1307, 'ti': 1752, 'lawn': 1003, 'matt': 1091, 'bio': 172, 'forum': 680, 'official': 1215, 'bay': 143, 'ko': 980, 'ty': 1820, 'recommend': 1400, 'jump': 948, 'posting': 1326, 'born': 206, 'smiling': 1580, 'muscle': 1165, 'bean': 150, 'travel': 1787, 'marriage': 1084, 'texas': 1728, 'york': 1986, 'noo': 1194, 'hah': 779, 'productive': 1348, 'rude': 1453, 'recording': 1402, 'ep': 564, 'rained': 1383, 'pity': 1297, 'creative': 412, 'dan': 435, 'voting': 1870, 'attempt': 102, 'dancing': 437, 'camping': 275, 'arrived': 85, 'doin': 498, 'thankyou': 1734, 'bos': 207, 'deleted': 465, 'ftw': 693, 'austin': 107, 'ahaha': 32, 'allergy': 47, 'preview': 1339, 'gear': 710, 'woop': 1944, 'search': 1492, 'picking': 1287, 'impossible': 894, 'bt': 239, 'appointment': 76, 'disappointing': 489, 'roommate': 1445, 'grad': 746, 'candy': 280, 'europe': 572, 'safe': 1464, 'relax': 1406, 'meal': 1095, 'teach': 1719, 'model': 1140, 'stick': 1638, 'connection': 378, 'ca': 264, 'horror': 855, 'texting': 1730, 'wind': 1924, 'mummy': 1164, 'icecream': 879, 'direct': 486, 'um': 1827, 'mouse': 1153, 'mcfly': 1094, 'butt': 258, 'hater': 800, 'bk': 177, 'battery': 142, 'lack': 983, 'budget': 243, 'incredible': 898, 'appt': 79, 'crossed': 417, 'ow': 1239, 'sadness': 1463, 'tix': 1761, 'pink': 1294, 'shining': 1530, 'letter': 1018, 'honestly': 849, 'helping': 827, 'wing': 1927, 'peanut': 1271, 'south': 1601, 'adam': 16, 'checking': 315, 'curious': 421, 'click': 345, 'wheres': 1912, 'giving': 722, 'sandwich': 1470, 'sense': 1510, 'grocery': 760, 'guest': 771, 'noticed': 1205, 'ish': 914, 'fear': 625, 'exciting': 586, 'amazon': 51, 'fourth': 682, 'sara': 1471, 'httpappsfacebookcomdogbookprofileview': 863, 'happiness': 796, 'lip': 1032, 'grey': 759, 'growing': 764, 'including': 897, 'spoke': 1615, 'dj': 492, 'yahoo': 1974, 'launch': 1000, 'rocking': 1440, 'johncmayer': 934, 'paranoid': 1256, 'pa': 1241, 'oops': 1228, 'sm': 1575, 'chilling': 325, 'buddy': 242, 'table': 1700, 'bff': 167, 'jesus': 929, 'atm': 100, 'rachel': 1380, 'annoyed': 63, 'flying': 664, 'press': 1338, 'ruined': 1455, 'rove': 1448, 'saved': 1476, 'artist': 88, 'loose': 1050, 'funeral': 699, 'aswell': 96, 'planned': 1302, 'joy': 944, 'purple': 1362, 'blocked': 188, 'counting': 396, 'gtlt': 769, 'iamdiddy': 877, 'dr': 509, 'gb': 709, 'grateful': 754, 'dry': 528, 'christian': 333, 'pig': 1292, 'fault': 619, 'wed': 1899, 'trailer': 1784, 'dam': 433, 'florida': 660, 'content': 381, 'grandpa': 752, 'katie': 953, 'impression': 896, 'considering': 379, 'fab': 597, 'studio': 1657, 'pillow': 1293, 'exist': 589, 'sushi': 1688, 'literally': 1037, 'sex': 1519, 'urgh': 1845, 'chatting': 311, 'gnight': 728, 'useful': 1851, 'shooting': 1536, 'ankle': 62, 'dallas': 432, 'gr': 744, 'competition': 369, 'neck': 1178, 'bowl': 214, 'laughed': 998, 'signing': 1551, 'butter': 259, 'ew': 580, 'makeup': 1074, 'drawing': 513, 'ruin': 1454, 'canuck': 281, 'crashed': 408, 'revision': 1425, 'jimmy': 930, 'hearing': 812, 'actual': 13, 'cramp': 404, 'grandparent': 753, 'continue': 383}\n"
          ]
        }
      ]
    },
    {
      "cell_type": "code",
      "source": [
        "len(cv.vocabulary_)"
      ],
      "metadata": {
        "colab": {
          "base_uri": "https://localhost:8080/"
        },
        "id": "9KGiwmfgegVA",
        "outputId": "9046704c-e373-40c4-aac6-c7e907148d4e"
      },
      "execution_count": 36,
      "outputs": [
        {
          "output_type": "execute_result",
          "data": {
            "text/plain": [
              "2000"
            ]
          },
          "metadata": {},
          "execution_count": 36
        }
      ]
    },
    {
      "cell_type": "markdown",
      "source": [
        "**TF-IDF**\n",
        "\n",
        "***Term Frequency-Inverse Document Frequency model (TFIDF)*** : It is used to convert text documents to matrix of tfidf features."
      ],
      "metadata": {
        "id": "aFJpm3IheoPR"
      }
    },
    {
      "cell_type": "code",
      "source": [
        "tfidfvec = TfidfVectorizer(stop_words = \"english\", min_df = 10, max_df=200, max_features = 2000)"
      ],
      "metadata": {
        "id": "IjJnGOQsekFP"
      },
      "execution_count": 37,
      "outputs": []
    },
    {
      "cell_type": "code",
      "source": [
        "#parse matrix to numpy array to_array\n",
        "x_train_tfidf= tfidfvec.fit_transform(x_train['content']).toarray()\n",
        "x_test_tfidf = tfidfvec.transform(x_test['content']).toarray()\n"
      ],
      "metadata": {
        "id": "2OFST-MRev7R"
      },
      "execution_count": 38,
      "outputs": []
    },
    {
      "cell_type": "code",
      "source": [
        "print(tfidfvec.vocabulary_)"
      ],
      "metadata": {
        "colab": {
          "base_uri": "https://localhost:8080/"
        },
        "id": "D31AHbzSeyf1",
        "outputId": "fe54515f-3b63-4013-a991-a279bec8135c"
      },
      "execution_count": 39,
      "outputs": [
        {
          "output_type": "stream",
          "name": "stdout",
          "text": [
            "{'listen': 1034, 'canada': 276, 'website': 1898, 'row': 1449, 'weather': 1896, 'drive': 520, 'nope': 1199, 'food': 671, 'lost': 1056, 'lunch': 1065, 'book': 200, 'room': 1444, 'pack': 1242, 'spider': 1614, 'bite': 176, 'toe': 1764, 'hungry': 873, 'killing': 967, 'funny': 700, 'andy': 56, 'date': 443, 'birthday': 174, 'woot': 1945, 'facebook': 600, 'end': 553, 'exam': 583, 'cross': 416, 'finger': 646, 'oooh': 1227, 'actually': 14, 'idea': 881, 'ugh': 1822, 'fuck': 694, 'shift': 1529, 'prom': 1352, 'dress': 516, 'use': 1849, 'ipod': 912, 'touch': 1777, 'fine': 645, 'load': 1041, 'mo': 1137, 'drink': 518, 'mmm': 1135, 'ago': 28, 'used': 1850, 'kid': 962, 'ton': 1768, 'teeth': 1724, 'beer': 157, 'leg': 1015, 'wasted': 1887, 'half': 784, 'met': 1109, 'cute': 424, 'conversation': 385, 'welcome': 1905, 'waiting': 1872, 'picked': 1286, 'coming': 365, 'forward': 681, 'dat': 442, 'iphone': 911, 'macbook': 1068, 'flat': 656, 'gotta': 742, 'hello': 824, 'true': 1796, 'write': 1958, 'seeing': 1500, 'slept': 1571, 'gross': 761, 'point': 1315, 'making': 1076, 'card': 283, 'laughing': 999, 'strawberry': 1649, 'itunes': 920, 'course': 399, 'realized': 1396, 'fixed': 654, 'hard': 797, 'sweet': 1692, 'cat': 289, 'family': 609, 'radio': 1381, 'gone': 734, 'anymore': 67, 'fully': 698, 'btw': 240, 'heap': 810, 'homework': 846, 'fish': 651, 'chip': 328, 'god': 730, 'loss': 1055, 'lucky': 1064, 'app': 73, 'real': 1392, 'help': 825, 'miami': 1113, 'hand': 785, 'delivery': 467, 'near': 1176, 'future': 701, 'unfortunately': 1833, 'fly': 663, 'miley': 1120, 'min': 1124, 'church': 336, 'theme': 1737, 'okay': 1221, 'thnx': 1743, 'asking': 93, 'catching': 291, 'instead': 904, 'hair': 783, 'hoping': 853, 'currently': 422, 'surgery': 1684, 'wanted': 1879, 'photo': 1282, 'storm': 1645, 'camera': 273, 'sunburnt': 1675, 'gutted': 775, 'blow': 192, 'class': 339, 'myspace': 1168, 'ppl': 1330, 'smoke': 1581, 'stupid': 1661, 'turn': 1803, 'drug': 526, 'seriously': 1513, 'thunder': 1749, 'early': 538, 'ah': 30, 'probably': 1345, 'pray': 1332, 'client': 346, 'minute': 1127, 'worth': 1955, 'theyre': 1740, 'starving': 1628, 'crazy': 410, 'charge': 309, 'daily': 431, 'diet': 481, 'worse': 1953, 'cuz': 426, 'allowed': 48, 'eat': 543, 'piece': 1291, 'chocolate': 329, 'server': 1514, 'change': 303, 'peep': 1272, 'moving': 1156, 'hadnt': 778, 'follower': 668, 'business': 256, 'pleasure': 1309, 'fair': 604, 'agree': 29, 'married': 1085, 'yr': 1993, 'blah': 180, 'exactly': 582, 'wouldnt': 1957, 'die': 478, 'awful': 116, 'flash': 655, 'presentation': 1337, 'upset': 1844, 'meeting': 1100, 'win': 1923, 'milk': 1122, 'starting': 1627, 'score': 1486, 'fail': 602, 'drinking': 519, 'plan': 1300, 'nap': 1173, 'yea': 1978, 'lakers': 986, 'game': 703, 'salad': 1465, 'yall': 1975, 'missing': 1129, 'tried': 1792, 'visit': 1865, 'heading': 807, 'afternoon': 26, 'andyclemmensen': 57, 'seen': 1501, 'msn': 1160, 'freakin': 683, 'cuddle': 418, 'turning': 1805, 'van': 1857, 'sent': 1511, 'ben': 163, 'shop': 1537, 'woo': 1942, 'bored': 204, 'internet': 907, 'dad': 429, 'death': 455, 'learn': 1009, 'wash': 1883, 'dish': 490, 'laundry': 1001, 'gt': 768, 'rainy': 1385, 'fucking': 697, 'chill': 323, 'sooo': 1592, 'stressed': 1653, 'sign': 1549, 'annoying': 64, 'le': 1007, 'experience': 593, 'fan': 611, 'season': 1494, 'fam': 608, 'support': 1681, 'ddlovato': 450, 'brazil': 221, 'sending': 1508, 'hug': 866, 'yesterday': 1984, 'dinner': 485, 'beat': 152, 'taco': 1701, 'officially': 1216, 'high': 831, 'catch': 290, 'wearing': 1895, 'eye': 596, 'weird': 1904, 'hows': 861, 'bye': 263, 'liked': 1025, 'pc': 1269, 'world': 1950, 'youve': 1992, 'success': 1664, 'sarah': 1472, 'packing': 1245, 'oven': 1238, 'wii': 1921, 'soooo': 1593, 'realised': 1393, 'xx': 1969, 'red': 1404, 'age': 27, 'hi': 830, 'net': 1185, 'yayy': 1977, 'short': 1539, 'mum': 1163, 'awwwww': 122, 'late': 994, 'shes': 1528, 'egg': 548, 'fast': 616, 'folk': 666, 'moved': 1155, 'london': 1045, 'post': 1324, 'dirty': 487, 'ouch': 1235, 'mix': 1133, 'match': 1088, 'dumb': 531, 'text': 1729, 'changed': 304, 'golden': 732, 'worry': 1952, 'usually': 1855, 'nearly': 1177, 'taylorswift': 1716, 'taylor': 1715, 'glasgow': 724, 'care': 284, 'aww': 119, 'glad': 723, 'twice': 1813, 'total': 1775, 'random': 1387, 'check': 313, 'account': 7, 'far': 614, 'car': 282, 'air': 38, 'worked': 1947, 'sigh': 1548, 'metal': 1110, 'planning': 1303, 'stuff': 1660, 'sunday': 1676, 'losing': 1054, 'cut': 423, 'picture': 1289, 'whore': 1916, 'boyfriend': 217, 'fml': 665, 'havent': 802, 'epic': 565, 'grr': 766, 'tmrw': 1762, 'dead': 451, 'muffin': 1162, 'wishing': 1931, 'video': 1863, 'freezing': 686, 'bring': 230, 'dying': 535, 'american': 53, 'talking': 1710, 'deal': 453, 'thinking': 1742, 'prob': 1344, 'figure': 639, 'sydney': 1698, 'meant': 1096, 'alright': 50, 'awake': 113, 'tweeting': 1812, 'bike': 171, 'crash': 407, 'word': 1946, 'hospital': 857, 'er': 567, 'broken': 236, 'fact': 601, 'completely': 371, 'forgot': 678, 'thursday': 1750, 'college': 362, 'soul': 1598, 'searching': 1493, 'favorite': 622, 'laptop': 992, 'chillin': 324, 'neighbor': 1181, 'mrskutcher': 1158, 'fantastic': 613, 'forever': 675, 'teaching': 1721, 'person': 1276, 'super': 1679, 'slow': 1573, 'crappy': 406, 'tommcfly': 1767, 'dougiemcfly': 504, 'started': 1626, 'gossip': 741, 'mood': 1147, 'round': 1447, 'dark': 440, 'hee': 817, 'plenty': 1310, 'holy': 845, 'crap': 405, 'raining': 1384, 'la': 981, 'rofl': 1441, 'xd': 1965, 'disney': 491, 'depressing': 472, 'uncle': 1830, 'sam': 1468, 'aw': 112, 'looked': 1048, 'odd': 1212, 'cyrus': 427, 'whats': 1911, 'itll': 919, 'quickly': 1370, 'possible': 1322, 'barely': 136, 'read': 1390, 'plus': 1312, 'enjoyed': 560, 'mouth': 1154, 'character': 308, 'wrong': 1960, 'group': 762, 'sore': 1596, 'throat': 1745, 'scary': 1482, 'mark': 1082, 'swear': 1690, 'depressed': 471, 'hangover': 790, 'brand': 220, 'aint': 37, 'goodnight': 737, 'lovely': 1059, 'totally': 1776, 'single': 1558, 'stuck': 1655, 'normal': 1200, 'mini': 1126, 'opening': 1230, 'took': 1771, 'rid': 1428, 'sister': 1560, 'morrow': 1151, 'hannah': 791, 'drop': 523, 'wondering': 1941, 'shouldnt': 1541, 'gettin': 714, 'kno': 977, 'rock': 1438, 'messed': 1108, 'concert': 373, 'store': 1644, 'moment': 1141, 'ask': 91, 'box': 215, 'nooooo': 1198, 'headed': 806, 'parking': 1260, 'month': 1146, 'glorious': 727, 'company': 368, 'train': 1785, 'terrible': 1726, 'wifi': 1920, 'updated': 1838, 'pic': 1284, 'hopefully': 852, 'white': 1914, 'black': 178, 'bird': 173, 'report': 1414, 'ff': 635, 'cooky': 388, 'important': 893, 'access': 4, 'cancelled': 278, 'run': 1457, 'staying': 1635, 'tho': 1744, 'teacher': 1720, 'research': 1416, 'spent': 1613, 'cold': 360, 'spend': 1611, 'info': 901, 'baseball': 137, 'cnt': 356, 'stop': 1642, 'nite': 1192, 'boo': 199, 'rest': 1419, 'lmao': 1040, 'remember': 1409, 'winter': 1929, 'il': 887, 'hav': 801, 'isnt': 916, 'ate': 97, 'telling': 1725, 'till': 1756, 'stress': 1652, 'quit': 1372, 'died': 479, 'cancer': 279, 'twitpic': 1816, 'ahh': 34, 'chick': 320, 'rip': 1432, 'understand': 1831, 'mileycyrus': 1121, 'episode': 566, 'series': 1512, 'rite': 1433, 'decision': 458, 'bank': 134, 'holiday': 841, 'absolutely': 1, 'headache': 805, 'keyboard': 959, 'dammit': 434, 'rich': 1427, 'beach': 149, 'bum': 247, 'eating': 544, 'fresh': 688, 'hit': 835, 'noon': 1195, 'enjoy': 559, 'bbq': 145, 'swing': 1697, 'dressed': 517, 'dance': 436, 'yep': 1982, 'bday': 147, 'kiss': 971, 'happen': 792, 'jonathanrknight': 941, 'addicted': 19, 'shoe': 1534, 'david': 446, 'cook': 386, 'brother': 237, 'surprised': 1686, 'grade': 747, 'spelling': 1610, 'bee': 156, 'st': 1620, 'goin': 731, 'aunt': 106, 'talkin': 1709, 'sum': 1671, 'told': 1765, 'da': 428, 'bus': 255, 'bout': 213, 'til': 1755, 'midnight': 1116, 'kinda': 969, 'pissed': 1296, 'id': 880, 'bunch': 250, 'ended': 554, 'shut': 1546, 'meh': 1101, 'watchin': 1890, 'quite': 1373, 'pub': 1357, 'hehe': 820, 'nah': 1170, 'ace': 8, 'cake': 267, 'hun': 872, 'worried': 1951, 'sitting': 1563, 'yo': 1985, 'pls': 1311, 'number': 1206, 'plz': 1313, 'fight': 637, 'sat': 1473, 'mission': 1130, 'different': 483, 'cloudy': 353, 'outside': 1236, 'essay': 571, 'ice': 878, 'cream': 411, 'rule': 1456, 'sun': 1673, 'fit': 652, 'twilight': 1814, 'board': 194, 'quot': 1375, 'fabulous': 598, 'language': 990, 'thx': 1751, 'carry': 285, 'imagine': 891, 'appreciate': 77, 'effort': 547, 'skin': 1566, 'screen': 1487, 'cali': 268, 'hero': 828, 'sock': 1586, 'online': 1223, 'voted': 1869, 'cheer': 316, 'test': 1727, 'talked': 1708, 'finished': 648, 'assignment': 95, 'finishing': 649, 'deep': 460, 'dear': 454, 'chicken': 321, 'soup': 1600, 'social': 1585, 'mile': 1119, 'apart': 71, 'bought': 211, 'usb': 1848, 'broke': 235, 'truly': 1797, 'close': 347, 'web': 1897, 'level': 1020, 'news': 1187, 'ups': 1843, 'keen': 954, 'nooo': 1196, 'gosh': 740, 'chance': 302, 'imma': 892, 'scared': 1481, 'luv': 1066, 'nervous': 1184, 'bah': 129, 'kitty': 973, 'door': 501, 'coffee': 359, 'sugar': 1668, 'design': 474, 'called': 270, 'exhausted': 588, 'alot': 49, 'relaxing': 1407, 'nephew': 1182, 'successful': 1665, 'bound': 212, 'caught': 292, 'swine': 1696, 'flu': 662, 'waking': 1874, 'impressed': 895, 'dream': 514, 'nd': 1175, 'quiet': 1371, 'america': 52, 'profile': 1349, 'status': 1632, 'update': 1837, 'list': 1033, 'mmmm': 1136, 'rain': 1382, 'listened': 1035, 'showing': 1545, 'site': 1562, 'hubby': 865, 'tweeted': 1809, 'dreaming': 515, 'lady': 984, 'young': 1989, 'trouble': 1794, 'trending': 1791, 'topic': 1774, 'quotthe': 1378, 'wonder': 1939, 'que': 1366, 'finding': 644, 'pm': 1314, 'followfriday': 669, 'suggestion': 1669, 'pro': 1343, 'loved': 1058, 'rush': 1459, 'idk': 883, 'davidarchie': 447, 'pop': 1319, 'band': 132, 'taking': 1704, 'stage': 1623, 'tv': 1806, 'original': 1234, 'sort': 1597, 'send': 1507, 'order': 1232, 'suppose': 1682, 'studying': 1659, 'yummy': 1996, 'block': 187, 'supposed': 1683, 'sold': 1587, 'bummer': 249, 'issue': 917, 'user': 1852, 'nick': 1189, 'flight': 658, 'cover': 401, 'heard': 811, 'problem': 1346, 'aka': 40, 'cable': 265, 'office': 1214, 'cavs': 294, 'followed': 667, 'saving': 1477, 'sooooo': 1594, 'replied': 1412, 'chat': 310, 'message': 1107, 'fake': 605, 'xbox': 1964, 'running': 1458, 'remembered': 1410, 'lay': 1004, 'boring': 205, 'prefer': 1335, 'al': 41, 'lookin': 1049, 'latest': 996, 'entry': 563, 'youtube': 1991, 'calling': 271, 'summer': 1672, 'dick': 477, 'talk': 1707, 'cleaning': 343, 'famous': 610, 'daughter': 444, 'spending': 1612, 'money': 1144, 'ticket': 1753, 'selling': 1505, 'party': 1262, 'hahaha': 781, 'ooh': 1225, 'turned': 1804, 'saturday': 1474, 'luck': 1063, 'hon': 847, 'partner': 1261, 'drama': 511, 'queen': 1367, 'known': 979, 'argh': 82, 'anyways': 69, 'theory': 1738, 'listening': 1036, 'makin': 1075, 'gas': 706, 'price': 1340, 'def': 461, 'ya': 1972, 'nasty': 1174, 'poor': 1318, 'mind': 1125, 'meet': 1099, 'bella': 162, 'member': 1102, 'lazy': 1006, 'leave': 1012, 'potato': 1327, 'given': 721, 'power': 1329, 'gig': 719, 'saying': 1479, 'address': 21, 'sf': 1521, 'free': 685, 'gotten': 743, 'email': 552, 'using': 1853, 'tweetdeck': 1808, 'letting': 1019, 'pool': 1317, 'sexy': 1520, 'hat': 799, 'quiz': 1374, 'water': 1891, 'park': 1259, 'hmm': 837, 'writing': 1959, 'perfect': 1273, 'taken': 1703, 'tan': 1711, 'foot': 672, 'link': 1031, 'watched': 1889, 'xmen': 1966, 'wolverine': 1937, 'excited': 585, 'wednesday': 1901, 'football': 673, 'save': 1475, 'nut': 1207, 'expensive': 592, 'saw': 1478, 'james': 923, 'spanish': 1604, 'hang': 787, 'jon': 938, 'bear': 151, 'walk': 1875, 'garden': 705, 'step': 1637, 'desk': 475, 'goodbye': 735, 'jtimberlake': 945, 'bc': 146, 'woke': 1936, 'open': 1229, 'lab': 982, 'fav': 620, 'strong': 1654, 'beautiful': 153, 'retrorewind': 1421, 'awwww': 121, 'tuesday': 1800, 'afraid': 25, 'math': 1090, 'english': 558, 'tweeter': 1810, 'weight': 1903, 'kind': 968, 'golf': 733, 'australia': 108, 'zoo': 1999, 'staff': 1622, 'certain': 300, 'interview': 908, 'space': 1602, 'computer': 372, 'sims': 1554, 'sleeping': 1569, 'idiot': 882, 'hell': 822, 'couldve': 394, 'comin': 364, 'wit': 1932, 'atleast': 99, 'truth': 1799, 'prayer': 1333, 'xoxo': 1968, 'buy': 261, 'besties': 164, 'club': 354, 'grand': 750, 'trip': 1793, 'spring': 1617, 'clean': 341, 'public': 1358, 'tea': 1718, 'tweeps': 1807, 'smell': 1577, 'alcohol': 44, 'cutting': 425, 'theyve': 1741, 'mac': 1067, 'mi': 1112, 'expect': 590, 'case': 286, 'hehehe': 821, 'tool': 1772, 'city': 338, 'scare': 1480, 'arent': 81, 'animal': 61, 'small': 1576, 'slowly': 1574, 'cause': 293, 'hollyoaks': 844, 'dannywood': 439, 'ran': 1386, 'respect': 1417, 'dude': 530, 'pair': 1252, 'bug': 244, 'knew': 975, 'answer': 65, 'second': 1498, 'host': 858, 'mr': 1157, 'gym': 776, 'bag': 128, 'forgive': 677, 'dog': 497, 'face': 599, 'moon': 1148, 'tour': 1779, 'shake': 1522, 'airport': 39, 'delayed': 464, 'state': 1630, 'ignore': 885, 'advice': 23, 'secret': 1499, 'noooo': 1197, 'soo': 1591, 'stay': 1633, 'happening': 794, 'choose': 331, 'question': 1368, 'low': 1062, 'download': 505, 'chest': 318, 'style': 1662, 'sea': 1491, 'easy': 542, 'musical': 1167, 'cd': 295, 'cousin': 400, 'bothered': 209, 'fellow': 630, 'tight': 1754, 'law': 1002, 'congratulation': 377, 'graduate': 748, 'youll': 1988, 'celebrate': 296, 'ball': 130, 'nickcarter': 1190, 'boy': 216, 'hahah': 780, 'feelin': 628, 'bein': 159, 'yup': 1997, 'burned': 253, 'tongue': 1769, 'jk': 931, 'note': 1203, 'stream': 1650, 'medium': 1098, 'easier': 540, 'somebody': 1588, 'shirt': 1532, 'huge': 867, 'special': 1607, 'hold': 839, 'track': 1782, 'montana': 1145, 'huh': 869, 'alex': 45, 'snl': 1583, 'bf': 166, 'apps': 78, 'confused': 375, 'hanging': 789, 'voice': 1867, 'kill': 964, 'wear': 1894, 'awww': 120, 'stack': 1621, 'traffic': 1783, 'living': 1039, 'worst': 1954, 'town': 1780, 'self': 1503, 'bro': 234, 'breakfast': 224, 'fix': 653, 'large': 993, 'arm': 83, 'heck': 816, 'dang': 438, 'lil': 1028, 'bet': 165, 'river': 1434, 'unfair': 1832, 'kate': 952, 'lately': 995, 'nightmare': 1191, 'stomach': 1641, 'window': 1925, 'driver': 521, 'inside': 903, 'sharing': 1526, 'drank': 512, 'google': 738, 'mm': 1134, 'jay': 925, 'leno': 1016, 'tonite': 1770, 'sell': 1504, 'album': 43, 'shall': 1523, 'apple': 75, 'pie': 1290, 'booked': 201, 'break': 223, 'lame': 987, 'join': 935, 'parent': 1257, 'wake': 1873, 'el': 550, 'learning': 1011, 'abt': 2, 'pay': 1267, 'july': 947, 'ampamp': 54, 'deck': 459, 'basically': 139, 'cried': 415, 'sadly': 1462, 'mobile': 1138, 'wine': 1926, 'bang': 133, 'editing': 545, 'spot': 1616, 'cooking': 387, 'practice': 1331, 'bea': 148, 'release': 1408, 'shit': 1533, 'apartment': 72, 'color': 363, 'jealous': 927, 'asked': 92, 'page': 1246, 'french': 687, 'speaking': 1606, 'wossy': 1956, 'pull': 1359, 'father': 618, 'swim': 1694, 'adorable': 22, 'knight': 976, 'dvd': 534, 'project': 1351, 'believe': 160, 'final': 643, 'semester': 1506, 'possibly': 1323, 'middle': 1115, 'interesting': 906, 'story': 1646, 'honest': 848, 'reply': 1413, 'biggest': 170, 'build': 245, 'paying': 1268, 'attention': 103, 'darn': 441, 'em': 551, 'paid': 1247, 'rd': 1388, 'nkotb': 1193, 'contest': 382, 'ohhhh': 1219, 'older': 1222, 'asleep': 94, 'realize': 1395, 'burnt': 254, 'definitely': 462, 'past': 1266, 'set': 1517, 'ohh': 1217, 'yer': 1983, 'gay': 708, 'enjoying': 561, 'boston': 208, 'wet': 1909, 'bottle': 210, 'jus': 950, 'slightly': 1572, 'thankful': 1733, 'earth': 539, 'bgt': 168, 'bb': 144, 'supernatural': 1680, 'kicked': 961, 'limit': 1029, 'garage': 704, 'gfalcone': 715, 'hahahaha': 782, 'son': 1590, 'shell': 1527, 'version': 1859, 'panic': 1253, 'pas': 1264, 'bummed': 248, 'student': 1656, 'snap': 1582, 'babe': 123, 'interested': 905, 'guitar': 772, 'ex': 581, 'ooo': 1226, 'iron': 913, 'rose': 1446, 'play': 1305, 'talent': 1705, 'music': 1166, 'able': 0, 'service': 1515, 'line': 1030, 'quoti': 1377, 'wanting': 1880, 'cast': 288, 'kidding': 963, 'joe': 932, 'jonasbrothers': 940, 'hangin': 788, 'bar': 135, 'yeh': 1980, 'fb': 624, 'shower': 1544, 'ashley': 90, 'earlier': 537, 'mary': 1086, 'sing': 1555, 'blackberry': 179, 'network': 1186, 'bright': 228, 'truck': 1795, 'everybody': 575, 'yard': 1976, 'sale': 1466, 'loud': 1057, 'visiting': 1866, 'copy': 390, 'library': 1021, 'ahhhh': 36, 'oo': 1224, 'bedtime': 155, 'ha': 777, 'gorgeous': 739, 'shout': 1542, 'trek': 1790, 'ear': 536, 'fell': 629, 'type': 1821, 'tom': 1766, 'wtf': 1962, 'cost': 391, 'painful': 1249, 'knee': 974, 'ache': 9, 'glass': 725, 'helped': 826, 'background': 125, 'image': 890, 'shiny': 1531, 'ring': 1430, 'uk': 1826, 'war': 1881, 'jack': 921, 'personal': 1277, 'sunburn': 1674, 'eh': 549, 'favourite': 623, 'challenge': 301, 'shot': 1540, 'conference': 374, 'reach': 1389, 'spell': 1609, 'bubble': 241, 'bath': 140, 'throw': 1746, 'pulled': 1360, 'blog': 189, 'wedding': 1900, 'mommy': 1143, 'donniewahlberg': 500, 'dropped': 524, 'performance': 1274, 'wall': 1878, 'likely': 1026, 'closed': 348, 'clear': 344, 'tear': 1723, 'rice': 1426, 'someday': 1589, 'hr': 862, 'needed': 1179, 'wk': 1933, 'cup': 419, 'wonderful': 1940, 'bitch': 175, 'vega': 1858, 'fever': 634, 'body': 196, 'seat': 1495, 'hardly': 798, 'evening': 573, 'blessed': 184, 'wisdom': 1930, 'selenagomez': 1502, 'heel': 818, 'walked': 1876, 'lose': 1052, 'promise': 1353, 'uploaded': 1841, 'finish': 647, 'fucked': 695, 'healthy': 809, 'choice': 330, 'dentist': 469, 'mike': 1118, 'record': 1401, 'count': 395, 'vote': 1868, 'mtv': 1161, 'award': 114, 'coz': 403, 'comp': 367, 'xxxx': 1971, 'massive': 1087, 'reading': 1391, 'paper': 1255, 'chris': 332, 'review': 1423, 'quick': 1369, 'san': 1469, 'diego': 480, 'shame': 1524, 'smh': 1578, 'wknd': 1934, 'vacation': 1856, 'ny': 1208, 'seattle': 1496, 'west': 1908, 'coast': 357, 'britain': 233, 'blame': 181, 'stock': 1640, 'simple': 1553, 'honey': 850, 'grandma': 751, 'recovering': 1403, 'craving': 409, 'ride': 1429, 'warm': 1882, 'leavin': 1013, 'outta': 1237, 'mention': 1105, 'ugly': 1824, 'blast': 182, 'chinese': 327, 'knowing': 978, 'couch': 392, 'mitchelmusso': 1132, 'jonas': 939, 'awe': 115, 'king': 970, 'nose': 1202, 'based': 138, 'husband': 876, 'reason': 1397, 'celebrating': 297, 'bradiewebbstack': 218, 'invited': 910, 'gloomy': 726, 'angry': 60, 'blue': 193, 'failed': 603, 'unlimited': 1836, 'notice': 1204, 'lonely': 1046, 'te': 1717, 'deadline': 452, 'piss': 1295, 'bigger': 169, 'pain': 1248, 'cough': 393, 'ahead': 33, 'lived': 1038, 'rubbish': 1451, 'ughhh': 1823, 'attack': 101, 'bloody': 191, 'magic': 1071, 'awsome': 118, 'study': 1658, 'screwed': 1489, 'graduation': 749, 'present': 1336, 'dm': 493, 'extremely': 595, 'singing': 1557, 'happened': 793, 'fall': 606, 'wasnt': 1885, 'heaven': 815, 'key': 958, 'history': 834, 'chuck': 335, 'geek': 711, 'hotel': 859, 'floor': 659, 'difficult': 484, 'program': 1350, 'fed': 626, 'available': 109, 'comment': 366, 'regular': 1405, 'schedule': 1484, 'closing': 350, 'obviously': 1210, 'view': 1864, 'suit': 1670, 'apparently': 74, 'starwarsday': 1629, 'played': 1306, 'decide': 456, 'wat': 1888, 'packed': 1244, 'nyc': 1209, 'journey': 943, 'begin': 158, 'error': 568, 'woman': 1938, 'xo': 1967, 'accident': 5, 'major': 1073, 'mcdonalds': 1093, 'burn': 252, 'double': 502, 'brilliant': 229, 'offer': 1213, 'dunno': 532, 'cafe': 266, 'scrub': 1490, 'bunny': 251, 'clue': 355, 'green': 757, 'bomb': 197, 'tree': 1789, 'grown': 765, 'loving': 1061, 'woohoo': 1943, 'girlfriend': 720, 'trust': 1798, 'treat': 1788, 'ap': 70, 'bell': 161, 'goal': 729, 'jess': 928, 'tooth': 1773, 'positive': 1321, 'result': 1420, 'hole': 840, 'kick': 960, 'buying': 262, 'hilarious': 832, 'california': 269, 'invite': 909, 'playing': 1308, 'jason': 924, 'swimming': 1695, 'contact': 380, 'print': 1341, 'mornin': 1149, 'speech': 1608, 'horrible': 854, 'quality': 1365, 'freaking': 684, 'phew': 1279, 'sry': 1619, 'cheap': 312, 'loser': 1053, 'june': 949, 'arrive': 84, 'upload': 1840, 'twitterland': 1818, 'proud': 1356, 'place': 1299, 'usual': 1854, 'complete': 370, 'england': 557, 'gift': 718, 'mountain': 1152, 'hugh': 868, 'needle': 1180, 'quote': 1376, 'file': 641, 'tht': 1747, 'fancy': 612, 'hill': 833, 'breaking': 225, 'covered': 402, 'private': 1342, 'bless': 183, 'session': 1516, 'hurry': 874, 'shopping': 1538, 'ummm': 1829, 'ima': 889, 'couple': 398, 'duck': 529, 'wave': 1893, 'heh': 819, 'hella': 823, 'received': 1398, 'spam': 1603, 'oil': 1220, 'mail': 1072, 'everyones': 577, 'justin': 951, 'houston': 860, 'heyy': 829, 'wats': 1892, 'came': 272, 'smile': 1579, 'article': 87, 'wrote': 1961, 'pant': 1254, 'posted': 1325, 'joke': 937, 'film': 642, 'werent': 1907, 'light': 1024, 'duty': 533, 'davidhenrie': 448, 'theatre': 1736, 'cancel': 277, 'downloaded': 506, 'happens': 795, 'act': 10, 'hollie': 842, 'keeping': 955, 'sunny': 1677, 'mall': 1077, 'germany': 713, 'surprisingly': 1687, 'wife': 1919, 'acting': 11, 'degree': 463, 'uni': 1834, 'nerd': 1183, 'ending': 555, 'speak': 1605, 'blood': 190, 'control': 384, 'photoshop': 1283, 'response': 1418, 'angel': 59, 'felt': 631, 'handle': 786, 'blip': 186, 'straight': 1647, 'channel': 306, 'killed': 965, 'festival': 633, 'xxx': 1970, 'difference': 482, 'effect': 546, 'ii': 886, 'dc': 449, 'migraine': 1117, 'laying': 1005, 'race': 1379, 'lead': 1008, 'building': 246, 'collection': 361, 'chapter': 307, 'request': 1415, 'camp': 274, 'deserve': 473, 'creepy': 414, 'senior': 1509, 'sux': 1689, 'msg': 1159, 'mama': 1078, 'heart': 813, 'workin': 1948, 'stand': 1624, 'share': 1525, 'demi': 468, 'market': 1083, 'bread': 222, 'tough': 1778, 'option': 1231, 'setting': 1518, 'lesson': 1017, 'wwwyoutubecomchineselearn': 1963, 'lover': 1060, 'umm': 1828, 'bringing': 231, 'vet': 1860, 'fry': 692, 'med': 1097, 'checked': 314, 'forget': 676, 'everyday': 576, 'art': 86, 'lolz': 1044, 'ringtones': 1431, 'stayed': 1634, 'flower': 661, 'passed': 1265, 'uh': 1825, 'anybody': 66, 'delicious': 466, 'energy': 556, 'men': 1104, 'pick': 1285, 'shoutout': 1543, 'training': 1786, 'zombie': 1998, 'toast': 1763, 'gud': 770, 'tune': 1802, 'ily': 888, 'fridge': 689, 'lie': 1023, 'named': 1172, 'doctor': 496, 'managed': 1079, 'properly': 1355, 'machine': 1069, 'busy': 257, 'million': 1123, 'cinema': 337, 'thanx': 1735, 'babysitting': 124, 'momma': 1142, 'aha': 31, 'german': 712, 'italian': 918, 'ordered': 1233, 'sweetie': 1693, 'disappointed': 488, 'leaving': 1014, 'longer': 1047, 'pizza': 1298, 'tip': 1759, 'brings': 232, 'owe': 1240, 'code': 358, 'dnt': 494, 'feed': 627, 'country': 397, 'victoria': 1861, 'walking': 1877, 'ac': 3, 'url': 1846, 'stopped': 1643, 'gunna': 773, 'dave': 445, 'pet': 1278, 'tag': 1702, 'boat': 195, 'cupcake': 420, 'lord': 1051, 'jam': 922, 'joined': 936, 'sec': 1497, 'putting': 1364, 'cell': 298, 'drunk': 527, 'package': 1243, 'singer': 1556, 'gah': 702, 'reminds': 1411, 'alive': 46, 'tweetie': 1811, 'avoid': 111, 'vid': 1862, 'alarm': 42, 'josh': 942, 'daddy': 430, 'event': 574, 'roll': 1443, 'strange': 1648, 'tha': 1732, 'liking': 1027, 'breath': 226, 'street': 1651, 'human': 871, 'revise': 1424, 'science': 1485, 'wicked': 1917, 'button': 260, 'juice': 946, 'ghost': 716, 'classic': 340, 'area': 80, 'product': 1347, 'soooooo': 1595, 'sir': 1559, 'goodness': 736, 'fighting': 638, 'andrew': 55, 'booo': 202, 'grab': 745, 'dollar': 499, 'afford': 24, 'clothes': 351, 'badly': 127, 'waste': 1886, 'paint': 1250, 'grrr': 767, 'gave': 707, 'esp': 569, 'child': 322, 'puppy': 1361, 'thumb': 1748, 'recently': 1399, 'souljaboytellem': 1599, 'partying': 1263, 'youquot': 1990, 'salt': 1467, 'lake': 985, 'greg': 758, 'hurting': 875, 'form': 679, 'unless': 1835, 'hd': 804, 'ad': 15, 'lap': 991, 'screw': 1488, 'tummy': 1801, 'jb': 926, 'marathon': 1080, 'center': 299, 'return': 1422, 'firefox': 650, 'holly': 843, 'cheese': 317, 'rub': 1450, 'according': 6, 'especially': 570, 'driving': 522, 'friendly': 690, 'bacon': 126, 'sleepy': 1570, 'plane': 1301, 'bathroom': 141, 'philly': 1281, 'asap': 89, 'starbucks': 1625, 'subway': 1663, 'christmas': 334, 'skype': 1568, 'praying': 1334, 'evil': 579, 'north': 1201, 'tattoo': 1713, 'field': 636, 'china': 326, 'signed': 1550, 'hulu': 870, 'twittering': 1817, 'license': 1022, 'sweating': 1691, 'mate': 1089, 'mode': 1139, 'lang': 989, 'taste': 1712, 'memory': 1103, 'yu': 1994, 'desktop': 476, 'wo': 1935, 'wide': 1918, 'popular': 1320, 'philippine': 1280, 'yah': 1973, 'washing': 1884, 'boot': 203, 'sucked': 1666, 'ta': 1699, 'sudden': 1667, 'depends': 470, 'fuckin': 696, 'road': 1435, 'whoop': 1915, 'cop': 389, 'mexican': 1111, 'whew': 1913, 'peace': 1270, 'poo': 1316, 'female': 632, 'shoot': 1535, 'steak': 1636, 'falling': 607, 'changing': 305, 'nail': 1171, 'usa': 1847, 'following': 670, 'youd': 1987, 'action': 12, 'chicago': 319, 'reality': 1394, 'ohhh': 1218, 'moro': 1150, 'yeahh': 1979, 'weve': 1910, 'mad': 1070, 'add': 17, 'theyll': 1739, 'waitin': 1871, 'avatar': 110, 'soccer': 1584, 'adding': 20, 'added': 18, 'uploading': 1842, 'role': 1442, 'flick': 657, 'audition': 104, 'mess': 1106, 'ocean': 1211, 'cleaned': 342, 'awhile': 117, 'silly': 1552, 'matter': 1092, 'rocked': 1439, 'scene': 1483, 'surprise': 1685, 'fashion': 615, 'laugh': 997, 'twit': 1815, 'si': 1547, 'hmmm': 838, 'wee': 1902, 'brain': 219, 'force': 674, 'extra': 594, 'drove': 525, 'mariahcarey': 1081, 'location': 1043, 'insane': 902, 'rob': 1436, 'excellent': 584, 'period': 1275, 'ang': 58, 'frustrated': 691, 'bone': 198, 'land': 988, 'tgif': 1731, 'congrats': 376, 'banana': 131, 'downloading': 507, 'ruby': 1452, 'station': 1631, 'idol': 884, 'sit': 1561, 'everytime': 578, 'figured': 640, 'sa': 1461, 'east': 541, 'mistake': 1131, 'greatest': 756, 'entire': 562, 'brought': 238, 'john': 933, 'giant': 717, 'talented': 1706, 'heat': 814, 'blew': 185, 'health': 808, 'doubt': 503, 'fave': 621, 'hoo': 851, 'island': 915, 'kitchen': 972, 'team': 1722, 'workout': 1949, 'michael': 1114, 'tax': 1714, 'sunshine': 1678, 'stink': 1639, 'painting': 1251, 'excuse': 587, 'decided': 457, 'kept': 957, 'picnic': 1288, 'tiny': 1758, 'ng': 1188, 'miserable': 1128, 'drag': 510, 'breathe': 227, 'paris': 1258, 'havin': 803, 'anytime': 68, 'downtown': 508, 'ryan': 1460, 'plant': 1304, 'timberlake': 1757, 'hm': 836, 'beauty': 154, 'incredibly': 899, 'yellow': 1981, 'gut': 774, 'winning': 1928, 'updating': 1839, 'expected': 591, 'situation': 1564, 'na': 1169, 'credit': 413, 'square': 1618, 'august': 105, 'httptinyurlcomfreeringring': 864, 'size': 1565, 'wen': 1906, 'cloud': 352, 'gray': 755, 'cash': 287, 'robluketic': 1437, 'twitterverse': 1819, 'learned': 1010, 'toy': 1781, 'sky': 1567, 'doc': 495, 'yum': 1995, 'local': 1042, 'tire': 1760, 'wild': 1922, 'proper': 1354, 'fat': 617, 'grow': 763, 'killer': 966, 'atl': 98, 'pound': 1328, 'push': 1363, 'indian': 900, 'horse': 856, 'closer': 349, 'ahhh': 35, 'kelly': 956, 'player': 1307, 'ti': 1752, 'lawn': 1003, 'matt': 1091, 'bio': 172, 'forum': 680, 'official': 1215, 'bay': 143, 'ko': 980, 'ty': 1820, 'recommend': 1400, 'jump': 948, 'posting': 1326, 'born': 206, 'smiling': 1580, 'muscle': 1165, 'bean': 150, 'travel': 1787, 'marriage': 1084, 'texas': 1728, 'york': 1986, 'noo': 1194, 'hah': 779, 'productive': 1348, 'rude': 1453, 'recording': 1402, 'ep': 564, 'rained': 1383, 'pity': 1297, 'creative': 412, 'dan': 435, 'voting': 1870, 'attempt': 102, 'dancing': 437, 'camping': 275, 'arrived': 85, 'doin': 498, 'thankyou': 1734, 'bos': 207, 'deleted': 465, 'ftw': 693, 'austin': 107, 'ahaha': 32, 'allergy': 47, 'preview': 1339, 'gear': 710, 'woop': 1944, 'search': 1492, 'picking': 1287, 'impossible': 894, 'bt': 239, 'appointment': 76, 'disappointing': 489, 'roommate': 1445, 'grad': 746, 'candy': 280, 'europe': 572, 'safe': 1464, 'relax': 1406, 'meal': 1095, 'teach': 1719, 'model': 1140, 'stick': 1638, 'connection': 378, 'ca': 264, 'horror': 855, 'texting': 1730, 'wind': 1924, 'mummy': 1164, 'icecream': 879, 'direct': 486, 'um': 1827, 'mouse': 1153, 'mcfly': 1094, 'butt': 258, 'hater': 800, 'bk': 177, 'battery': 142, 'lack': 983, 'budget': 243, 'incredible': 898, 'appt': 79, 'crossed': 417, 'ow': 1239, 'sadness': 1463, 'tix': 1761, 'pink': 1294, 'shining': 1530, 'letter': 1018, 'honestly': 849, 'helping': 827, 'wing': 1927, 'peanut': 1271, 'south': 1601, 'adam': 16, 'checking': 315, 'curious': 421, 'click': 345, 'wheres': 1912, 'giving': 722, 'sandwich': 1470, 'sense': 1510, 'grocery': 760, 'guest': 771, 'noticed': 1205, 'ish': 914, 'fear': 625, 'exciting': 586, 'amazon': 51, 'fourth': 682, 'sara': 1471, 'httpappsfacebookcomdogbookprofileview': 863, 'happiness': 796, 'lip': 1032, 'grey': 759, 'growing': 764, 'including': 897, 'spoke': 1615, 'dj': 492, 'yahoo': 1974, 'launch': 1000, 'rocking': 1440, 'johncmayer': 934, 'paranoid': 1256, 'pa': 1241, 'oops': 1228, 'sm': 1575, 'chilling': 325, 'buddy': 242, 'table': 1700, 'bff': 167, 'jesus': 929, 'atm': 100, 'rachel': 1380, 'annoyed': 63, 'flying': 664, 'press': 1338, 'ruined': 1455, 'rove': 1448, 'saved': 1476, 'artist': 88, 'loose': 1050, 'funeral': 699, 'aswell': 96, 'planned': 1302, 'joy': 944, 'purple': 1362, 'blocked': 188, 'counting': 396, 'gtlt': 769, 'iamdiddy': 877, 'dr': 509, 'gb': 709, 'grateful': 754, 'dry': 528, 'christian': 333, 'pig': 1292, 'fault': 619, 'wed': 1899, 'trailer': 1784, 'dam': 433, 'florida': 660, 'content': 381, 'grandpa': 752, 'katie': 953, 'impression': 896, 'considering': 379, 'fab': 597, 'studio': 1657, 'pillow': 1293, 'exist': 589, 'sushi': 1688, 'literally': 1037, 'sex': 1519, 'urgh': 1845, 'chatting': 311, 'gnight': 728, 'useful': 1851, 'shooting': 1536, 'ankle': 62, 'dallas': 432, 'gr': 744, 'competition': 369, 'neck': 1178, 'bowl': 214, 'laughed': 998, 'signing': 1551, 'butter': 259, 'ew': 580, 'makeup': 1074, 'drawing': 513, 'ruin': 1454, 'canuck': 281, 'crashed': 408, 'revision': 1425, 'jimmy': 930, 'hearing': 812, 'actual': 13, 'cramp': 404, 'grandparent': 753, 'continue': 383}\n"
          ]
        }
      ]
    },
    {
      "cell_type": "code",
      "source": [
        "len(tfidfvec.vocabulary_)\n"
      ],
      "metadata": {
        "colab": {
          "base_uri": "https://localhost:8080/"
        },
        "id": "5-hKYpQle5Lm",
        "outputId": "8700ed1a-95c3-4607-d7b2-faeddb1ace26"
      },
      "execution_count": 40,
      "outputs": [
        {
          "output_type": "execute_result",
          "data": {
            "text/plain": [
              "2000"
            ]
          },
          "metadata": {},
          "execution_count": 40
        }
      ]
    },
    {
      "cell_type": "markdown",
      "source": [
        "**Word2Vec**"
      ],
      "metadata": {
        "id": "58sFGZ-ze_y9"
      }
    },
    {
      "cell_type": "code",
      "source": [
        "import gensim\n",
        "import nltk\n",
        "from nltk.tokenize import sent_tokenize\n",
        "from gensim.utils import simple_preprocess\n",
        "\n"
      ],
      "metadata": {
        "id": "7kipxC1Ve82g"
      },
      "execution_count": 41,
      "outputs": []
    },
    {
      "cell_type": "code",
      "source": [
        "# Download the 'punkt' resource\n",
        "nltk.download('punkt')"
      ],
      "metadata": {
        "colab": {
          "base_uri": "https://localhost:8080/"
        },
        "id": "vn4r_BKpfEJw",
        "outputId": "1f4ee3db-76a4-443f-89f2-83e4c5b57f02"
      },
      "execution_count": 42,
      "outputs": [
        {
          "output_type": "stream",
          "name": "stderr",
          "text": [
            "[nltk_data] Downloading package punkt to /root/nltk_data...\n",
            "[nltk_data]   Unzipping tokenizers/punkt.zip.\n"
          ]
        },
        {
          "output_type": "execute_result",
          "data": {
            "text/plain": [
              "True"
            ]
          },
          "metadata": {},
          "execution_count": 42
        }
      ]
    },
    {
      "cell_type": "code",
      "source": [
        "tweets = []\n",
        "for doc in data['content']: #We sentence tokenize our doc then do preprocessing\n",
        "    raw_sent = sent_tokenize(doc)\n",
        "    for sent in raw_sent:\n",
        "        tweets.append(simple_preprocess(sent))"
      ],
      "metadata": {
        "id": "7y7KAdLDfHrC"
      },
      "execution_count": 43,
      "outputs": []
    },
    {
      "cell_type": "code",
      "source": [
        "#Model building by default dimension is 100 in gensim\n",
        "model = gensim.models.Word2Vec(\n",
        "    window=10,\n",
        "    min_count=2\n",
        ")"
      ],
      "metadata": {
        "id": "oy0EIT5-fMW0"
      },
      "execution_count": 44,
      "outputs": []
    },
    {
      "cell_type": "code",
      "source": [
        "#building vocabulary\n",
        "model.build_vocab(tweets)"
      ],
      "metadata": {
        "id": "pdgiiwHtgB0k"
      },
      "execution_count": 45,
      "outputs": []
    },
    {
      "cell_type": "code",
      "source": [
        "#training our model (trained word2vec model)\n",
        "model.train(tweets, total_examples=model.corpus_count, epochs=model.epochs)"
      ],
      "metadata": {
        "colab": {
          "base_uri": "https://localhost:8080/"
        },
        "id": "8eQ8ZQxUgEm1",
        "outputId": "5536f713-c75d-419e-cbdc-ddff979cc11d"
      },
      "execution_count": 46,
      "outputs": [
        {
          "output_type": "execute_result",
          "data": {
            "text/plain": [
              "(1231526, 1515840)"
            ]
          },
          "metadata": {},
          "execution_count": 46
        }
      ]
    },
    {
      "cell_type": "code",
      "source": [
        "len(model.wv.index_to_key)   #no.of words in our vocabulary"
      ],
      "metadata": {
        "colab": {
          "base_uri": "https://localhost:8080/"
        },
        "id": "pUm4c3gegIVW",
        "outputId": "6ce5c928-a378-4350-a484-c8991c2f430f"
      },
      "execution_count": 47,
      "outputs": [
        {
          "output_type": "execute_result",
          "data": {
            "text/plain": [
              "13378"
            ]
          },
          "metadata": {},
          "execution_count": 47
        }
      ]
    },
    {
      "cell_type": "code",
      "source": [
        "#we created vector for our words, now we will create vector to represent our contents\n",
        "def document_vector(doc):\n",
        "    # remove out-of-vocabulary words\n",
        "    doc = [word for word in doc.split() if word in model.wv.index_to_key]\n",
        "    return np.mean(model.wv[doc], axis=0)"
      ],
      "metadata": {
        "id": "qynd4NhygMhQ"
      },
      "execution_count": 48,
      "outputs": []
    },
    {
      "cell_type": "code",
      "source": [
        "document_vector(data['content'].values[0])     #converted contents to vector with 100 dimension"
      ],
      "metadata": {
        "colab": {
          "base_uri": "https://localhost:8080/"
        },
        "id": "CP2oBnZ5gQjK",
        "outputId": "f4661911-9a76-4752-d341-48b7c53f7e20"
      },
      "execution_count": 49,
      "outputs": [
        {
          "output_type": "execute_result",
          "data": {
            "text/plain": [
              "array([-0.14145651,  0.18611047,  0.13536069, -0.03267511, -0.24071681,\n",
              "       -0.87720597,  0.21915528,  0.76676583, -0.23357293, -0.40700042,\n",
              "       -0.12702802, -0.26162043,  0.10840367, -0.00383445,  0.17102113,\n",
              "       -0.3418922 ,  0.02712939, -0.5269321 , -0.00885427, -0.5162739 ,\n",
              "        0.30035532,  0.09772775,  0.08715065, -0.08758625, -0.286594  ,\n",
              "        0.15122467, -0.2787127 , -0.29608187, -0.30492628,  0.2305985 ,\n",
              "        0.20178303,  0.1871085 ,  0.27940407, -0.5202638 ,  0.01879884,\n",
              "        0.44440627,  0.13530648, -0.2438735 , -0.07077756, -0.91936773,\n",
              "        0.00445092, -0.48194525, -0.15369458, -0.15989378,  0.57447976,\n",
              "       -0.26534793, -0.2684675 ,  0.11317737,  0.4479161 ,  0.073847  ,\n",
              "        0.16224945, -0.07804663, -0.15128718, -0.2901903 ,  0.10353071,\n",
              "        0.34591058,  0.08483   , -0.07244901, -0.08722448,  0.33009475,\n",
              "        0.23021881,  0.04863196, -0.11134457, -0.06724435, -0.26200584,\n",
              "        0.30318588,  0.00916045,  0.14422947, -0.54156023,  0.435763  ,\n",
              "       -0.34157357,  0.16437274,  0.3259118 , -0.10987959,  0.2854718 ,\n",
              "        0.05200132, -0.08422343, -0.05863257, -0.16427737,  0.05373612,\n",
              "        0.06639186, -0.07454382, -0.37682384,  0.40598202, -0.24595279,\n",
              "       -0.11968934,  0.15470263,  0.59448224,  0.62893707,  0.07101548,\n",
              "        0.5529811 ,  0.07726881,  0.12820505,  0.14823987,  0.4780087 ,\n",
              "        0.23798215,  0.22000606, -0.6242516 ,  0.14314388, -0.23353505],\n",
              "      dtype=float32)"
            ]
          },
          "metadata": {},
          "execution_count": 49
        }
      ]
    },
    {
      "cell_type": "code",
      "source": [
        "import numpy as np\n",
        "from tqdm import tqdm\n",
        "\n"
      ],
      "metadata": {
        "id": "luSjTu6_g3wZ"
      },
      "execution_count": 50,
      "outputs": []
    },
    {
      "cell_type": "code",
      "source": [
        "\n",
        "X = np.array(X)"
      ],
      "metadata": {
        "id": "Euhjd7j8_MWV"
      },
      "execution_count": 71,
      "outputs": []
    },
    {
      "cell_type": "markdown",
      "source": [
        "***Model Building and Evaluation***\n",
        "\n",
        "1. Logistic regression"
      ],
      "metadata": {
        "id": "VBSTUoCf2Yir"
      }
    },
    {
      "cell_type": "code",
      "source": [
        "## Using BOW"
      ],
      "metadata": {
        "id": "9-RUYcI0zq1X"
      },
      "execution_count": 51,
      "outputs": []
    },
    {
      "cell_type": "code",
      "source": [
        "from sklearn.linear_model import LogisticRegression\n",
        "lr= LogisticRegression()"
      ],
      "metadata": {
        "id": "fpCua32oztPf"
      },
      "execution_count": 52,
      "outputs": []
    },
    {
      "cell_type": "code",
      "source": [
        "lr.fit(x_train_bow,y_train)\n",
        "y_pred = lr.predict(x_test_bow)"
      ],
      "metadata": {
        "colab": {
          "base_uri": "https://localhost:8080/"
        },
        "id": "nsJZZw8S2nlK",
        "outputId": "eb04b046-e8cd-4cac-b554-45720da6dcae"
      },
      "execution_count": 53,
      "outputs": [
        {
          "output_type": "stream",
          "name": "stderr",
          "text": [
            "/usr/local/lib/python3.10/dist-packages/sklearn/linear_model/_logistic.py:458: ConvergenceWarning: lbfgs failed to converge (status=1):\n",
            "STOP: TOTAL NO. of ITERATIONS REACHED LIMIT.\n",
            "\n",
            "Increase the number of iterations (max_iter) or scale the data as shown in:\n",
            "    https://scikit-learn.org/stable/modules/preprocessing.html\n",
            "Please also refer to the documentation for alternative solver options:\n",
            "    https://scikit-learn.org/stable/modules/linear_model.html#logistic-regression\n",
            "  n_iter_i = _check_optimize_result(\n"
          ]
        }
      ]
    },
    {
      "cell_type": "code",
      "source": [
        "from sklearn.metrics import accuracy_score, recall_score, f1_score, confusion_matrix, classification_report\n",
        "accuracy_score(y_test,y_pred)"
      ],
      "metadata": {
        "colab": {
          "base_uri": "https://localhost:8080/"
        },
        "id": "UH_Df30Z2qJw",
        "outputId": "48cce15f-ed51-4098-bcc7-9c6981173978"
      },
      "execution_count": 54,
      "outputs": [
        {
          "output_type": "execute_result",
          "data": {
            "text/plain": [
              "0.27475"
            ]
          },
          "metadata": {},
          "execution_count": 54
        }
      ]
    },
    {
      "cell_type": "code",
      "source": [
        "## Using Tf-IDF"
      ],
      "metadata": {
        "id": "KWV8YQR32_pp"
      },
      "execution_count": 55,
      "outputs": []
    },
    {
      "cell_type": "code",
      "source": [
        "lr= LogisticRegression()\n",
        "lr.fit(x_train_tfidf,y_train)"
      ],
      "metadata": {
        "colab": {
          "base_uri": "https://localhost:8080/",
          "height": 238
        },
        "id": "dPAgx1TE3C8d",
        "outputId": "faeb39b0-f470-477a-b2e4-6fa06477a1a1"
      },
      "execution_count": 56,
      "outputs": [
        {
          "output_type": "stream",
          "name": "stderr",
          "text": [
            "/usr/local/lib/python3.10/dist-packages/sklearn/linear_model/_logistic.py:458: ConvergenceWarning: lbfgs failed to converge (status=1):\n",
            "STOP: TOTAL NO. of ITERATIONS REACHED LIMIT.\n",
            "\n",
            "Increase the number of iterations (max_iter) or scale the data as shown in:\n",
            "    https://scikit-learn.org/stable/modules/preprocessing.html\n",
            "Please also refer to the documentation for alternative solver options:\n",
            "    https://scikit-learn.org/stable/modules/linear_model.html#logistic-regression\n",
            "  n_iter_i = _check_optimize_result(\n"
          ]
        },
        {
          "output_type": "execute_result",
          "data": {
            "text/plain": [
              "LogisticRegression()"
            ],
            "text/html": [
              "<style>#sk-container-id-1 {color: black;background-color: white;}#sk-container-id-1 pre{padding: 0;}#sk-container-id-1 div.sk-toggleable {background-color: white;}#sk-container-id-1 label.sk-toggleable__label {cursor: pointer;display: block;width: 100%;margin-bottom: 0;padding: 0.3em;box-sizing: border-box;text-align: center;}#sk-container-id-1 label.sk-toggleable__label-arrow:before {content: \"▸\";float: left;margin-right: 0.25em;color: #696969;}#sk-container-id-1 label.sk-toggleable__label-arrow:hover:before {color: black;}#sk-container-id-1 div.sk-estimator:hover label.sk-toggleable__label-arrow:before {color: black;}#sk-container-id-1 div.sk-toggleable__content {max-height: 0;max-width: 0;overflow: hidden;text-align: left;background-color: #f0f8ff;}#sk-container-id-1 div.sk-toggleable__content pre {margin: 0.2em;color: black;border-radius: 0.25em;background-color: #f0f8ff;}#sk-container-id-1 input.sk-toggleable__control:checked~div.sk-toggleable__content {max-height: 200px;max-width: 100%;overflow: auto;}#sk-container-id-1 input.sk-toggleable__control:checked~label.sk-toggleable__label-arrow:before {content: \"▾\";}#sk-container-id-1 div.sk-estimator input.sk-toggleable__control:checked~label.sk-toggleable__label {background-color: #d4ebff;}#sk-container-id-1 div.sk-label input.sk-toggleable__control:checked~label.sk-toggleable__label {background-color: #d4ebff;}#sk-container-id-1 input.sk-hidden--visually {border: 0;clip: rect(1px 1px 1px 1px);clip: rect(1px, 1px, 1px, 1px);height: 1px;margin: -1px;overflow: hidden;padding: 0;position: absolute;width: 1px;}#sk-container-id-1 div.sk-estimator {font-family: monospace;background-color: #f0f8ff;border: 1px dotted black;border-radius: 0.25em;box-sizing: border-box;margin-bottom: 0.5em;}#sk-container-id-1 div.sk-estimator:hover {background-color: #d4ebff;}#sk-container-id-1 div.sk-parallel-item::after {content: \"\";width: 100%;border-bottom: 1px solid gray;flex-grow: 1;}#sk-container-id-1 div.sk-label:hover label.sk-toggleable__label {background-color: #d4ebff;}#sk-container-id-1 div.sk-serial::before {content: \"\";position: absolute;border-left: 1px solid gray;box-sizing: border-box;top: 0;bottom: 0;left: 50%;z-index: 0;}#sk-container-id-1 div.sk-serial {display: flex;flex-direction: column;align-items: center;background-color: white;padding-right: 0.2em;padding-left: 0.2em;position: relative;}#sk-container-id-1 div.sk-item {position: relative;z-index: 1;}#sk-container-id-1 div.sk-parallel {display: flex;align-items: stretch;justify-content: center;background-color: white;position: relative;}#sk-container-id-1 div.sk-item::before, #sk-container-id-1 div.sk-parallel-item::before {content: \"\";position: absolute;border-left: 1px solid gray;box-sizing: border-box;top: 0;bottom: 0;left: 50%;z-index: -1;}#sk-container-id-1 div.sk-parallel-item {display: flex;flex-direction: column;z-index: 1;position: relative;background-color: white;}#sk-container-id-1 div.sk-parallel-item:first-child::after {align-self: flex-end;width: 50%;}#sk-container-id-1 div.sk-parallel-item:last-child::after {align-self: flex-start;width: 50%;}#sk-container-id-1 div.sk-parallel-item:only-child::after {width: 0;}#sk-container-id-1 div.sk-dashed-wrapped {border: 1px dashed gray;margin: 0 0.4em 0.5em 0.4em;box-sizing: border-box;padding-bottom: 0.4em;background-color: white;}#sk-container-id-1 div.sk-label label {font-family: monospace;font-weight: bold;display: inline-block;line-height: 1.2em;}#sk-container-id-1 div.sk-label-container {text-align: center;}#sk-container-id-1 div.sk-container {/* jupyter's `normalize.less` sets `[hidden] { display: none; }` but bootstrap.min.css set `[hidden] { display: none !important; }` so we also need the `!important` here to be able to override the default hidden behavior on the sphinx rendered scikit-learn.org. See: https://github.com/scikit-learn/scikit-learn/issues/21755 */display: inline-block !important;position: relative;}#sk-container-id-1 div.sk-text-repr-fallback {display: none;}</style><div id=\"sk-container-id-1\" class=\"sk-top-container\"><div class=\"sk-text-repr-fallback\"><pre>LogisticRegression()</pre><b>In a Jupyter environment, please rerun this cell to show the HTML representation or trust the notebook. <br />On GitHub, the HTML representation is unable to render, please try loading this page with nbviewer.org.</b></div><div class=\"sk-container\" hidden><div class=\"sk-item\"><div class=\"sk-estimator sk-toggleable\"><input class=\"sk-toggleable__control sk-hidden--visually\" id=\"sk-estimator-id-1\" type=\"checkbox\" checked><label for=\"sk-estimator-id-1\" class=\"sk-toggleable__label sk-toggleable__label-arrow\">LogisticRegression</label><div class=\"sk-toggleable__content\"><pre>LogisticRegression()</pre></div></div></div></div></div>"
            ]
          },
          "metadata": {},
          "execution_count": 56
        }
      ]
    },
    {
      "cell_type": "code",
      "source": [
        "y_pred = lr.predict(x_test_tfidf)\n",
        "accuracy_score(y_test,y_pred)"
      ],
      "metadata": {
        "colab": {
          "base_uri": "https://localhost:8080/"
        },
        "id": "0Ed9Ax2U3FKA",
        "outputId": "ce020a27-1f54-459a-b298-8ed805deed0e"
      },
      "execution_count": 57,
      "outputs": [
        {
          "output_type": "execute_result",
          "data": {
            "text/plain": [
              "0.282"
            ]
          },
          "metadata": {},
          "execution_count": 57
        }
      ]
    },
    {
      "cell_type": "markdown",
      "source": [
        "2. GaussianNB"
      ],
      "metadata": {
        "id": "8JKA_C9i3du4"
      }
    },
    {
      "cell_type": "code",
      "source": [
        "## Using BOW"
      ],
      "metadata": {
        "id": "-YqkVSIq3aLC"
      },
      "execution_count": 58,
      "outputs": []
    },
    {
      "cell_type": "code",
      "source": [
        "#Gaussian Naive Bayes algorithm\n",
        "from sklearn.naive_bayes import GaussianNB\n",
        "gnb = GaussianNB()\n",
        "\n",
        "gnb.fit(x_train_bow,y_train)"
      ],
      "metadata": {
        "colab": {
          "base_uri": "https://localhost:8080/",
          "height": 75
        },
        "id": "5EoIme1r3iRw",
        "outputId": "cc36a1e8-11ad-457c-c6b2-e36e05bc6d54"
      },
      "execution_count": 59,
      "outputs": [
        {
          "output_type": "execute_result",
          "data": {
            "text/plain": [
              "GaussianNB()"
            ],
            "text/html": [
              "<style>#sk-container-id-2 {color: black;background-color: white;}#sk-container-id-2 pre{padding: 0;}#sk-container-id-2 div.sk-toggleable {background-color: white;}#sk-container-id-2 label.sk-toggleable__label {cursor: pointer;display: block;width: 100%;margin-bottom: 0;padding: 0.3em;box-sizing: border-box;text-align: center;}#sk-container-id-2 label.sk-toggleable__label-arrow:before {content: \"▸\";float: left;margin-right: 0.25em;color: #696969;}#sk-container-id-2 label.sk-toggleable__label-arrow:hover:before {color: black;}#sk-container-id-2 div.sk-estimator:hover label.sk-toggleable__label-arrow:before {color: black;}#sk-container-id-2 div.sk-toggleable__content {max-height: 0;max-width: 0;overflow: hidden;text-align: left;background-color: #f0f8ff;}#sk-container-id-2 div.sk-toggleable__content pre {margin: 0.2em;color: black;border-radius: 0.25em;background-color: #f0f8ff;}#sk-container-id-2 input.sk-toggleable__control:checked~div.sk-toggleable__content {max-height: 200px;max-width: 100%;overflow: auto;}#sk-container-id-2 input.sk-toggleable__control:checked~label.sk-toggleable__label-arrow:before {content: \"▾\";}#sk-container-id-2 div.sk-estimator input.sk-toggleable__control:checked~label.sk-toggleable__label {background-color: #d4ebff;}#sk-container-id-2 div.sk-label input.sk-toggleable__control:checked~label.sk-toggleable__label {background-color: #d4ebff;}#sk-container-id-2 input.sk-hidden--visually {border: 0;clip: rect(1px 1px 1px 1px);clip: rect(1px, 1px, 1px, 1px);height: 1px;margin: -1px;overflow: hidden;padding: 0;position: absolute;width: 1px;}#sk-container-id-2 div.sk-estimator {font-family: monospace;background-color: #f0f8ff;border: 1px dotted black;border-radius: 0.25em;box-sizing: border-box;margin-bottom: 0.5em;}#sk-container-id-2 div.sk-estimator:hover {background-color: #d4ebff;}#sk-container-id-2 div.sk-parallel-item::after {content: \"\";width: 100%;border-bottom: 1px solid gray;flex-grow: 1;}#sk-container-id-2 div.sk-label:hover label.sk-toggleable__label {background-color: #d4ebff;}#sk-container-id-2 div.sk-serial::before {content: \"\";position: absolute;border-left: 1px solid gray;box-sizing: border-box;top: 0;bottom: 0;left: 50%;z-index: 0;}#sk-container-id-2 div.sk-serial {display: flex;flex-direction: column;align-items: center;background-color: white;padding-right: 0.2em;padding-left: 0.2em;position: relative;}#sk-container-id-2 div.sk-item {position: relative;z-index: 1;}#sk-container-id-2 div.sk-parallel {display: flex;align-items: stretch;justify-content: center;background-color: white;position: relative;}#sk-container-id-2 div.sk-item::before, #sk-container-id-2 div.sk-parallel-item::before {content: \"\";position: absolute;border-left: 1px solid gray;box-sizing: border-box;top: 0;bottom: 0;left: 50%;z-index: -1;}#sk-container-id-2 div.sk-parallel-item {display: flex;flex-direction: column;z-index: 1;position: relative;background-color: white;}#sk-container-id-2 div.sk-parallel-item:first-child::after {align-self: flex-end;width: 50%;}#sk-container-id-2 div.sk-parallel-item:last-child::after {align-self: flex-start;width: 50%;}#sk-container-id-2 div.sk-parallel-item:only-child::after {width: 0;}#sk-container-id-2 div.sk-dashed-wrapped {border: 1px dashed gray;margin: 0 0.4em 0.5em 0.4em;box-sizing: border-box;padding-bottom: 0.4em;background-color: white;}#sk-container-id-2 div.sk-label label {font-family: monospace;font-weight: bold;display: inline-block;line-height: 1.2em;}#sk-container-id-2 div.sk-label-container {text-align: center;}#sk-container-id-2 div.sk-container {/* jupyter's `normalize.less` sets `[hidden] { display: none; }` but bootstrap.min.css set `[hidden] { display: none !important; }` so we also need the `!important` here to be able to override the default hidden behavior on the sphinx rendered scikit-learn.org. See: https://github.com/scikit-learn/scikit-learn/issues/21755 */display: inline-block !important;position: relative;}#sk-container-id-2 div.sk-text-repr-fallback {display: none;}</style><div id=\"sk-container-id-2\" class=\"sk-top-container\"><div class=\"sk-text-repr-fallback\"><pre>GaussianNB()</pre><b>In a Jupyter environment, please rerun this cell to show the HTML representation or trust the notebook. <br />On GitHub, the HTML representation is unable to render, please try loading this page with nbviewer.org.</b></div><div class=\"sk-container\" hidden><div class=\"sk-item\"><div class=\"sk-estimator sk-toggleable\"><input class=\"sk-toggleable__control sk-hidden--visually\" id=\"sk-estimator-id-2\" type=\"checkbox\" checked><label for=\"sk-estimator-id-2\" class=\"sk-toggleable__label sk-toggleable__label-arrow\">GaussianNB</label><div class=\"sk-toggleable__content\"><pre>GaussianNB()</pre></div></div></div></div></div>"
            ]
          },
          "metadata": {},
          "execution_count": 59
        }
      ]
    },
    {
      "cell_type": "code",
      "source": [
        "y_pred = gnb.predict(x_test_bow)\n",
        "\n",
        "from sklearn.metrics import accuracy_score,confusion_matrix\n",
        "accuracy_score(y_test,y_pred)"
      ],
      "metadata": {
        "colab": {
          "base_uri": "https://localhost:8080/"
        },
        "id": "kvaTkIza3lMk",
        "outputId": "4c294c15-b6e5-488d-a8ec-cf9c7f969117"
      },
      "execution_count": 60,
      "outputs": [
        {
          "output_type": "execute_result",
          "data": {
            "text/plain": [
              "0.038125"
            ]
          },
          "metadata": {},
          "execution_count": 60
        }
      ]
    },
    {
      "cell_type": "code",
      "source": [
        "## Using TF-IDF"
      ],
      "metadata": {
        "id": "genSoviW3oCN"
      },
      "execution_count": 61,
      "outputs": []
    },
    {
      "cell_type": "code",
      "source": [
        "gnb = GaussianNB()\n",
        "\n",
        "gnb.fit(x_train_tfidf,y_train)"
      ],
      "metadata": {
        "colab": {
          "base_uri": "https://localhost:8080/",
          "height": 75
        },
        "id": "ZrFCmcdb3sGo",
        "outputId": "5a1c13d4-3a65-4813-caa4-2e26a17235a4"
      },
      "execution_count": 62,
      "outputs": [
        {
          "output_type": "execute_result",
          "data": {
            "text/plain": [
              "GaussianNB()"
            ],
            "text/html": [
              "<style>#sk-container-id-3 {color: black;background-color: white;}#sk-container-id-3 pre{padding: 0;}#sk-container-id-3 div.sk-toggleable {background-color: white;}#sk-container-id-3 label.sk-toggleable__label {cursor: pointer;display: block;width: 100%;margin-bottom: 0;padding: 0.3em;box-sizing: border-box;text-align: center;}#sk-container-id-3 label.sk-toggleable__label-arrow:before {content: \"▸\";float: left;margin-right: 0.25em;color: #696969;}#sk-container-id-3 label.sk-toggleable__label-arrow:hover:before {color: black;}#sk-container-id-3 div.sk-estimator:hover label.sk-toggleable__label-arrow:before {color: black;}#sk-container-id-3 div.sk-toggleable__content {max-height: 0;max-width: 0;overflow: hidden;text-align: left;background-color: #f0f8ff;}#sk-container-id-3 div.sk-toggleable__content pre {margin: 0.2em;color: black;border-radius: 0.25em;background-color: #f0f8ff;}#sk-container-id-3 input.sk-toggleable__control:checked~div.sk-toggleable__content {max-height: 200px;max-width: 100%;overflow: auto;}#sk-container-id-3 input.sk-toggleable__control:checked~label.sk-toggleable__label-arrow:before {content: \"▾\";}#sk-container-id-3 div.sk-estimator input.sk-toggleable__control:checked~label.sk-toggleable__label {background-color: #d4ebff;}#sk-container-id-3 div.sk-label input.sk-toggleable__control:checked~label.sk-toggleable__label {background-color: #d4ebff;}#sk-container-id-3 input.sk-hidden--visually {border: 0;clip: rect(1px 1px 1px 1px);clip: rect(1px, 1px, 1px, 1px);height: 1px;margin: -1px;overflow: hidden;padding: 0;position: absolute;width: 1px;}#sk-container-id-3 div.sk-estimator {font-family: monospace;background-color: #f0f8ff;border: 1px dotted black;border-radius: 0.25em;box-sizing: border-box;margin-bottom: 0.5em;}#sk-container-id-3 div.sk-estimator:hover {background-color: #d4ebff;}#sk-container-id-3 div.sk-parallel-item::after {content: \"\";width: 100%;border-bottom: 1px solid gray;flex-grow: 1;}#sk-container-id-3 div.sk-label:hover label.sk-toggleable__label {background-color: #d4ebff;}#sk-container-id-3 div.sk-serial::before {content: \"\";position: absolute;border-left: 1px solid gray;box-sizing: border-box;top: 0;bottom: 0;left: 50%;z-index: 0;}#sk-container-id-3 div.sk-serial {display: flex;flex-direction: column;align-items: center;background-color: white;padding-right: 0.2em;padding-left: 0.2em;position: relative;}#sk-container-id-3 div.sk-item {position: relative;z-index: 1;}#sk-container-id-3 div.sk-parallel {display: flex;align-items: stretch;justify-content: center;background-color: white;position: relative;}#sk-container-id-3 div.sk-item::before, #sk-container-id-3 div.sk-parallel-item::before {content: \"\";position: absolute;border-left: 1px solid gray;box-sizing: border-box;top: 0;bottom: 0;left: 50%;z-index: -1;}#sk-container-id-3 div.sk-parallel-item {display: flex;flex-direction: column;z-index: 1;position: relative;background-color: white;}#sk-container-id-3 div.sk-parallel-item:first-child::after {align-self: flex-end;width: 50%;}#sk-container-id-3 div.sk-parallel-item:last-child::after {align-self: flex-start;width: 50%;}#sk-container-id-3 div.sk-parallel-item:only-child::after {width: 0;}#sk-container-id-3 div.sk-dashed-wrapped {border: 1px dashed gray;margin: 0 0.4em 0.5em 0.4em;box-sizing: border-box;padding-bottom: 0.4em;background-color: white;}#sk-container-id-3 div.sk-label label {font-family: monospace;font-weight: bold;display: inline-block;line-height: 1.2em;}#sk-container-id-3 div.sk-label-container {text-align: center;}#sk-container-id-3 div.sk-container {/* jupyter's `normalize.less` sets `[hidden] { display: none; }` but bootstrap.min.css set `[hidden] { display: none !important; }` so we also need the `!important` here to be able to override the default hidden behavior on the sphinx rendered scikit-learn.org. See: https://github.com/scikit-learn/scikit-learn/issues/21755 */display: inline-block !important;position: relative;}#sk-container-id-3 div.sk-text-repr-fallback {display: none;}</style><div id=\"sk-container-id-3\" class=\"sk-top-container\"><div class=\"sk-text-repr-fallback\"><pre>GaussianNB()</pre><b>In a Jupyter environment, please rerun this cell to show the HTML representation or trust the notebook. <br />On GitHub, the HTML representation is unable to render, please try loading this page with nbviewer.org.</b></div><div class=\"sk-container\" hidden><div class=\"sk-item\"><div class=\"sk-estimator sk-toggleable\"><input class=\"sk-toggleable__control sk-hidden--visually\" id=\"sk-estimator-id-3\" type=\"checkbox\" checked><label for=\"sk-estimator-id-3\" class=\"sk-toggleable__label sk-toggleable__label-arrow\">GaussianNB</label><div class=\"sk-toggleable__content\"><pre>GaussianNB()</pre></div></div></div></div></div>"
            ]
          },
          "metadata": {},
          "execution_count": 62
        }
      ]
    },
    {
      "cell_type": "code",
      "source": [
        "y_pred = gnb.predict(x_test_tfidf)\n",
        "\n",
        "accuracy_score(y_test,y_pred)"
      ],
      "metadata": {
        "colab": {
          "base_uri": "https://localhost:8080/"
        },
        "id": "c34ZKFPX3vBg",
        "outputId": "be8766ee-d42d-4c13-bf8c-a03530a6b7f1"
      },
      "execution_count": 63,
      "outputs": [
        {
          "output_type": "execute_result",
          "data": {
            "text/plain": [
              "0.0385"
            ]
          },
          "metadata": {},
          "execution_count": 63
        }
      ]
    },
    {
      "cell_type": "markdown",
      "source": [
        "3. RandomForestClassifier"
      ],
      "metadata": {
        "id": "StJ5a5nH37Oj"
      }
    },
    {
      "cell_type": "code",
      "source": [
        "## Using BOW"
      ],
      "metadata": {
        "id": "s3kjAqAF3xsH"
      },
      "execution_count": 64,
      "outputs": []
    },
    {
      "cell_type": "code",
      "source": [
        "from sklearn.ensemble import RandomForestClassifier\n",
        "rf = RandomForestClassifier()\n",
        "\n",
        "rf.fit(x_train_bow,y_train)\n",
        "y_pred = rf.predict(x_test_bow)\n",
        "accuracy_score(y_test,y_pred)"
      ],
      "metadata": {
        "colab": {
          "base_uri": "https://localhost:8080/"
        },
        "id": "2orWMdvQ3-8f",
        "outputId": "d5074237-de14-4ba5-8fa0-51594e7b2226"
      },
      "execution_count": 65,
      "outputs": [
        {
          "output_type": "execute_result",
          "data": {
            "text/plain": [
              "0.248125"
            ]
          },
          "metadata": {},
          "execution_count": 65
        }
      ]
    },
    {
      "cell_type": "code",
      "source": [
        "## Using TF-IDF"
      ],
      "metadata": {
        "id": "5rMM3Pxh4MwM"
      },
      "execution_count": 67,
      "outputs": []
    },
    {
      "cell_type": "code",
      "source": [
        "rf = RandomForestClassifier()\n",
        "\n",
        "rf.fit(x_train_tfidf,y_train)\n",
        "y_pred = rf.predict(x_test_tfidf)\n",
        "accuracy_score(y_test,y_pred)"
      ],
      "metadata": {
        "colab": {
          "base_uri": "https://localhost:8080/"
        },
        "id": "ZOBwLOA74QUf",
        "outputId": "b7883e49-0fa4-4f0b-e97e-574596e5f59e"
      },
      "execution_count": 70,
      "outputs": [
        {
          "output_type": "execute_result",
          "data": {
            "text/plain": [
              "0.25625"
            ]
          },
          "metadata": {},
          "execution_count": 70
        }
      ]
    },
    {
      "cell_type": "markdown",
      "source": [
        "Out of the above comparitively accuracy is high for **Logistic Regression Model with TF-IDF** feature extraction technique.\n",
        "Hence,Best performing one in this case is Logistic Regression model with TF-IDF feature extraction technique\n",
        "\n",
        "Now, we will try increasing no.of features"
      ],
      "metadata": {
        "id": "2IEDRsJW4aEj"
      }
    },
    {
      "cell_type": "code",
      "source": [
        "## With max features = 10000"
      ],
      "metadata": {
        "id": "-SM8RyEI4S0Y"
      },
      "execution_count": 72,
      "outputs": []
    },
    {
      "cell_type": "code",
      "source": [
        "cv = CountVectorizer(max_features=10000)\n",
        "\n",
        "x_train_bow = cv.fit_transform(x_train['content']).toarray()\n",
        "x_test_bow = cv.transform(x_test['content']).toarray()\n",
        "\n",
        "\n",
        "lr= LogisticRegression()\n",
        "\n",
        "lr.fit(x_train_bow,y_train)\n",
        "y_pred = lr.predict(x_test_bow)\n",
        "accuracy_score(y_test,y_pred)"
      ],
      "metadata": {
        "colab": {
          "base_uri": "https://localhost:8080/"
        },
        "id": "h0TF6TRxBCsZ",
        "outputId": "9040d02f-adb2-4a66-b444-115cf1a92182"
      },
      "execution_count": 74,
      "outputs": [
        {
          "output_type": "stream",
          "name": "stderr",
          "text": [
            "/usr/local/lib/python3.10/dist-packages/sklearn/linear_model/_logistic.py:458: ConvergenceWarning: lbfgs failed to converge (status=1):\n",
            "STOP: TOTAL NO. of ITERATIONS REACHED LIMIT.\n",
            "\n",
            "Increase the number of iterations (max_iter) or scale the data as shown in:\n",
            "    https://scikit-learn.org/stable/modules/preprocessing.html\n",
            "Please also refer to the documentation for alternative solver options:\n",
            "    https://scikit-learn.org/stable/modules/linear_model.html#logistic-regression\n",
            "  n_iter_i = _check_optimize_result(\n"
          ]
        },
        {
          "output_type": "execute_result",
          "data": {
            "text/plain": [
              "0.339375"
            ]
          },
          "metadata": {},
          "execution_count": 74
        }
      ]
    },
    {
      "cell_type": "code",
      "source": [
        "tfidfvec = TfidfVectorizer(max_features=10000)\n",
        "\n",
        "x_train_tfidf = tfidfvec.fit_transform(x_train['content']).toarray()\n",
        "x_test_tfidf = tfidfvec.transform(x_test['content']).toarray()\n",
        "\n",
        "lr= LogisticRegression()\n",
        "\n",
        "lr.fit(x_train_tfidf,y_train)\n",
        "y_pred = lr.predict(x_test_tfidf)\n",
        "accuracy_score(y_test,y_pred)"
      ],
      "metadata": {
        "colab": {
          "base_uri": "https://localhost:8080/"
        },
        "id": "9TFOWoh5BFrI",
        "outputId": "d27c190c-2aba-4faf-bf2a-9f657899734b"
      },
      "execution_count": 76,
      "outputs": [
        {
          "output_type": "stream",
          "name": "stderr",
          "text": [
            "/usr/local/lib/python3.10/dist-packages/sklearn/linear_model/_logistic.py:458: ConvergenceWarning: lbfgs failed to converge (status=1):\n",
            "STOP: TOTAL NO. of ITERATIONS REACHED LIMIT.\n",
            "\n",
            "Increase the number of iterations (max_iter) or scale the data as shown in:\n",
            "    https://scikit-learn.org/stable/modules/preprocessing.html\n",
            "Please also refer to the documentation for alternative solver options:\n",
            "    https://scikit-learn.org/stable/modules/linear_model.html#logistic-regression\n",
            "  n_iter_i = _check_optimize_result(\n"
          ]
        },
        {
          "output_type": "execute_result",
          "data": {
            "text/plain": [
              "0.352875"
            ]
          },
          "metadata": {},
          "execution_count": 76
        }
      ]
    },
    {
      "cell_type": "code",
      "source": [
        "from sklearn.metrics import accuracy_score, recall_score, f1_score, confusion_matrix, classification_report"
      ],
      "metadata": {
        "id": "IKy7jf2kCHPe"
      },
      "execution_count": 77,
      "outputs": []
    },
    {
      "cell_type": "code",
      "source": [
        "print('The accuracy score is: ', accuracy_score(y_test,y_pred))"
      ],
      "metadata": {
        "colab": {
          "base_uri": "https://localhost:8080/"
        },
        "id": "KDqNO-2lCVI5",
        "outputId": "d9f8eb69-8603-4c62-9fb9-49163fdcbef5"
      },
      "execution_count": 78,
      "outputs": [
        {
          "output_type": "stream",
          "name": "stdout",
          "text": [
            "The accuracy score is:  0.352875\n"
          ]
        }
      ]
    },
    {
      "cell_type": "code",
      "source": [
        "confusion_matrix(y_test,y_pred)"
      ],
      "metadata": {
        "colab": {
          "base_uri": "https://localhost:8080/"
        },
        "id": "MYtOfhrxCgVQ",
        "outputId": "08fc35c1-bf99-4726-ee08-07888492ff1e"
      },
      "execution_count": 82,
      "outputs": [
        {
          "output_type": "execute_result",
          "data": {
            "text/plain": [
              "array([[  0,   0,   0,   0,   0,   2,   2,   0,   8,   1,   2,   1,  10],\n",
              "       [  0,   1,   0,   0,   0,   1,   0,   1,  14,   0,   1,   0,  12],\n",
              "       [  0,   0,   0,   0,   1,  13,   1,   2, 100,   1,  10,   1,  39],\n",
              "       [  0,   0,   0,   0,   1,  28,   1,   8,  63,   0,   9,   1,  39],\n",
              "       [  0,   0,   0,   0,   9,  82,   1,  20, 118,   0,  12,   1,  86],\n",
              "       [  0,   0,   0,   0,  11, 380,   2,  87, 366,   5,  23,  11, 173],\n",
              "       [  0,   0,   0,   0,   0,   7,  35,   4,  65,   0,  48,   2, 103],\n",
              "       [  0,   0,   0,   0,   5, 166,   2, 302, 180,   2,  25,   1,  98],\n",
              "       [  0,   0,   0,   0,   9, 149,   6,  50, 935,   4,  90,   2, 434],\n",
              "       [  0,   0,   0,   0,   1,  43,   0,  18, 110,  17,  19,   1,  91],\n",
              "       [  0,   0,   0,   0,   3,  58,  10,  27, 262,   0, 280,   2, 393],\n",
              "       [  0,   0,   0,   0,   2,  70,   3,  27, 163,   1,  34,  11, 110],\n",
              "       [  0,   0,   0,   0,   7,  83,  14,  34, 553,   6, 206,   3, 853]])"
            ]
          },
          "metadata": {},
          "execution_count": 82
        }
      ]
    },
    {
      "cell_type": "code",
      "source": [
        "print(classification_report(y_test,y_pred))"
      ],
      "metadata": {
        "colab": {
          "base_uri": "https://localhost:8080/"
        },
        "id": "8Th94vapCmIV",
        "outputId": "44b76451-ae07-4876-ed09-9ffde12f8953"
      },
      "execution_count": 83,
      "outputs": [
        {
          "output_type": "stream",
          "name": "stdout",
          "text": [
            "              precision    recall  f1-score   support\n",
            "\n",
            "       anger       0.00      0.00      0.00        26\n",
            "     boredom       1.00      0.03      0.06        30\n",
            "       empty       0.00      0.00      0.00       168\n",
            "  enthusiasm       0.00      0.00      0.00       150\n",
            "         fun       0.18      0.03      0.05       329\n",
            "   happiness       0.35      0.36      0.36      1058\n",
            "        hate       0.45      0.13      0.21       264\n",
            "        love       0.52      0.39      0.44       781\n",
            "     neutral       0.32      0.56      0.41      1679\n",
            "      relief       0.46      0.06      0.10       300\n",
            "     sadness       0.37      0.27      0.31      1035\n",
            "    surprise       0.30      0.03      0.05       421\n",
            "       worry       0.35      0.48      0.41      1759\n",
            "\n",
            "    accuracy                           0.35      8000\n",
            "   macro avg       0.33      0.18      0.18      8000\n",
            "weighted avg       0.35      0.35      0.32      8000\n",
            "\n"
          ]
        },
        {
          "output_type": "stream",
          "name": "stderr",
          "text": [
            "/usr/local/lib/python3.10/dist-packages/sklearn/metrics/_classification.py:1344: UndefinedMetricWarning: Precision and F-score are ill-defined and being set to 0.0 in labels with no predicted samples. Use `zero_division` parameter to control this behavior.\n",
            "  _warn_prf(average, modifier, msg_start, len(result))\n",
            "/usr/local/lib/python3.10/dist-packages/sklearn/metrics/_classification.py:1344: UndefinedMetricWarning: Precision and F-score are ill-defined and being set to 0.0 in labels with no predicted samples. Use `zero_division` parameter to control this behavior.\n",
            "  _warn_prf(average, modifier, msg_start, len(result))\n",
            "/usr/local/lib/python3.10/dist-packages/sklearn/metrics/_classification.py:1344: UndefinedMetricWarning: Precision and F-score are ill-defined and being set to 0.0 in labels with no predicted samples. Use `zero_division` parameter to control this behavior.\n",
            "  _warn_prf(average, modifier, msg_start, len(result))\n"
          ]
        }
      ]
    },
    {
      "cell_type": "code",
      "source": [
        "import matplotlib.pyplot as plt\n",
        "import seaborn as sns"
      ],
      "metadata": {
        "id": "ET9UFCbNEvar"
      },
      "execution_count": 84,
      "outputs": []
    },
    {
      "cell_type": "code",
      "source": [
        "unique, counts = np.unique(y_pred, return_counts=True)\n",
        "counts_dict = dict(zip(unique, counts))\n",
        "# Define colors for each class\n",
        "colors = ['red', 'green','blue','yellow','orange']\n",
        "\n",
        "# Create a bar graph\n",
        "plt.bar(counts_dict.keys(), counts_dict.values(), color=colors)\n",
        "plt.xlabel('empty or sadness or enthusiasm or neutral')\n",
        "plt.ylabel('Count')\n",
        "plt.xticks(list(counts_dict.keys()))\n",
        "plt.title('Sentiment of the content')\n",
        "plt.show()"
      ],
      "metadata": {
        "colab": {
          "base_uri": "https://localhost:8080/",
          "height": 472
        },
        "id": "GhJzXp8VEwDn",
        "outputId": "d5f53d8f-a912-4ca7-e5c0-c40a7a21101f"
      },
      "execution_count": 85,
      "outputs": [
        {
          "output_type": "display_data",
          "data": {
            "text/plain": [
              "<Figure size 640x480 with 1 Axes>"
            ],
            "image/png": "[encoded data removed]"
          },
          "metadata": {}
        }
      ]
    },
    {
      "cell_type": "markdown",
      "source": [
        "# **CONCLUSION**\n",
        "\n",
        "**with max features as 10000, we got accuracy for logistic regression model as 0.35 while using TF-IDF feature extraction Technique**\n",
        "\n",
        "*The model might not fully capture the sentiments expressed in the text due to variations in language, expressions, or sarcasm.*\n",
        "\n",
        "*Different sentiment analysis models may have different levels of accuracy and may perform differently based on the specific dataset and text inputs.So the predictions may vary.*"
      ],
      "metadata": {
        "id": "PgeTwgtfJqwY"
      }
    }
  ]
}